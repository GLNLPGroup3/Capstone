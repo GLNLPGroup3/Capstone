{
  "nbformat": 4,
  "nbformat_minor": 0,
  "metadata": {
    "accelerator": "GPU",
    "colab": {
      "name": "NLP_Automated_Ticket_Assignment_Baseline.ipynb",
      "provenance": [],
      "collapsed_sections": [],
      "toc_visible": true
    },
    "kernelspec": {
      "display_name": "Python 3",
      "language": "python",
      "name": "python3"
    },
    "language_info": {
      "codemirror_mode": {
        "name": "ipython",
        "version": 3
      },
      "file_extension": ".py",
      "mimetype": "text/x-python",
      "name": "python",
      "nbconvert_exporter": "python",
      "pygments_lexer": "ipython3",
      "version": "3.7.4"
    }
  },
  "cells": [
    {
      "cell_type": "markdown",
      "metadata": {
        "colab_type": "text",
        "id": "pp68FAQf9aMN"
      },
      "source": [
        "# Great Learning - Capstone Project - NLP | Automated Ticket Assignment\n",
        "*  **Submitted By**: Gaurav, Karishma, Lavanya, Pallavi and Swati \n",
        "* **Status** : In-Progress (EDA, Feature Engineering & Selection)\n",
        "* **Date of Submission** : TBD\n",
        "* **Dataset** : https://drive.google.com/drive/u/0/folders/1xOCdNI2R5hiodskIJbj-QySMQs6ccehL"
      ]
    },
    {
      "cell_type": "markdown",
      "metadata": {
        "colab_type": "text",
        "id": "EVHPD9ChfPUM"
      },
      "source": [
        "# Problem Statement\n",
        "One of the key activities of any IT function is to ensure there is no impact to the Business operations through Incident Management process. An incident is an unplanned interruption to an IT service or reduction in the quality of an IT service that affects the Users and the Business.\n",
        "\n",
        "The main goal of Incident Management process is to provide a quick fix / workarounds or solutions that resolves the interruption and restores the service to its full capacity to ensure no business impact.\n",
        "\n",
        "These incidents are created by various stakeholders (Business Users, IT Users and Monitoring Tools) within IT Service Management Tool and are assigned to Service Desk teams (L1 / L2 teams). \n",
        "\n",
        "**The goal of this project is to build a classifier that can classify the incidents by analysing text**.\n",
        "\n",
        "\n",
        "# Solution\n",
        "The solution is to build a classification model that can analyse the text and classify to appropriate Service Desk team.\n",
        "\n",
        "# Approach\n",
        "\n",
        "\n",
        "*   Analyse and Understand the structure of data\n",
        "*   Visualize data\n",
        "*   Text preprocessing\n",
        "*   Create word vocabulary and Tokens\n",
        "*   Build a Classification model\n",
        "*   Train the model\n",
        "*   Test the Model "
      ]
    },
    {
      "cell_type": "markdown",
      "metadata": {
        "colab_type": "text",
        "id": "v9kv9tyJ77eF"
      },
      "source": [
        "## Get Required Files from Drive"
      ]
    },
    {
      "cell_type": "code",
      "metadata": {
        "colab_type": "code",
        "id": "D0O_n6OIEVyL",
        "outputId": "47878679-b0ef-4d45-e4b3-ec1016720c70",
        "colab": {
          "base_uri": "https://localhost:8080/",
          "height": 122
        }
      },
      "source": [
        "from google.colab import drive\n",
        "drive.mount('/content/drive')"
      ],
      "execution_count": 3,
      "outputs": [
        {
          "output_type": "stream",
          "text": [
            "Go to this URL in a browser: https://accounts.google.com/o/oauth2/auth?client_id=947318989803-6bn6qk8qdgf4n4g3pfee6491hc0brc4i.apps.googleusercontent.com&redirect_uri=urn%3aietf%3awg%3aoauth%3a2.0%3aoob&response_type=code&scope=email%20https%3a%2f%2fwww.googleapis.com%2fauth%2fdocs.test%20https%3a%2f%2fwww.googleapis.com%2fauth%2fdrive%20https%3a%2f%2fwww.googleapis.com%2fauth%2fdrive.photos.readonly%20https%3a%2f%2fwww.googleapis.com%2fauth%2fpeopleapi.readonly\n",
            "\n",
            "Enter your authorization code:\n",
            "··········\n",
            "Mounted at /content/drive\n"
          ],
          "name": "stdout"
        }
      ]
    },
    {
      "cell_type": "code",
      "metadata": {
        "colab_type": "code",
        "id": "0mgRpOvFMjKR",
        "outputId": "ca80adce-e039-4d6d-a01b-be184fe06dd6",
        "colab": {
          "base_uri": "https://localhost:8080/",
          "height": 34
        }
      },
      "source": [
        "# changing present working directory\n",
        "import os\n",
        "os.chdir(\"/content/drive/My Drive/Capstone Project\")\n",
        "os.getcwd()"
      ],
      "execution_count": 4,
      "outputs": [
        {
          "output_type": "execute_result",
          "data": {
            "text/plain": [
              "'/content/drive/My Drive/Capstone Project'"
            ]
          },
          "metadata": {
            "tags": []
          },
          "execution_count": 4
        }
      ]
    },
    {
      "cell_type": "code",
      "metadata": {
        "colab_type": "code",
        "id": "I24x8-gwTfq4",
        "colab": {}
      },
      "source": [
        "import numpy as np\n",
        "import pandas as pd\n",
        "\n",
        "import matplotlib.pyplot as plt\n",
        "import plotly.express as px\n",
        "%matplotlib inline\n",
        "import seaborn as sns\n",
        "sns.set(style=\"ticks\", color_codes=True)\n",
        "sns.set_palette(\"Spectral\")\n",
        "from wordcloud import WordCloud, STOPWORDS\n",
        "from sklearn.feature_extraction.text import TfidfVectorizer\n",
        "import DataPreprocessor as DP\n",
        "\n",
        "from pprint import pprint\n",
        "from sklearn import preprocessing \n",
        "\n",
        "import warnings\n",
        "warnings.filterwarnings(action='ignore')\n",
        "\n",
        "from sklearn.model_selection import train_test_split\n",
        "from sklearn.svm import SVC"
      ],
      "execution_count": 0,
      "outputs": []
    },
    {
      "cell_type": "code",
      "metadata": {
        "colab_type": "code",
        "id": "4USKhCiETnxY",
        "outputId": "2f9eaa34-d078-4b1d-8857-2680f3454c87",
        "colab": {
          "base_uri": "https://localhost:8080/",
          "height": 170
        }
      },
      "source": [
        "# NLTK Stop words\n",
        "import nltk\n",
        "nltk.download('stopwords')\n",
        "nltk.download('wordnet')\n",
        "nltk.download('averaged_perceptron_tagger')\n",
        "nltk.download('words')\n",
        "words = set(nltk.corpus.words.words())\n",
        "from nltk.corpus import stopwords\n",
        "stop_words = stopwords.words('english')\n",
        "stop_words.extend(['received from', 'hi', 'hello','i','am','cc','sir','good morning','gentles','dear','kind','best','please',''])\n",
        "from nltk.tokenize import word_tokenize \n",
        "from nltk.stem import PorterStemmer \n",
        "from nltk.stem import WordNetLemmatizer\n",
        "from gensim.utils import tokenize"
      ],
      "execution_count": 8,
      "outputs": [
        {
          "output_type": "stream",
          "text": [
            "[nltk_data] Downloading package stopwords to /root/nltk_data...\n",
            "[nltk_data]   Unzipping corpora/stopwords.zip.\n",
            "[nltk_data] Downloading package wordnet to /root/nltk_data...\n",
            "[nltk_data]   Unzipping corpora/wordnet.zip.\n",
            "[nltk_data] Downloading package averaged_perceptron_tagger to\n",
            "[nltk_data]     /root/nltk_data...\n",
            "[nltk_data]   Unzipping taggers/averaged_perceptron_tagger.zip.\n",
            "[nltk_data] Downloading package words to /root/nltk_data...\n",
            "[nltk_data]   Unzipping corpora/words.zip.\n"
          ],
          "name": "stdout"
        }
      ]
    },
    {
      "cell_type": "markdown",
      "metadata": {
        "colab_type": "text",
        "id": "WXYwajPeQbRq"
      },
      "source": [
        "#**## Reading and Exploring Data**"
      ]
    },
    {
      "cell_type": "markdown",
      "metadata": {
        "colab_type": "text",
        "id": "vAk6BRUh8CqL"
      },
      "source": [
        "## Reading Data \"Input Data Synthetic (created but not used in our project).xlsx\". Exploring the data and getting some insights about the data."
      ]
    },
    {
      "cell_type": "code",
      "metadata": {
        "colab_type": "code",
        "id": "-gE_xtSyeJeY",
        "outputId": "52db9f2d-cf55-4370-c2f6-efef0a55336c",
        "colab": {
          "base_uri": "https://localhost:8080/",
          "height": 204
        }
      },
      "source": [
        "# Read Dataset\n",
        "file_name = \"Ticket_Data.xlsx\" \n",
        "df = pd.read_excel(file_name,encoding='cp1252')\n",
        "df = df.rename(columns = {\"Short description\": \"Short_description\",\n",
        "                          \"Assignment group\": \"Group\"})\n",
        "DELETE_CALLER = False\n",
        "\n",
        "df.head()"
      ],
      "execution_count": 9,
      "outputs": [
        {
          "output_type": "execute_result",
          "data": {
            "text/html": [
              "<div>\n",
              "<style scoped>\n",
              "    .dataframe tbody tr th:only-of-type {\n",
              "        vertical-align: middle;\n",
              "    }\n",
              "\n",
              "    .dataframe tbody tr th {\n",
              "        vertical-align: top;\n",
              "    }\n",
              "\n",
              "    .dataframe thead th {\n",
              "        text-align: right;\n",
              "    }\n",
              "</style>\n",
              "<table border=\"1\" class=\"dataframe\">\n",
              "  <thead>\n",
              "    <tr style=\"text-align: right;\">\n",
              "      <th></th>\n",
              "      <th>Short_description</th>\n",
              "      <th>Description</th>\n",
              "      <th>Caller</th>\n",
              "      <th>Group</th>\n",
              "    </tr>\n",
              "  </thead>\n",
              "  <tbody>\n",
              "    <tr>\n",
              "      <th>0</th>\n",
              "      <td>login issue</td>\n",
              "      <td>-verified user details.(employee# &amp; manager na...</td>\n",
              "      <td>spxjnwir pjlcoqds</td>\n",
              "      <td>GRP_0</td>\n",
              "    </tr>\n",
              "    <tr>\n",
              "      <th>1</th>\n",
              "      <td>outlook</td>\n",
              "      <td>\\r\\n\\r\\nreceived from: hmjdrvpb.komuaywn@gmail...</td>\n",
              "      <td>hmjdrvpb komuaywn</td>\n",
              "      <td>GRP_0</td>\n",
              "    </tr>\n",
              "    <tr>\n",
              "      <th>2</th>\n",
              "      <td>cant log in to vpn</td>\n",
              "      <td>\\r\\n\\r\\nreceived from: eylqgodm.ybqkwiam@gmail...</td>\n",
              "      <td>eylqgodm ybqkwiam</td>\n",
              "      <td>GRP_0</td>\n",
              "    </tr>\n",
              "    <tr>\n",
              "      <th>3</th>\n",
              "      <td>unable to access hr_tool page</td>\n",
              "      <td>unable to access hr_tool page</td>\n",
              "      <td>xbkucsvz gcpydteq</td>\n",
              "      <td>GRP_0</td>\n",
              "    </tr>\n",
              "    <tr>\n",
              "      <th>4</th>\n",
              "      <td>skype error</td>\n",
              "      <td>skype error</td>\n",
              "      <td>owlgqjme qhcozdfx</td>\n",
              "      <td>GRP_0</td>\n",
              "    </tr>\n",
              "  </tbody>\n",
              "</table>\n",
              "</div>"
            ],
            "text/plain": [
              "               Short_description  ...  Group\n",
              "0                    login issue  ...  GRP_0\n",
              "1                        outlook  ...  GRP_0\n",
              "2             cant log in to vpn  ...  GRP_0\n",
              "3  unable to access hr_tool page  ...  GRP_0\n",
              "4                   skype error   ...  GRP_0\n",
              "\n",
              "[5 rows x 4 columns]"
            ]
          },
          "metadata": {
            "tags": []
          },
          "execution_count": 9
        }
      ]
    },
    {
      "cell_type": "code",
      "metadata": {
        "colab_type": "code",
        "id": "YfKfF24rtC6G",
        "outputId": "e84360ed-b08a-4f26-af20-364adf47c5f6",
        "colab": {
          "base_uri": "https://localhost:8080/",
          "height": 207
        }
      },
      "source": [
        "# Checking Shape of the data\n",
        "print(\"Data shape:\", df.shape)\n",
        "print(\"Data Description:\")\n",
        "df.describe()"
      ],
      "execution_count": 0,
      "outputs": [
        {
          "output_type": "stream",
          "text": [
            "Data shape: (8500, 4)\n",
            "Data Description:\n"
          ],
          "name": "stdout"
        },
        {
          "output_type": "execute_result",
          "data": {
            "text/html": [
              "<div>\n",
              "<style scoped>\n",
              "    .dataframe tbody tr th:only-of-type {\n",
              "        vertical-align: middle;\n",
              "    }\n",
              "\n",
              "    .dataframe tbody tr th {\n",
              "        vertical-align: top;\n",
              "    }\n",
              "\n",
              "    .dataframe thead th {\n",
              "        text-align: right;\n",
              "    }\n",
              "</style>\n",
              "<table border=\"1\" class=\"dataframe\">\n",
              "  <thead>\n",
              "    <tr style=\"text-align: right;\">\n",
              "      <th></th>\n",
              "      <th>Short_description</th>\n",
              "      <th>Description</th>\n",
              "      <th>Caller</th>\n",
              "      <th>Group</th>\n",
              "    </tr>\n",
              "  </thead>\n",
              "  <tbody>\n",
              "    <tr>\n",
              "      <th>count</th>\n",
              "      <td>8492</td>\n",
              "      <td>8499</td>\n",
              "      <td>8500</td>\n",
              "      <td>8500</td>\n",
              "    </tr>\n",
              "    <tr>\n",
              "      <th>unique</th>\n",
              "      <td>7481</td>\n",
              "      <td>7817</td>\n",
              "      <td>2950</td>\n",
              "      <td>74</td>\n",
              "    </tr>\n",
              "    <tr>\n",
              "      <th>top</th>\n",
              "      <td>password reset</td>\n",
              "      <td>the</td>\n",
              "      <td>bpctwhsn kzqsbmtp</td>\n",
              "      <td>GRP_0</td>\n",
              "    </tr>\n",
              "    <tr>\n",
              "      <th>freq</th>\n",
              "      <td>38</td>\n",
              "      <td>56</td>\n",
              "      <td>810</td>\n",
              "      <td>3976</td>\n",
              "    </tr>\n",
              "  </tbody>\n",
              "</table>\n",
              "</div>"
            ],
            "text/plain": [
              "       Short_description Description             Caller  Group\n",
              "count               8492        8499               8500   8500\n",
              "unique              7481        7817               2950     74\n",
              "top       password reset         the  bpctwhsn kzqsbmtp  GRP_0\n",
              "freq                  38          56                810   3976"
            ]
          },
          "metadata": {
            "tags": []
          },
          "execution_count": 41
        }
      ]
    },
    {
      "cell_type": "markdown",
      "metadata": {
        "colab_type": "text",
        "id": "Tyl__1vLgqv6"
      },
      "source": [
        "## Drop \"Caller\" column based on flag set by DELETE_CALLER. It seems to be anonymised data (usernames/ids). "
      ]
    },
    {
      "cell_type": "code",
      "metadata": {
        "colab_type": "code",
        "id": "ZaqBo4eygpo4",
        "outputId": "55123813-9e74-41f9-d182-2dd033ab4888",
        "colab": {
          "base_uri": "https://localhost:8080/",
          "height": 669
        }
      },
      "source": [
        "df_v1 = df\n",
        "if DELETE_CALLER:\n",
        "  df_v1 = df.drop('Caller',axis=1)\n",
        "else:\n",
        "  df_v1['Caller'] =  df_v1['Caller'].apply(lambda x: x.replace(\" \", \"_\"))\n",
        "df_v1.head(20)"
      ],
      "execution_count": 10,
      "outputs": [
        {
          "output_type": "execute_result",
          "data": {
            "text/html": [
              "<div>\n",
              "<style scoped>\n",
              "    .dataframe tbody tr th:only-of-type {\n",
              "        vertical-align: middle;\n",
              "    }\n",
              "\n",
              "    .dataframe tbody tr th {\n",
              "        vertical-align: top;\n",
              "    }\n",
              "\n",
              "    .dataframe thead th {\n",
              "        text-align: right;\n",
              "    }\n",
              "</style>\n",
              "<table border=\"1\" class=\"dataframe\">\n",
              "  <thead>\n",
              "    <tr style=\"text-align: right;\">\n",
              "      <th></th>\n",
              "      <th>Short_description</th>\n",
              "      <th>Description</th>\n",
              "      <th>Caller</th>\n",
              "      <th>Group</th>\n",
              "    </tr>\n",
              "  </thead>\n",
              "  <tbody>\n",
              "    <tr>\n",
              "      <th>0</th>\n",
              "      <td>login issue</td>\n",
              "      <td>-verified user details.(employee# &amp; manager na...</td>\n",
              "      <td>spxjnwir_pjlcoqds</td>\n",
              "      <td>GRP_0</td>\n",
              "    </tr>\n",
              "    <tr>\n",
              "      <th>1</th>\n",
              "      <td>outlook</td>\n",
              "      <td>\\r\\n\\r\\nreceived from: hmjdrvpb.komuaywn@gmail...</td>\n",
              "      <td>hmjdrvpb_komuaywn</td>\n",
              "      <td>GRP_0</td>\n",
              "    </tr>\n",
              "    <tr>\n",
              "      <th>2</th>\n",
              "      <td>cant log in to vpn</td>\n",
              "      <td>\\r\\n\\r\\nreceived from: eylqgodm.ybqkwiam@gmail...</td>\n",
              "      <td>eylqgodm_ybqkwiam</td>\n",
              "      <td>GRP_0</td>\n",
              "    </tr>\n",
              "    <tr>\n",
              "      <th>3</th>\n",
              "      <td>unable to access hr_tool page</td>\n",
              "      <td>unable to access hr_tool page</td>\n",
              "      <td>xbkucsvz_gcpydteq</td>\n",
              "      <td>GRP_0</td>\n",
              "    </tr>\n",
              "    <tr>\n",
              "      <th>4</th>\n",
              "      <td>skype error</td>\n",
              "      <td>skype error</td>\n",
              "      <td>owlgqjme_qhcozdfx</td>\n",
              "      <td>GRP_0</td>\n",
              "    </tr>\n",
              "    <tr>\n",
              "      <th>5</th>\n",
              "      <td>unable to log in to engineering tool and skype</td>\n",
              "      <td>unable to log in to engineering tool and skype</td>\n",
              "      <td>eflahbxn_ltdgrvkz</td>\n",
              "      <td>GRP_0</td>\n",
              "    </tr>\n",
              "    <tr>\n",
              "      <th>6</th>\n",
              "      <td>event: critical:HostName_221.company.com the v...</td>\n",
              "      <td>event: critical:HostName_221.company.com the v...</td>\n",
              "      <td>jyoqwxhz_clhxsoqy</td>\n",
              "      <td>GRP_1</td>\n",
              "    </tr>\n",
              "    <tr>\n",
              "      <th>7</th>\n",
              "      <td>ticket_no1550391- employment status - new non-...</td>\n",
              "      <td>ticket_no1550391- employment status - new non-...</td>\n",
              "      <td>eqzibjhw_ymebpoih</td>\n",
              "      <td>GRP_0</td>\n",
              "    </tr>\n",
              "    <tr>\n",
              "      <th>8</th>\n",
              "      <td>unable to disable add ins on outlook</td>\n",
              "      <td>unable to disable add ins on outlook</td>\n",
              "      <td>mdbegvct_dbvichlg</td>\n",
              "      <td>GRP_0</td>\n",
              "    </tr>\n",
              "    <tr>\n",
              "      <th>9</th>\n",
              "      <td>ticket update on inplant_874773</td>\n",
              "      <td>ticket update on inplant_874773</td>\n",
              "      <td>fumkcsji_sarmtlhy</td>\n",
              "      <td>GRP_0</td>\n",
              "    </tr>\n",
              "    <tr>\n",
              "      <th>10</th>\n",
              "      <td>engineering tool says not connected and unable...</td>\n",
              "      <td>engineering tool says not connected and unable...</td>\n",
              "      <td>badgknqs_xwelumfz</td>\n",
              "      <td>GRP_0</td>\n",
              "    </tr>\n",
              "    <tr>\n",
              "      <th>11</th>\n",
              "      <td>hr_tool site not loading page correctly</td>\n",
              "      <td>hr_tool site not loading page correctly</td>\n",
              "      <td>dcqsolkx_kmsijcuz</td>\n",
              "      <td>GRP_0</td>\n",
              "    </tr>\n",
              "    <tr>\n",
              "      <th>12</th>\n",
              "      <td>unable to login to hr_tool to sgxqsuojr xwbeso...</td>\n",
              "      <td>unable to login to hr_tool to sgxqsuojr xwbeso...</td>\n",
              "      <td>oblekmrw_qltgvspb</td>\n",
              "      <td>GRP_0</td>\n",
              "    </tr>\n",
              "    <tr>\n",
              "      <th>13</th>\n",
              "      <td>user wants to reset the password</td>\n",
              "      <td>user wants to reset the password</td>\n",
              "      <td>iftldbmu_fujslwby</td>\n",
              "      <td>GRP_0</td>\n",
              "    </tr>\n",
              "    <tr>\n",
              "      <th>14</th>\n",
              "      <td>unable to open payslips</td>\n",
              "      <td>unable to open payslips</td>\n",
              "      <td>epwyvjsz_najukwho</td>\n",
              "      <td>GRP_0</td>\n",
              "    </tr>\n",
              "    <tr>\n",
              "      <th>15</th>\n",
              "      <td>ticket update on inplant_874743</td>\n",
              "      <td>ticket update on inplant_874743</td>\n",
              "      <td>fumkcsji_sarmtlhy</td>\n",
              "      <td>GRP_0</td>\n",
              "    </tr>\n",
              "    <tr>\n",
              "      <th>16</th>\n",
              "      <td>unable to login to company vpn</td>\n",
              "      <td>\\n\\nreceived from: xyz@company.com\\n\\nhi,\\n\\ni...</td>\n",
              "      <td>chobktqj_qdamxfuc</td>\n",
              "      <td>GRP_0</td>\n",
              "    </tr>\n",
              "    <tr>\n",
              "      <th>17</th>\n",
              "      <td>when undocking pc , screen will not come back</td>\n",
              "      <td>when undocking pc , screen will not come back</td>\n",
              "      <td>sigfdwcj_reofwzlm</td>\n",
              "      <td>GRP_3</td>\n",
              "    </tr>\n",
              "    <tr>\n",
              "      <th>18</th>\n",
              "      <td>erp SID_34 account locked</td>\n",
              "      <td>erp SID_34 account locked</td>\n",
              "      <td>nqdyowsm_yqerwtna</td>\n",
              "      <td>GRP_0</td>\n",
              "    </tr>\n",
              "    <tr>\n",
              "      <th>19</th>\n",
              "      <td>unable to sign into vpn</td>\n",
              "      <td>unable to sign into vpn</td>\n",
              "      <td>ftsqkvre_bqzrupic</td>\n",
              "      <td>GRP_0</td>\n",
              "    </tr>\n",
              "  </tbody>\n",
              "</table>\n",
              "</div>"
            ],
            "text/plain": [
              "                                    Short_description  ...  Group\n",
              "0                                         login issue  ...  GRP_0\n",
              "1                                             outlook  ...  GRP_0\n",
              "2                                  cant log in to vpn  ...  GRP_0\n",
              "3                       unable to access hr_tool page  ...  GRP_0\n",
              "4                                        skype error   ...  GRP_0\n",
              "5      unable to log in to engineering tool and skype  ...  GRP_0\n",
              "6   event: critical:HostName_221.company.com the v...  ...  GRP_1\n",
              "7   ticket_no1550391- employment status - new non-...  ...  GRP_0\n",
              "8                unable to disable add ins on outlook  ...  GRP_0\n",
              "9                     ticket update on inplant_874773  ...  GRP_0\n",
              "10  engineering tool says not connected and unable...  ...  GRP_0\n",
              "11            hr_tool site not loading page correctly  ...  GRP_0\n",
              "12  unable to login to hr_tool to sgxqsuojr xwbeso...  ...  GRP_0\n",
              "13                   user wants to reset the password  ...  GRP_0\n",
              "14                           unable to open payslips   ...  GRP_0\n",
              "15                    ticket update on inplant_874743  ...  GRP_0\n",
              "16                     unable to login to company vpn  ...  GRP_0\n",
              "17      when undocking pc , screen will not come back  ...  GRP_3\n",
              "18                          erp SID_34 account locked  ...  GRP_0\n",
              "19                            unable to sign into vpn  ...  GRP_0\n",
              "\n",
              "[20 rows x 4 columns]"
            ]
          },
          "metadata": {
            "tags": []
          },
          "execution_count": 10
        }
      ]
    },
    {
      "cell_type": "code",
      "metadata": {
        "colab_type": "code",
        "id": "yEaRisVajfkB",
        "outputId": "d45c6b2f-8133-4e3a-aeab-1acb10fe7503",
        "colab": {
          "base_uri": "https://localhost:8080/",
          "height": 102
        }
      },
      "source": [
        "# Drop duplicate rows\n",
        "df_v1 = df_v1.drop_duplicates(keep='first', inplace=False)\n",
        "\n",
        "# Fetch rows with same data in \"Short_description\" & \"Description\"\n",
        "df_v1[df_v1['Short_description'] == df_v1['Description']].count()"
      ],
      "execution_count": 12,
      "outputs": [
        {
          "output_type": "execute_result",
          "data": {
            "text/plain": [
              "Short_description    2818\n",
              "Description          2818\n",
              "Caller               2818\n",
              "Group                2818\n",
              "dtype: int64"
            ]
          },
          "metadata": {
            "tags": []
          },
          "execution_count": 12
        }
      ]
    },
    {
      "cell_type": "markdown",
      "metadata": {
        "colab_type": "text",
        "id": "q7Mt7CDccCgD"
      },
      "source": [
        "## Finding & Imputing Null values in Short Description & Description columns"
      ]
    },
    {
      "cell_type": "code",
      "metadata": {
        "colab_type": "code",
        "id": "fR1T_AG1E882",
        "outputId": "272e8838-c359-451c-d0c2-f04e4bf45aa0",
        "colab": {
          "base_uri": "https://localhost:8080/",
          "height": 467
        }
      },
      "source": [
        "# Check for number of null values in each columns\n",
        "print(\"Total Null Values in data:\", df_v1.isnull().sum().sum())\n",
        "print(\"\\nNull Values accross columns:\\n\", df_v1.isnull().sum())\n",
        "print(\"\\nData with 'Null' Short Description\")\n",
        "df_v1.loc[df_v1['Short_description'].isnull()==True]"
      ],
      "execution_count": 13,
      "outputs": [
        {
          "output_type": "stream",
          "text": [
            "Total Null Values in data: 9\n",
            "\n",
            "Null Values accross columns:\n",
            " Short_description    8\n",
            "Description          1\n",
            "Caller               0\n",
            "Group                0\n",
            "dtype: int64\n",
            "\n",
            "Data with 'Null' Short Description\n"
          ],
          "name": "stdout"
        },
        {
          "output_type": "execute_result",
          "data": {
            "text/html": [
              "<div>\n",
              "<style scoped>\n",
              "    .dataframe tbody tr th:only-of-type {\n",
              "        vertical-align: middle;\n",
              "    }\n",
              "\n",
              "    .dataframe tbody tr th {\n",
              "        vertical-align: top;\n",
              "    }\n",
              "\n",
              "    .dataframe thead th {\n",
              "        text-align: right;\n",
              "    }\n",
              "</style>\n",
              "<table border=\"1\" class=\"dataframe\">\n",
              "  <thead>\n",
              "    <tr style=\"text-align: right;\">\n",
              "      <th></th>\n",
              "      <th>Short_description</th>\n",
              "      <th>Description</th>\n",
              "      <th>Caller</th>\n",
              "      <th>Group</th>\n",
              "    </tr>\n",
              "  </thead>\n",
              "  <tbody>\n",
              "    <tr>\n",
              "      <th>2604</th>\n",
              "      <td>NaN</td>\n",
              "      <td>\\r\\n\\r\\nreceived from: ohdrnswl.rezuibdt@gmail...</td>\n",
              "      <td>ohdrnswl_rezuibdt</td>\n",
              "      <td>GRP_34</td>\n",
              "    </tr>\n",
              "    <tr>\n",
              "      <th>3383</th>\n",
              "      <td>NaN</td>\n",
              "      <td>\\r\\n-connected to the user system using teamvi...</td>\n",
              "      <td>qftpazns_fxpnytmk</td>\n",
              "      <td>GRP_0</td>\n",
              "    </tr>\n",
              "    <tr>\n",
              "      <th>3906</th>\n",
              "      <td>NaN</td>\n",
              "      <td>-user unable  tologin to vpn.\\r\\n-connected to...</td>\n",
              "      <td>awpcmsey_ctdiuqwe</td>\n",
              "      <td>GRP_0</td>\n",
              "    </tr>\n",
              "    <tr>\n",
              "      <th>3910</th>\n",
              "      <td>NaN</td>\n",
              "      <td>-user unable  tologin to vpn.\\r\\n-connected to...</td>\n",
              "      <td>rhwsmefo_tvphyura</td>\n",
              "      <td>GRP_0</td>\n",
              "    </tr>\n",
              "    <tr>\n",
              "      <th>3915</th>\n",
              "      <td>NaN</td>\n",
              "      <td>-user unable  tologin to vpn.\\r\\n-connected to...</td>\n",
              "      <td>hxripljo_efzounig</td>\n",
              "      <td>GRP_0</td>\n",
              "    </tr>\n",
              "    <tr>\n",
              "      <th>3921</th>\n",
              "      <td>NaN</td>\n",
              "      <td>-user unable  tologin to vpn.\\r\\n-connected to...</td>\n",
              "      <td>cziadygo_veiosxby</td>\n",
              "      <td>GRP_0</td>\n",
              "    </tr>\n",
              "    <tr>\n",
              "      <th>3924</th>\n",
              "      <td>NaN</td>\n",
              "      <td>name:wvqgbdhm fwchqjor\\nlanguage:\\nbrowser:mic...</td>\n",
              "      <td>wvqgbdhm_fwchqjor</td>\n",
              "      <td>GRP_0</td>\n",
              "    </tr>\n",
              "    <tr>\n",
              "      <th>4341</th>\n",
              "      <td>NaN</td>\n",
              "      <td>\\r\\n\\r\\nreceived from: eqmuniov.ehxkcbgj@gmail...</td>\n",
              "      <td>eqmuniov_ehxkcbgj</td>\n",
              "      <td>GRP_0</td>\n",
              "    </tr>\n",
              "  </tbody>\n",
              "</table>\n",
              "</div>"
            ],
            "text/plain": [
              "     Short_description  ...   Group\n",
              "2604               NaN  ...  GRP_34\n",
              "3383               NaN  ...   GRP_0\n",
              "3906               NaN  ...   GRP_0\n",
              "3910               NaN  ...   GRP_0\n",
              "3915               NaN  ...   GRP_0\n",
              "3921               NaN  ...   GRP_0\n",
              "3924               NaN  ...   GRP_0\n",
              "4341               NaN  ...   GRP_0\n",
              "\n",
              "[8 rows x 4 columns]"
            ]
          },
          "metadata": {
            "tags": []
          },
          "execution_count": 13
        }
      ]
    },
    {
      "cell_type": "code",
      "metadata": {
        "colab_type": "code",
        "id": "Pe3nSM81ivz8",
        "outputId": "5d18201c-9b7b-4246-c5a3-3977a312519f",
        "colab": {
          "base_uri": "https://localhost:8080/",
          "height": 114
        }
      },
      "source": [
        "print(\"\\nData with 'Null' Description\")\n",
        "df_v1.loc[df_v1['Description'].isnull()==True]"
      ],
      "execution_count": 14,
      "outputs": [
        {
          "output_type": "stream",
          "text": [
            "\n",
            "Data with 'Null' Description\n"
          ],
          "name": "stdout"
        },
        {
          "output_type": "execute_result",
          "data": {
            "text/html": [
              "<div>\n",
              "<style scoped>\n",
              "    .dataframe tbody tr th:only-of-type {\n",
              "        vertical-align: middle;\n",
              "    }\n",
              "\n",
              "    .dataframe tbody tr th {\n",
              "        vertical-align: top;\n",
              "    }\n",
              "\n",
              "    .dataframe thead th {\n",
              "        text-align: right;\n",
              "    }\n",
              "</style>\n",
              "<table border=\"1\" class=\"dataframe\">\n",
              "  <thead>\n",
              "    <tr style=\"text-align: right;\">\n",
              "      <th></th>\n",
              "      <th>Short_description</th>\n",
              "      <th>Description</th>\n",
              "      <th>Caller</th>\n",
              "      <th>Group</th>\n",
              "    </tr>\n",
              "  </thead>\n",
              "  <tbody>\n",
              "    <tr>\n",
              "      <th>4395</th>\n",
              "      <td>i am locked out of skype</td>\n",
              "      <td>NaN</td>\n",
              "      <td>viyglzfo_ajtfzpkb</td>\n",
              "      <td>GRP_0</td>\n",
              "    </tr>\n",
              "  </tbody>\n",
              "</table>\n",
              "</div>"
            ],
            "text/plain": [
              "             Short_description Description             Caller  Group\n",
              "4395  i am locked out of skype         NaN  viyglzfo_ajtfzpkb  GRP_0"
            ]
          },
          "metadata": {
            "tags": []
          },
          "execution_count": 14
        }
      ]
    },
    {
      "cell_type": "code",
      "metadata": {
        "id": "FK5at_Puc8Iu",
        "colab_type": "code",
        "outputId": "a81b29bd-635e-43bb-ef4c-b74425784533",
        "colab": {
          "base_uri": "https://localhost:8080/",
          "height": 51
        }
      },
      "source": [
        "# Impute missing values\n",
        "df_v1['Short_description'].fillna('the', inplace=True) # replacing null values with stopword 'the'\n",
        "df_v1['Description'].fillna('the', inplace=True) # replacing null values with stopword 'the'\n",
        "\n",
        "print(\"Null values imputed\")\n",
        "print(\"Null Values in data after imputation:\", df_v1.isnull().sum().sum())"
      ],
      "execution_count": 15,
      "outputs": [
        {
          "output_type": "stream",
          "text": [
            "Null values imputed\n",
            "Null Values in data after imputation: 0\n"
          ],
          "name": "stdout"
        }
      ]
    },
    {
      "cell_type": "markdown",
      "metadata": {
        "colab_type": "text",
        "id": "jSUUCUhMHgjW"
      },
      "source": [
        "## For \"Assignment Group\" type where number of tickets in the category is less than specified freuency, we will mark then into \"GRP_Manual\". All \"GRP_Manual\" tickets should be triaged manually, until the model has enough data to categorise them automatically."
      ]
    },
    {
      "cell_type": "code",
      "metadata": {
        "colab_type": "code",
        "id": "o_HWFFeYFvKz",
        "outputId": "939cbc8c-dd5e-4d44-8345-fa67006d6167",
        "colab": {
          "base_uri": "https://localhost:8080/",
          "height": 476
        }
      },
      "source": [
        "# Reset Assignment Group for group types with less data\n",
        "Frequency_Threshold = 50\n",
        "count = df_v1['Group'].value_counts(ascending=True)\n",
        "idx = count[count.lt(Frequency_Threshold)].index\n",
        "df_v1.loc[df_v1['Group'].isin(idx), 'Group'] = 'GRP_Manual'\n",
        "print(\"Updated unique group types\",df_v1['Group'].nunique())\n",
        "df_v1['Group'].value_counts(ascending=True)\n"
      ],
      "execution_count": 16,
      "outputs": [
        {
          "output_type": "stream",
          "text": [
            "Updated unique group types 25\n"
          ],
          "name": "stdout"
        },
        {
          "output_type": "execute_result",
          "data": {
            "text/plain": [
              "GRP_26          56\n",
              "GRP_34          62\n",
              "GRP_7           68\n",
              "GRP_17          68\n",
              "GRP_31          69\n",
              "GRP_16          85\n",
              "GRP_18          88\n",
              "GRP_29          97\n",
              "GRP_4          100\n",
              "GRP_33         107\n",
              "GRP_25         116\n",
              "GRP_14         118\n",
              "GRP_5          128\n",
              "GRP_10         140\n",
              "GRP_13         145\n",
              "GRP_6          183\n",
              "GRP_3          200\n",
              "GRP_19         215\n",
              "GRP_2          241\n",
              "GRP_9          252\n",
              "GRP_12         257\n",
              "GRP_24         285\n",
              "GRP_8          645\n",
              "GRP_Manual     758\n",
              "GRP_0         3934\n",
              "Name: Group, dtype: int64"
            ]
          },
          "metadata": {
            "tags": []
          },
          "execution_count": 16
        }
      ]
    },
    {
      "cell_type": "markdown",
      "metadata": {
        "colab_type": "text",
        "id": "ae2wO8-LLqJc"
      },
      "source": [
        "## Text Cleaning"
      ]
    },
    {
      "cell_type": "code",
      "metadata": {
        "id": "-S9ePXHfU7ie",
        "colab_type": "code",
        "outputId": "ffca13bf-3cc2-421d-c55d-8c5076955785",
        "colab": {
          "base_uri": "https://localhost:8080/",
          "height": 204
        }
      },
      "source": [
        "# Cleaned both - 'Short_Description & Description'\n",
        "df_v1.Short_description = DP.text_preprocessing(df_v1.Short_description)\n",
        "df_v1.Description = DP.text_preprocessing(df_v1.Description)\n",
        "df_v1.head()"
      ],
      "execution_count": 17,
      "outputs": [
        {
          "output_type": "execute_result",
          "data": {
            "text/html": [
              "<div>\n",
              "<style scoped>\n",
              "    .dataframe tbody tr th:only-of-type {\n",
              "        vertical-align: middle;\n",
              "    }\n",
              "\n",
              "    .dataframe tbody tr th {\n",
              "        vertical-align: top;\n",
              "    }\n",
              "\n",
              "    .dataframe thead th {\n",
              "        text-align: right;\n",
              "    }\n",
              "</style>\n",
              "<table border=\"1\" class=\"dataframe\">\n",
              "  <thead>\n",
              "    <tr style=\"text-align: right;\">\n",
              "      <th></th>\n",
              "      <th>Short_description</th>\n",
              "      <th>Description</th>\n",
              "      <th>Caller</th>\n",
              "      <th>Group</th>\n",
              "    </tr>\n",
              "  </thead>\n",
              "  <tbody>\n",
              "    <tr>\n",
              "      <th>0</th>\n",
              "      <td>login issue</td>\n",
              "      <td>verified user details. checked the user name ...</td>\n",
              "      <td>spxjnwir_pjlcoqds</td>\n",
              "      <td>GRP_0</td>\n",
              "    </tr>\n",
              "    <tr>\n",
              "      <th>1</th>\n",
              "      <td>outlook</td>\n",
              "      <td>received from hello team my meetings skype me...</td>\n",
              "      <td>hmjdrvpb_komuaywn</td>\n",
              "      <td>GRP_0</td>\n",
              "    </tr>\n",
              "    <tr>\n",
              "      <th>2</th>\n",
              "      <td>cant log in to vpn</td>\n",
              "      <td>received from hi i cannot log on to vpn best</td>\n",
              "      <td>eylqgodm_ybqkwiam</td>\n",
              "      <td>GRP_0</td>\n",
              "    </tr>\n",
              "    <tr>\n",
              "      <th>3</th>\n",
              "      <td>unable to access hr tool page</td>\n",
              "      <td>unable to access hr tool page</td>\n",
              "      <td>xbkucsvz_gcpydteq</td>\n",
              "      <td>GRP_0</td>\n",
              "    </tr>\n",
              "    <tr>\n",
              "      <th>4</th>\n",
              "      <td>skype error</td>\n",
              "      <td>skype error</td>\n",
              "      <td>owlgqjme_qhcozdfx</td>\n",
              "      <td>GRP_0</td>\n",
              "    </tr>\n",
              "  </tbody>\n",
              "</table>\n",
              "</div>"
            ],
            "text/plain": [
              "               Short_description  ...  Group\n",
              "0                    login issue  ...  GRP_0\n",
              "1                        outlook  ...  GRP_0\n",
              "2             cant log in to vpn  ...  GRP_0\n",
              "3  unable to access hr tool page  ...  GRP_0\n",
              "4                   skype error   ...  GRP_0\n",
              "\n",
              "[5 rows x 4 columns]"
            ]
          },
          "metadata": {
            "tags": []
          },
          "execution_count": 17
        }
      ]
    },
    {
      "cell_type": "markdown",
      "metadata": {
        "id": "LNAMTv401Z6E",
        "colab_type": "text"
      },
      "source": [
        "## Concatenating \"Short Description\" and \"Description\" to get \"Summary\" Tickets"
      ]
    },
    {
      "cell_type": "code",
      "metadata": {
        "id": "sznTontD0-iN",
        "colab_type": "code",
        "outputId": "7547f28c-3327-40d8-ec48-c5b528e187eb",
        "colab": {
          "base_uri": "https://localhost:8080/",
          "height": 669
        }
      },
      "source": [
        "df_v1[\"Summary\"] = df_v1['Short_description'].str.cat(df_v1['Description'], sep = \". \")\n",
        "if not(DELETE_CALLER):\n",
        "  df_v1[\"Summary\"] = df_v1['Summary'].str.cat(df_v1['Caller'], sep = \". \")\n",
        "  df_v1 = df_v1.drop(['Caller'],axis=1)\n",
        "df_v2 = df_v1.drop(['Short_description','Description'],axis=1)\n",
        "df_v2 = df_v2[['Summary','Group']]\n",
        "df_v2.head(20) "
      ],
      "execution_count": 18,
      "outputs": [
        {
          "output_type": "execute_result",
          "data": {
            "text/html": [
              "<div>\n",
              "<style scoped>\n",
              "    .dataframe tbody tr th:only-of-type {\n",
              "        vertical-align: middle;\n",
              "    }\n",
              "\n",
              "    .dataframe tbody tr th {\n",
              "        vertical-align: top;\n",
              "    }\n",
              "\n",
              "    .dataframe thead th {\n",
              "        text-align: right;\n",
              "    }\n",
              "</style>\n",
              "<table border=\"1\" class=\"dataframe\">\n",
              "  <thead>\n",
              "    <tr style=\"text-align: right;\">\n",
              "      <th></th>\n",
              "      <th>Summary</th>\n",
              "      <th>Group</th>\n",
              "    </tr>\n",
              "  </thead>\n",
              "  <tbody>\n",
              "    <tr>\n",
              "      <th>0</th>\n",
              "      <td>login issue.  verified user details. checked t...</td>\n",
              "      <td>GRP_0</td>\n",
              "    </tr>\n",
              "    <tr>\n",
              "      <th>1</th>\n",
              "      <td>outlook.  received from hello team my meetings...</td>\n",
              "      <td>GRP_0</td>\n",
              "    </tr>\n",
              "    <tr>\n",
              "      <th>2</th>\n",
              "      <td>cant log in to vpn.  received from hi i cannot...</td>\n",
              "      <td>GRP_0</td>\n",
              "    </tr>\n",
              "    <tr>\n",
              "      <th>3</th>\n",
              "      <td>unable to access hr tool page. unable to acces...</td>\n",
              "      <td>GRP_0</td>\n",
              "    </tr>\n",
              "    <tr>\n",
              "      <th>4</th>\n",
              "      <td>skype error . skype error . owlgqjme_qhcozdfx</td>\n",
              "      <td>GRP_0</td>\n",
              "    </tr>\n",
              "    <tr>\n",
              "      <th>5</th>\n",
              "      <td>unable to log in to engineering tool and skype...</td>\n",
              "      <td>GRP_0</td>\n",
              "    </tr>\n",
              "    <tr>\n",
              "      <th>6</th>\n",
              "      <td>event the value of mountpoint threshold for . ...</td>\n",
              "      <td>GRP_Manual</td>\n",
              "    </tr>\n",
              "    <tr>\n",
              "      <th>7</th>\n",
              "      <td>employment status new non employee .  employm...</td>\n",
              "      <td>GRP_0</td>\n",
              "    </tr>\n",
              "    <tr>\n",
              "      <th>8</th>\n",
              "      <td>unable to disable add ins on outlook. unable t...</td>\n",
              "      <td>GRP_0</td>\n",
              "    </tr>\n",
              "    <tr>\n",
              "      <th>9</th>\n",
              "      <td>ticket update on . ticket update on . fumkcsji...</td>\n",
              "      <td>GRP_0</td>\n",
              "    </tr>\n",
              "    <tr>\n",
              "      <th>10</th>\n",
              "      <td>engineering tool says not connected and unable...</td>\n",
              "      <td>GRP_0</td>\n",
              "    </tr>\n",
              "    <tr>\n",
              "      <th>11</th>\n",
              "      <td>hr tool site not loading page correctly. hr to...</td>\n",
              "      <td>GRP_0</td>\n",
              "    </tr>\n",
              "    <tr>\n",
              "      <th>12</th>\n",
              "      <td>unable to login to hr tool to sgxqsuojr xwbeso...</td>\n",
              "      <td>GRP_0</td>\n",
              "    </tr>\n",
              "    <tr>\n",
              "      <th>13</th>\n",
              "      <td>user wants to reset the password. user wants t...</td>\n",
              "      <td>GRP_0</td>\n",
              "    </tr>\n",
              "    <tr>\n",
              "      <th>14</th>\n",
              "      <td>unable to open payslips . unable to open paysl...</td>\n",
              "      <td>GRP_0</td>\n",
              "    </tr>\n",
              "    <tr>\n",
              "      <th>15</th>\n",
              "      <td>ticket update on . ticket update on . fumkcsji...</td>\n",
              "      <td>GRP_0</td>\n",
              "    </tr>\n",
              "    <tr>\n",
              "      <th>16</th>\n",
              "      <td>unable to login to company vpn.  received from...</td>\n",
              "      <td>GRP_0</td>\n",
              "    </tr>\n",
              "    <tr>\n",
              "      <th>17</th>\n",
              "      <td>when undocking pc screen will not come back. w...</td>\n",
              "      <td>GRP_3</td>\n",
              "    </tr>\n",
              "    <tr>\n",
              "      <th>18</th>\n",
              "      <td>erp account locked. erp account locked. nqdyow...</td>\n",
              "      <td>GRP_0</td>\n",
              "    </tr>\n",
              "    <tr>\n",
              "      <th>19</th>\n",
              "      <td>unable to sign into vpn. unable to sign into v...</td>\n",
              "      <td>GRP_0</td>\n",
              "    </tr>\n",
              "  </tbody>\n",
              "</table>\n",
              "</div>"
            ],
            "text/plain": [
              "                                              Summary       Group\n",
              "0   login issue.  verified user details. checked t...       GRP_0\n",
              "1   outlook.  received from hello team my meetings...       GRP_0\n",
              "2   cant log in to vpn.  received from hi i cannot...       GRP_0\n",
              "3   unable to access hr tool page. unable to acces...       GRP_0\n",
              "4       skype error . skype error . owlgqjme_qhcozdfx       GRP_0\n",
              "5   unable to log in to engineering tool and skype...       GRP_0\n",
              "6   event the value of mountpoint threshold for . ...  GRP_Manual\n",
              "7    employment status new non employee .  employm...       GRP_0\n",
              "8   unable to disable add ins on outlook. unable t...       GRP_0\n",
              "9   ticket update on . ticket update on . fumkcsji...       GRP_0\n",
              "10  engineering tool says not connected and unable...       GRP_0\n",
              "11  hr tool site not loading page correctly. hr to...       GRP_0\n",
              "12  unable to login to hr tool to sgxqsuojr xwbeso...       GRP_0\n",
              "13  user wants to reset the password. user wants t...       GRP_0\n",
              "14  unable to open payslips . unable to open paysl...       GRP_0\n",
              "15  ticket update on . ticket update on . fumkcsji...       GRP_0\n",
              "16  unable to login to company vpn.  received from...       GRP_0\n",
              "17  when undocking pc screen will not come back. w...       GRP_3\n",
              "18  erp account locked. erp account locked. nqdyow...       GRP_0\n",
              "19  unable to sign into vpn. unable to sign into v...       GRP_0"
            ]
          },
          "metadata": {
            "tags": []
          },
          "execution_count": 18
        }
      ]
    },
    {
      "cell_type": "code",
      "metadata": {
        "colab_type": "code",
        "id": "ZRLJdvIXP8Vh",
        "colab": {}
      },
      "source": [
        "# word tokenisation & removal of stop words & gibberish word(by typos, anonymised names)\n",
        "\n",
        "# Remove stopwords\n",
        "df_v2['Summary'] = df_v2['Summary'].apply(lambda x: ' '.join([word for word in x.split() if word not in (stop_words)]))\n",
        "\n",
        "# Remove words not in Englsih Dictionary (typos, anonymised names)\n",
        "df_v2['Summary'] = df_v2['Summary'].apply(lambda x: ' '.join([word for word in x.split() if word in (words)]))\n",
        "\n",
        "# Tokenise 'Summary' column\n",
        "data = df_v2.Summary.values.tolist()\n",
        "data = [list(tokenize(sentences)) for sentences in data]\n",
        "\n",
        "# Remove duplicates\n",
        "temp = []\n",
        "unique_words = []\n",
        "for eachrow in data:\n",
        "    unique_words = list(dict.fromkeys(eachrow))\n",
        "    temp.append(unique_words)\n",
        "data = temp\n",
        "\n",
        "# lemmetise words\n",
        "# porter_stemmer = PorterStemmer()\n",
        "wordnet_lemmatizer = WordNetLemmatizer()\n",
        "temp = []\n",
        "for eachrow in data:\n",
        "    lemma_words = []\n",
        "    for eachword in eachrow:\n",
        "        if len(eachword) > 1:\n",
        "          # eachword = porter_stemmer.stem(eachword) # words being overstemmed \n",
        "          eachword = wordnet_lemmatizer.lemmatize(eachword, pos = \"n\")\n",
        "          eachword = wordnet_lemmatizer.lemmatize(eachword, pos = \"v\")\n",
        "          eachword = wordnet_lemmatizer.lemmatize(eachword, pos = (\"a\"))\n",
        "          lemma_words.append(eachword)\n",
        "    temp.append(lemma_words)\n",
        "data = temp \n",
        "\n",
        "data = [(\" \".join(sentence))  for sentence in data]"
      ],
      "execution_count": 0,
      "outputs": []
    },
    {
      "cell_type": "code",
      "metadata": {
        "id": "ckbgmRymlAax",
        "colab_type": "code",
        "colab": {
          "base_uri": "https://localhost:8080/",
          "height": 669
        },
        "outputId": "0297bbf5-0be3-49ce-ea8b-3ceb055bd520"
      },
      "source": [
        "maxlen = 0\n",
        "for sentence in data:\n",
        "    if (maxlen < sentence.count(' ')+1 ):\n",
        "        maxlen = sentence.count(' ')+1\n",
        "\n",
        "    \n",
        "# Create Word Embeddings\n",
        "tfidf_vectors = TfidfVectorizer(min_df=3,max_features= maxlen)\n",
        "tfidf_db = tfidf_vectors.fit_transform(data).toarray()\n",
        "tfidf_db = pd.DataFrame(tfidf_db)\n",
        "\n",
        "le = preprocessing.LabelEncoder() \n",
        "df_v2['Group']= le.fit_transform(df_v2['Group']) # LabelEncode 'Groups'\n",
        "df_v2.head(20)"
      ],
      "execution_count": 20,
      "outputs": [
        {
          "output_type": "execute_result",
          "data": {
            "text/html": [
              "<div>\n",
              "<style scoped>\n",
              "    .dataframe tbody tr th:only-of-type {\n",
              "        vertical-align: middle;\n",
              "    }\n",
              "\n",
              "    .dataframe tbody tr th {\n",
              "        vertical-align: top;\n",
              "    }\n",
              "\n",
              "    .dataframe thead th {\n",
              "        text-align: right;\n",
              "    }\n",
              "</style>\n",
              "<table border=\"1\" class=\"dataframe\">\n",
              "  <thead>\n",
              "    <tr style=\"text-align: right;\">\n",
              "      <th></th>\n",
              "      <th>Summary</th>\n",
              "      <th>Group</th>\n",
              "    </tr>\n",
              "  </thead>\n",
              "  <tbody>\n",
              "    <tr>\n",
              "      <th>0</th>\n",
              "      <td>login user checked user name ad reset advised ...</td>\n",
              "      <td>0</td>\n",
              "    </tr>\n",
              "    <tr>\n",
              "      <th>1</th>\n",
              "      <td>received team outlook calendar somebody advise...</td>\n",
              "      <td>0</td>\n",
              "    </tr>\n",
              "    <tr>\n",
              "      <th>2</th>\n",
              "      <td>cant log received cannot log</td>\n",
              "      <td>0</td>\n",
              "    </tr>\n",
              "    <tr>\n",
              "      <th>3</th>\n",
              "      <td>unable access tool unable access tool</td>\n",
              "      <td>0</td>\n",
              "    </tr>\n",
              "    <tr>\n",
              "      <th>4</th>\n",
              "      <td>error error</td>\n",
              "      <td>0</td>\n",
              "    </tr>\n",
              "    <tr>\n",
              "      <th>5</th>\n",
              "      <td>unable log engineering tool unable log enginee...</td>\n",
              "      <td>0</td>\n",
              "    </tr>\n",
              "    <tr>\n",
              "      <th>6</th>\n",
              "      <td>event value threshold event value threshold</td>\n",
              "      <td>24</td>\n",
              "    </tr>\n",
              "    <tr>\n",
              "      <th>7</th>\n",
              "      <td>employment status new non employee employment ...</td>\n",
              "      <td>0</td>\n",
              "    </tr>\n",
              "    <tr>\n",
              "      <th>8</th>\n",
              "      <td>unable disable add unable disable add</td>\n",
              "      <td>0</td>\n",
              "    </tr>\n",
              "    <tr>\n",
              "      <th>9</th>\n",
              "      <td>ticket update ticket update</td>\n",
              "      <td>0</td>\n",
              "    </tr>\n",
              "    <tr>\n",
              "      <th>10</th>\n",
              "      <td>engineering tool connected unable submit engin...</td>\n",
              "      <td>0</td>\n",
              "    </tr>\n",
              "    <tr>\n",
              "      <th>11</th>\n",
              "      <td>tool site loading page tool site loading page</td>\n",
              "      <td>0</td>\n",
              "    </tr>\n",
              "    <tr>\n",
              "      <th>12</th>\n",
              "      <td>unable login tool unable login tool</td>\n",
              "      <td>0</td>\n",
              "    </tr>\n",
              "    <tr>\n",
              "      <th>13</th>\n",
              "      <td>user reset user reset</td>\n",
              "      <td>0</td>\n",
              "    </tr>\n",
              "    <tr>\n",
              "      <th>14</th>\n",
              "      <td>unable open unable open</td>\n",
              "      <td>0</td>\n",
              "    </tr>\n",
              "    <tr>\n",
              "      <th>15</th>\n",
              "      <td>ticket update ticket update</td>\n",
              "      <td>0</td>\n",
              "    </tr>\n",
              "    <tr>\n",
              "      <th>16</th>\n",
              "      <td>unable login company received unable login com...</td>\n",
              "      <td>0</td>\n",
              "    </tr>\n",
              "    <tr>\n",
              "      <th>17</th>\n",
              "      <td>screen come screen come</td>\n",
              "      <td>14</td>\n",
              "    </tr>\n",
              "    <tr>\n",
              "      <th>18</th>\n",
              "      <td>account account</td>\n",
              "      <td>0</td>\n",
              "    </tr>\n",
              "    <tr>\n",
              "      <th>19</th>\n",
              "      <td>unable sign unable sign</td>\n",
              "      <td>0</td>\n",
              "    </tr>\n",
              "  </tbody>\n",
              "</table>\n",
              "</div>"
            ],
            "text/plain": [
              "                                              Summary  Group\n",
              "0   login user checked user name ad reset advised ...      0\n",
              "1   received team outlook calendar somebody advise...      0\n",
              "2                        cant log received cannot log      0\n",
              "3               unable access tool unable access tool      0\n",
              "4                                         error error      0\n",
              "5   unable log engineering tool unable log enginee...      0\n",
              "6         event value threshold event value threshold     24\n",
              "7   employment status new non employee employment ...      0\n",
              "8               unable disable add unable disable add      0\n",
              "9                         ticket update ticket update      0\n",
              "10  engineering tool connected unable submit engin...      0\n",
              "11      tool site loading page tool site loading page      0\n",
              "12                unable login tool unable login tool      0\n",
              "13                              user reset user reset      0\n",
              "14                            unable open unable open      0\n",
              "15                        ticket update ticket update      0\n",
              "16  unable login company received unable login com...      0\n",
              "17                            screen come screen come     14\n",
              "18                                    account account      0\n",
              "19                            unable sign unable sign      0"
            ]
          },
          "metadata": {
            "tags": []
          },
          "execution_count": 20
        }
      ]
    },
    {
      "cell_type": "code",
      "metadata": {
        "id": "goX1t_AZdlgp",
        "colab_type": "code",
        "colab": {}
      },
      "source": [
        "X = tfidf_db\n",
        "y = df_v2['Group']\n",
        "\n",
        "X_train, X_test, y_train, y_test = train_test_split(X, y, test_size=0.40, random_state=42)"
      ],
      "execution_count": 0,
      "outputs": []
    },
    {
      "cell_type": "code",
      "metadata": {
        "id": "EzodDmshghqG",
        "colab_type": "code",
        "colab": {
          "base_uri": "https://localhost:8080/",
          "height": 51
        },
        "outputId": "c184d58a-2601-479f-fdec-a8a89c8f8992"
      },
      "source": [
        "svm_model = SVC(kernel='linear',C=10)\n",
        "svm_model.fit(X_train, y_train)\n",
        "y_pred = svm_model.predict(X_test)\n",
        "print('Training Accuracy:', svm_model.score(X_train , y_train))\n",
        "print('Test Accuracy:',svm_model.score(X_test , y_test))"
      ],
      "execution_count": 35,
      "outputs": [
        {
          "output_type": "stream",
          "text": [
            "Training Accuracy: 0.7138613861386138\n",
            "Test Accuracy: 0.5803385803385803\n"
          ],
          "name": "stdout"
        }
      ]
    },
    {
      "cell_type": "code",
      "metadata": {
        "id": "h3RYWw57gigu",
        "colab_type": "code",
        "colab": {
          "base_uri": "https://localhost:8080/",
          "height": 272
        },
        "outputId": "9a304547-dc46-4d04-e21c-691f5537ca55"
      },
      "source": [
        "# Bagging Ensemble for Classifying tickets\n",
        "from sklearn.model_selection import cross_val_score\n",
        "from sklearn.ensemble import BaggingClassifier, ExtraTreesClassifier, RandomForestClassifier\n",
        "from sklearn.neighbors import KNeighborsClassifier\n",
        "from sklearn.linear_model import RidgeClassifier\n",
        "from sklearn.svm import SVC\n",
        "\n",
        "seed = 1075\n",
        "np.random.seed(seed)\n",
        "\n",
        "# Create classifiers\n",
        "rf = RandomForestClassifier()\n",
        "et = ExtraTreesClassifier()\n",
        "knn = KNeighborsClassifier()\n",
        "svc = SVC()\n",
        "rg = RidgeClassifier()\n",
        "clf_array = [rf, et, knn, svc, rg]\n",
        "\n",
        "for clf in clf_array:\n",
        "    bagging_clf = BaggingClassifier(clf, max_samples=0.4, max_features=10, random_state=seed)\n",
        "    bagging_scores = cross_val_score(bagging_clf, X_train, y_train, cv=10, n_jobs=-1)\n",
        "    \n",
        "    print (\"Mean of: {1:.3f} [Bagging {0}]\\n\".format(clf.__class__.__name__, bagging_scores.mean()))"
      ],
      "execution_count": 23,
      "outputs": [
        {
          "output_type": "stream",
          "text": [
            "Mean of: 0.593, std: (+/-) 0.009 [RandomForestClassifier]\n",
            "Mean of: 0.486, std: (+/-) 0.007 [Bagging RandomForestClassifier]\n",
            "\n",
            "Mean of: 0.598, std: (+/-) 0.010 [ExtraTreesClassifier]\n",
            "Mean of: 0.486, std: (+/-) 0.007 [Bagging ExtraTreesClassifier]\n",
            "\n",
            "Mean of: 0.561, std: (+/-) 0.016 [KNeighborsClassifier]\n",
            "Mean of: 0.490, std: (+/-) 0.005 [Bagging KNeighborsClassifier]\n",
            "\n",
            "Mean of: 0.595, std: (+/-) 0.009 [SVC]\n",
            "Mean of: 0.469, std: (+/-) 0.001 [Bagging SVC]\n",
            "\n",
            "Mean of: 0.578, std: (+/-) 0.012 [RidgeClassifier]\n",
            "Mean of: 0.467, std: (+/-) 0.000 [Bagging RidgeClassifier]\n",
            "\n"
          ],
          "name": "stdout"
        }
      ]
    },
    {
      "cell_type": "code",
      "metadata": {
        "id": "QO_aIz4Rk8ZH",
        "colab_type": "code",
        "colab": {
          "base_uri": "https://localhost:8080/",
          "height": 119
        },
        "outputId": "445fdfa2-176b-497a-b6ba-21a20f946fa6"
      },
      "source": [
        "from sklearn.ensemble import VotingClassifier\n",
        "clf = [rf, et, knn, svc, rg]\n",
        "eclf = VotingClassifier(estimators=[('Random Forests', rf), ('Extra Trees', et), ('KNeighbors', knn), ('SVC', svc), \n",
        "                                    ('Ridge Classifier', rg)], voting='hard')\n",
        "for clf, label in zip([rf, et, knn, svc, rg, eclf], ['Random Forest', 'Extra Trees', 'KNeighbors', 'SVC', \n",
        "                                                     'Ridge Classifier', 'Ensemble']):\n",
        "    scores = cross_val_score(clf, X_train, y_train, cv=10, scoring='accuracy')\n",
        "    print(\"Accuracy: %0.2f (+/- %0.2f) [%s]\" % (scores.mean(), scores.std(), label))"
      ],
      "execution_count": 24,
      "outputs": [
        {
          "output_type": "stream",
          "text": [
            "Accuracy: 0.58 (+/- 0.02) [Random Forest]\n",
            "Accuracy: 0.59 (+/- 0.01) [Extra Trees]\n",
            "Accuracy: 0.54 (+/- 0.02) [KNeighbors]\n",
            "Accuracy: 0.59 (+/- 0.01) [SVC]\n",
            "Accuracy: 0.57 (+/- 0.01) [Ridge Classifier]\n",
            "Accuracy: 0.59 (+/- 0.01) [Ensemble]\n"
          ],
          "name": "stdout"
        }
      ]
    },
    {
      "cell_type": "code",
      "metadata": {
        "id": "_iiG1Kr7ly8y",
        "colab_type": "code",
        "colab": {
          "base_uri": "https://localhost:8080/",
          "height": 85
        },
        "outputId": "451ec6fe-1cdc-490b-88f0-9f339ff9ec33"
      },
      "source": [
        "from sklearn.ensemble import AdaBoostClassifier\n",
        "from sklearn.ensemble import GradientBoostingClassifier\n",
        "from xgboost import XGBClassifier\n",
        "from mlxtend.classifier import EnsembleVoteClassifier\n",
        "\n",
        "ada_boost = AdaBoostClassifier()\n",
        "grad_boost = GradientBoostingClassifier()\n",
        "xgb_boost = XGBClassifier()\n",
        "\n",
        "boost_array = [ada_boost, grad_boost, xgb_boost]\n",
        "eclf = EnsembleVoteClassifier(clfs=[ada_boost, grad_boost, xgb_boost], voting='hard')\n",
        "labels = ['Ada Boost', 'Grad Boost', 'XG Boost', 'Ensemble']\n",
        "for clf, label in zip([ada_boost, grad_boost, xgb_boost, eclf], labels):\n",
        "    scores = cross_val_score(clf, X_train, y_train, cv=10, scoring='accuracy')\n",
        "    print(\"Mean: {0:.3f} of [{1}]\".format(scores.mean(), label))"
      ],
      "execution_count": 34,
      "outputs": [
        {
          "output_type": "stream",
          "text": [
            "Mean: 0.519 of [Ada Boost]\n",
            "Mean: 0.570 of [Grad Boost]\n",
            "Mean: 0.585 of [XG Boost]\n",
            "Mean: 0.577 of [Ensemble]\n"
          ],
          "name": "stdout"
        }
      ]
    }
  ]
}