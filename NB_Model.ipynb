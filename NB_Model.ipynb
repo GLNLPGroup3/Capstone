{
  "nbformat": 4,
  "nbformat_minor": 0,
  "metadata": {
    "colab": {
      "name": "NB Model",
      "provenance": []
    },
    "kernelspec": {
      "name": "python3",
      "display_name": "Python 3"
    }
  },
  "cells": [
    {
      "cell_type": "markdown",
      "metadata": {
        "colab_type": "text",
        "id": "YmsJoEU1moAp"
      },
      "source": [
        "# **Naive Bayes Model**"
      ]
    },
    {
      "cell_type": "markdown",
      "metadata": {
        "colab_type": "text",
        "id": "ZBystcOTmoAo"
      },
      "source": [
        "Naive Bayes is a Probablistic learning algorithm derived from Bayes Theorm. Naive Bayes Model is considered to be extremely fast, reliable, and has stable classification ability relative to other classification algorithms. The algorithm is based on the assumption that each feature in independent of each other while predicting the classification.\n",
        "\n",
        "<b>Pros:</b>\n",
        "Simple, fast and well in multi class prediction\n",
        "Performs better with less training data as it assumes feature independence\n",
        "\n",
        "<b> Cons:</b>\n",
        "bad estimator hence the probability outputs are not taken too seriously\n",
        "Assumptions of independent feature cannot represent real time data\n",
        "Zero frequency - If training data set gets a category not trained on earlier, then model will assign a 0 (zero) probability and will be unable to make a prediction.  \n",
        "\n",
        "The multinomial Naive Bayes classifier is suitable for classification with discrete features (e.g., word counts for text classification), we will build Multinomial Naive Bayes model for our dataset."
      ]
    },
    {
      "cell_type": "code",
      "metadata": {
        "colab_type": "code",
        "outputId": "1c158ea7-5254-4f9a-8213-2b06b57a2e30",
        "id": "pKPSZI_kmoAl",
        "colab": {
          "base_uri": "https://localhost:8080/",
          "height": 51
        }
      },
      "source": [
        "# We will use multinomialNB for this dataset\n",
        "from sklearn.naive_bayes import MultinomialNB\n",
        "from sklearn.metrics import classification_report, precision_score, recall_score\n",
        "NBModel = MultinomialNB(alpha = 0.001)\n",
        "NBModel.fit(X_train, y_train)\n",
        "NB_y_pred = NBModel.predict(X_test)\n",
        "print('NB Training Accuracy:', NBModel.score(X_train , y_train))\n",
        "print('NB Test Accuracy:', NBModel.score(X_test , y_test))"
      ],
      "execution_count": 0,
      "outputs": [
        {
          "output_type": "stream",
          "text": [
            "NB Training Accuracy: 0.6729411764705883\n",
            "NB Test Accuracy: 0.5873529411764706\n"
          ],
          "name": "stdout"
        }
      ]
    },
    {
      "cell_type": "code",
      "metadata": {
        "colab_type": "code",
        "outputId": "603204a4-9a8a-41cf-8f17-9cb813674dec",
        "id": "KK6PU38XmoAi",
        "colab": {
          "base_uri": "https://localhost:8080/",
          "height": 51
        }
      },
      "source": [
        "print ('Precision Score:', precision_score(y_test, NB_y_pred, pos_label='Positive', average='micro'))\n",
        "print ('Recall Score:', recall_score(y_test, NB_y_pred, pos_label='Positive', average='micro'))"
      ],
      "execution_count": 0,
      "outputs": [
        {
          "output_type": "stream",
          "text": [
            "Precision Score: 0.5873529411764706\n",
            "Recall Score: 0.5873529411764706\n"
          ],
          "name": "stdout"
        }
      ]
    },
    {
      "cell_type": "markdown",
      "metadata": {
        "colab_type": "text",
        "id": "UbNPZu1RmoAh"
      },
      "source": [
        "We can see that the Training accuracy is 67% and testing accuracy is 58% with Naive Bayes Mode. The model is able to predict True Positives and False Negatives equally."
      ]
    },
    {
      "cell_type": "code",
      "metadata": {
        "colab_type": "code",
        "outputId": "c7d100a0-50f2-42d8-cb0d-cda4ad6e6b62",
        "id": "sAigk8kimoAe",
        "colab": {
          "base_uri": "https://localhost:8080/",
          "height": 561
        }
      },
      "source": [
        "print ('Classification Report:', classification_report(y_test, NB_y_pred))"
      ],
      "execution_count": 0,
      "outputs": [
        {
          "output_type": "stream",
          "text": [
            "Classification Report:               precision    recall  f1-score   support\n",
            "\n",
            "           0       0.63      0.96      0.76      1550\n",
            "           1       0.76      0.28      0.41        57\n",
            "           2       0.47      0.37      0.41        92\n",
            "           3       0.33      0.19      0.24        57\n",
            "           4       0.43      0.14      0.21        43\n",
            "           5       0.20      0.05      0.08        42\n",
            "           6       0.85      0.80      0.82        35\n",
            "           7       0.25      0.05      0.08        40\n",
            "           8       0.10      0.01      0.02        96\n",
            "           9       0.61      0.28      0.38        98\n",
            "          10       0.64      0.33      0.44       124\n",
            "          11       0.50      0.16      0.24        44\n",
            "          12       0.00      0.00      0.00        28\n",
            "          13       0.55      0.16      0.25        37\n",
            "          14       0.45      0.07      0.12        69\n",
            "          15       0.29      0.05      0.09        38\n",
            "          16       0.31      0.11      0.16        36\n",
            "          17       0.50      0.10      0.16        21\n",
            "          18       0.50      0.07      0.12        44\n",
            "          19       0.00      0.00      0.00        53\n",
            "          20       0.65      0.16      0.25        83\n",
            "          21       0.25      0.03      0.06        32\n",
            "          22       0.52      0.89      0.66       266\n",
            "          23       0.00      0.00      0.00        90\n",
            "          24       0.32      0.19      0.24       325\n",
            "\n",
            "    accuracy                           0.59      3400\n",
            "   macro avg       0.40      0.22      0.25      3400\n",
            "weighted avg       0.51      0.59      0.51      3400\n",
            "\n"
          ],
          "name": "stdout"
        }
      ]
    },
    {
      "cell_type": "code",
      "metadata": {
        "colab_type": "code",
        "id": "sfxc0H47moAY",
        "colab": {}
      },
      "source": [
        ""
      ],
      "execution_count": 0,
      "outputs": []
    }
  ]
}