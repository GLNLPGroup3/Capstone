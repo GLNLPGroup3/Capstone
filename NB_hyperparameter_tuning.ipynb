{
  "nbformat": 4,
  "nbformat_minor": 0,
  "metadata": {
    "accelerator": "GPU",
    "colab": {
      "name": "NB_hyperparameter_tuning.ipynb",
      "provenance": [],
      "collapsed_sections": [],
      "toc_visible": true
    },
    "kernelspec": {
      "display_name": "Python 3",
      "language": "python",
      "name": "python3"
    },
    "language_info": {
      "codemirror_mode": {
        "name": "ipython",
        "version": 3
      },
      "file_extension": ".py",
      "mimetype": "text/x-python",
      "name": "python",
      "nbconvert_exporter": "python",
      "pygments_lexer": "ipython3",
      "version": "3.7.4"
    }
  },
  "cells": [
    {
      "cell_type": "markdown",
      "metadata": {
        "id": "li7xwb1qelQS",
        "colab_type": "text"
      },
      "source": [
        "# **Naive Bayes Model**"
      ]
    },
    {
      "cell_type": "markdown",
      "metadata": {
        "id": "lmpU-eTdelQT",
        "colab_type": "text"
      },
      "source": [
        "Naive Bayes is a Probablistic learning algorithm derived from Bayes Theorm. Naive Bayes Model is considered to be extremely fast, reliable, and has stable classification ability relative to other classification algorithms. The algorithm is based on the assumption that each feature in independent of each other while predicting the classification.\n",
        "\n",
        "<b>Pros:</b>\n",
        "Simple, fast and well in multi class prediction\n",
        "Performs better with less training data as it assumes feature independence\n",
        "\n",
        "<b> Cons:</b>\n",
        "bad estimator hence the probability outputs are not taken too seriously\n",
        "Assumptions of independent feature cannot represent real time data\n",
        "Zero frequency - If training data set gets a category not trained on earlier, then model will assign a 0 (zero) probability and will be unable to make a prediction.  \n",
        "\n",
        "The multinomial Naive Bayes classifier is suitable for classification with discrete features (e.g., word counts for text classification), we will build Multinomial Naive Bayes model for our dataset."
      ]
    },
    {
      "cell_type": "code",
      "metadata": {
        "id": "6xaNnfArelQU",
        "colab_type": "code",
        "colab": {},
        "outputId": "e2e3969a-9c49-49db-c1aa-d50bde80b6cf"
      },
      "source": [
        "# We will use multinomialNB for this dataset\n",
        "from sklearn.naive_bayes import MultinomialNB\n",
        "from sklearn.metrics import classification_report, precision_score, recall_score\n",
        "NBModel = MultinomialNB(alpha = 0.001)\n",
        "NBModel.fit(X_train, y_train)\n",
        "NB_y_pred = NBModel.predict(X_test)\n",
        "print('NB Training Accuracy:', NBModel.score(X_train , y_train))\n",
        "print('NB Test Accuracy:', NBModel.score(X_test , y_test))"
      ],
      "execution_count": 0,
      "outputs": [
        {
          "output_type": "stream",
          "text": [
            "NB Training Accuracy: 0.6729411764705883\n",
            "NB Test Accuracy: 0.5873529411764706\n"
          ],
          "name": "stdout"
        }
      ]
    },
    {
      "cell_type": "code",
      "metadata": {
        "id": "3r1yVrt2elQb",
        "colab_type": "code",
        "colab": {},
        "outputId": "fa999c6f-fbfa-413f-b8d9-cd4a223820a7"
      },
      "source": [
        "print ('Precision Score:', precision_score(y_test, NB_y_pred, pos_label='Positive', average='micro'))\n",
        "print ('Recall Score:', recall_score(y_test, NB_y_pred, pos_label='Positive', average='micro'))"
      ],
      "execution_count": 0,
      "outputs": [
        {
          "output_type": "stream",
          "text": [
            "Precision Score: 0.5873529411764706\n",
            "Recall Score: 0.5873529411764706\n"
          ],
          "name": "stdout"
        }
      ]
    },
    {
      "cell_type": "markdown",
      "metadata": {
        "id": "Xo1Wpq08elQg",
        "colab_type": "text"
      },
      "source": [
        "We can see that the Training accuracy is 67% and testing accuracy is 58% with Naive Bayes Mode. The model is able to predict True Positives and False Negatives equally."
      ]
    },
    {
      "cell_type": "code",
      "metadata": {
        "id": "92AfYr21elQh",
        "colab_type": "code",
        "colab": {},
        "outputId": "4a049c00-98f9-4c29-c7e8-895c1e3e9c62"
      },
      "source": [
        "print ('Classification Report:', classification_report(y_test, NB_y_pred))"
      ],
      "execution_count": 0,
      "outputs": [
        {
          "output_type": "stream",
          "text": [
            "Classification Report:               precision    recall  f1-score   support\n",
            "\n",
            "           0       0.63      0.96      0.76      1550\n",
            "           1       0.76      0.28      0.41        57\n",
            "           2       0.47      0.37      0.41        92\n",
            "           3       0.33      0.19      0.24        57\n",
            "           4       0.43      0.14      0.21        43\n",
            "           5       0.20      0.05      0.08        42\n",
            "           6       0.85      0.80      0.82        35\n",
            "           7       0.25      0.05      0.08        40\n",
            "           8       0.10      0.01      0.02        96\n",
            "           9       0.61      0.28      0.38        98\n",
            "          10       0.64      0.33      0.44       124\n",
            "          11       0.50      0.16      0.24        44\n",
            "          12       0.00      0.00      0.00        28\n",
            "          13       0.55      0.16      0.25        37\n",
            "          14       0.45      0.07      0.12        69\n",
            "          15       0.29      0.05      0.09        38\n",
            "          16       0.31      0.11      0.16        36\n",
            "          17       0.50      0.10      0.16        21\n",
            "          18       0.50      0.07      0.12        44\n",
            "          19       0.00      0.00      0.00        53\n",
            "          20       0.65      0.16      0.25        83\n",
            "          21       0.25      0.03      0.06        32\n",
            "          22       0.52      0.89      0.66       266\n",
            "          23       0.00      0.00      0.00        90\n",
            "          24       0.32      0.19      0.24       325\n",
            "\n",
            "    accuracy                           0.59      3400\n",
            "   macro avg       0.40      0.22      0.25      3400\n",
            "weighted avg       0.51      0.59      0.51      3400\n",
            "\n"
          ],
          "name": "stdout"
        }
      ]
    },
    {
      "cell_type": "code",
      "metadata": {
        "id": "cCX27Bm4elQo",
        "colab_type": "code",
        "colab": {}
      },
      "source": [
        ""
      ],
      "execution_count": 0,
      "outputs": []
    },
    {
      "cell_type": "code",
      "metadata": {
        "id": "1RQ7xWSzelQt",
        "colab_type": "code",
        "colab": {}
      },
      "source": [
        ""
      ],
      "execution_count": 0,
      "outputs": []
    },
    {
      "cell_type": "markdown",
      "metadata": {
        "id": "4d6fdx6HelQz",
        "colab_type": "text"
      },
      "source": [
        "### Hyper parameter tuning and comparing with other Naive Bayes Algorithms"
      ]
    },
    {
      "cell_type": "code",
      "metadata": {
        "id": "MbeFZPU9elQ0",
        "colab_type": "code",
        "colab": {}
      },
      "source": [
        "from sklearn.model_selection import cross_validate"
      ],
      "execution_count": 0,
      "outputs": []
    },
    {
      "cell_type": "code",
      "metadata": {
        "id": "kaBkEte_elQ7",
        "colab_type": "code",
        "colab": {}
      },
      "source": [
        "from sklearn.model_selection import cross_validate, ShuffleSplit\n",
        "from sklearn.metrics import classification_report,confusion_matrix, accuracy_score\n",
        "import warnings\n",
        "\n",
        "def find_optimal_k(X,y, lr_list):\n",
        "   \n",
        "    # empty list that will hold cv scores\n",
        "    scores = []\n",
        "\n",
        "    # splitting training test dataset in 60-40 ratio\n",
        "    X_train, X_test, y_train, y_test = model_selection.train_test_split(X, y, test_size=0.40, random_state=42)\n",
        "\n",
        "    for lr in lr_list:\n",
        "        model_nb = MultinomialNB(alpha = lr)\n",
        "        model = model_nb.fit(X_train, y_train)\n",
        "\n",
        "        # predict the response on the crossvalidation train\n",
        "        predict = model.predict(X_test)\n",
        "\n",
        "        # evaluate accuracy\n",
        "        accuracy = accuracy_score(y_test, predict, normalize=True)\n",
        "        scores.append(accuracy)\n",
        "        \n",
        "    # changing to misclassification error\n",
        "    mean_square_error = [1 - x for x in scores]\n",
        "\n",
        "    # determining best alpha\n",
        "    optimal_alpha = lr_list[mean_square_error.index(min(mean_square_error))]\n",
        "    print('\\nThe optimal alpha is ', optimal_alpha)\n",
        "\n",
        "\n",
        "    plt.figure(figsize=(10,6))\n",
        "    plt.plot(lr_list,mean_square_error,color='blue', linestyle='dashed', marker='o',\n",
        "             markerfacecolor='red', markersize=10)\n",
        "    plt.title('Error Rate vs. alpha Value')\n",
        "    plt.xlabel('alpha')\n",
        "    plt.ylabel('Error Rate')\n",
        "\n",
        "    print(\"the misclassification error for each k value is : \", np.round(mean_square_error,3))\n",
        "    \n",
        "    return optimal_alpha"
      ],
      "execution_count": 0,
      "outputs": []
    },
    {
      "cell_type": "code",
      "metadata": {
        "id": "fTRGvFkoelRA",
        "colab_type": "code",
        "colab": {},
        "outputId": "9cd7bb07-5da2-46ea-8a79-0cb56989c4f0"
      },
      "source": [
        "from sklearn.naive_bayes import MultinomialNB,GaussianNB,BernoulliNB\n",
        "\n",
        "lr_lst = np.arange(0.00001, 0.001, 0.00001)\n",
        "best_lr = find_optimal_k(X_train ,y_train,lr_lst)\n",
        "\n",
        "print(best_lr)"
      ],
      "execution_count": 0,
      "outputs": [
        {
          "output_type": "stream",
          "text": [
            "\n",
            "The optimal alpha is  0.0008700000000000001\n",
            "the misclassification error for each k value is :  [0.406 0.405 0.405 0.405 0.405 0.405 0.405 0.405 0.405 0.405 0.405 0.405\n",
            " 0.405 0.405 0.405 0.405 0.405 0.405 0.405 0.405 0.405 0.405 0.405 0.405\n",
            " 0.405 0.405 0.405 0.405 0.405 0.405 0.405 0.405 0.405 0.405 0.405 0.405\n",
            " 0.405 0.405 0.405 0.405 0.404 0.404 0.404 0.404 0.404 0.404 0.404 0.404\n",
            " 0.404 0.404 0.404 0.404 0.404 0.404 0.404 0.404 0.404 0.404 0.404 0.404\n",
            " 0.404 0.404 0.404 0.404 0.404 0.404 0.404 0.404 0.404 0.404 0.404 0.404\n",
            " 0.404 0.404 0.404 0.404 0.404 0.404 0.404 0.404 0.404 0.404 0.404 0.404\n",
            " 0.404 0.404 0.404 0.404 0.404 0.404 0.404 0.404 0.404 0.404 0.404 0.404\n",
            " 0.404 0.404 0.404]\n",
            "0.0008700000000000001\n"
          ],
          "name": "stdout"
        },
        {
          "output_type": "display_data",
          "data": {
            "image/png": "[encoded data removed]",
            "text/plain": [
              "<Figure size 720x432 with 1 Axes>"
            ]
          },
          "metadata": {
            "tags": [],
            "needs_background": "light"
          }
        }
      ]
    },
    {
      "cell_type": "code",
      "metadata": {
        "id": "OEQAyDZ9elRF",
        "colab_type": "code",
        "colab": {},
        "outputId": "c86f92fe-1e6a-474b-ffda-544809c6550d"
      },
      "source": [
        "NBModel = MultinomialNB(alpha = best_lr)\n",
        "NBModel.fit(X_train, y_train)\n",
        "NB_y_pred = NBModel.predict(X_test)\n",
        "print('NB Training Accuracy:', NBModel.score(X_train , y_train))\n",
        "print('NB Test Accuracy:', NBModel.score(X_test , y_test))"
      ],
      "execution_count": 0,
      "outputs": [
        {
          "output_type": "stream",
          "text": [
            "NB Training Accuracy: 0.6731372549019607\n",
            "NB Test Accuracy: 0.5873529411764706\n"
          ],
          "name": "stdout"
        }
      ]
    },
    {
      "cell_type": "code",
      "metadata": {
        "id": "agpvriXwelRR",
        "colab_type": "code",
        "colab": {}
      },
      "source": [
        "NB_Alorithm = [    \n",
        "    \n",
        "        # Naive Bayes\n",
        "        MultinomialNB(alpha = best_lr),\n",
        "        BernoulliNB(),\n",
        "        GaussianNB(),\n",
        "    ]\n",
        "\n",
        "cv_split = ShuffleSplit(n_splits = 10, test_size = .4, train_size = .6, random_state = 42)\n",
        "NB_columns = ['Algorithm Name','Algorithm Train Accuracy Mean', 'Algorithm Test Accuracy Mean','Algorithm Time']\n",
        "NB_dataframe = pd.DataFrame(columns = NB_columns)\n",
        "\n",
        "row_index = 0\n",
        "for alg in NB_Alorithm:\n",
        "    NB_Alorithm_name = alg.__class__.__name__\n",
        "    NB_dataframe.loc[row_index, 'Algorithm Name'] = NB_Alorithm_name\n",
        "    cv_results = cross_validate(alg, X,y, cv  = cv_split, return_train_score=True)\n",
        "    \n",
        "    NB_dataframe.loc[row_index, 'Algorithm Time'] = cv_results['fit_time'].mean()\n",
        "    NB_dataframe.loc[row_index, 'Algorithm Train Accuracy Mean'] = cv_results['train_score'].mean()\n",
        "    NB_dataframe.loc[row_index, 'Algorithm Test Accuracy Mean'] = cv_results['test_score'].mean()   \n",
        "        \n",
        "    row_index+=1\n",
        "   \n",
        "\n",
        "NB_dataframe.sort_values(by = ['Algorithm Test Accuracy Mean'], ascending = False, inplace = True)"
      ],
      "execution_count": 0,
      "outputs": []
    },
    {
      "cell_type": "code",
      "metadata": {
        "id": "-zgUQyE4elRY",
        "colab_type": "code",
        "colab": {},
        "outputId": "f652982c-5684-4f1b-c927-059677c0ea8b"
      },
      "source": [
        "NB_dataframe"
      ],
      "execution_count": 0,
      "outputs": [
        {
          "output_type": "execute_result",
          "data": {
            "text/html": [
              "<div>\n",
              "<style scoped>\n",
              "    .dataframe tbody tr th:only-of-type {\n",
              "        vertical-align: middle;\n",
              "    }\n",
              "\n",
              "    .dataframe tbody tr th {\n",
              "        vertical-align: top;\n",
              "    }\n",
              "\n",
              "    .dataframe thead th {\n",
              "        text-align: right;\n",
              "    }\n",
              "</style>\n",
              "<table border=\"1\" class=\"dataframe\">\n",
              "  <thead>\n",
              "    <tr style=\"text-align: right;\">\n",
              "      <th></th>\n",
              "      <th>Algorithm Name</th>\n",
              "      <th>Algorithm Train Accuracy Mean</th>\n",
              "      <th>Algorithm Test Accuracy Mean</th>\n",
              "      <th>Algorithm Time</th>\n",
              "    </tr>\n",
              "  </thead>\n",
              "  <tbody>\n",
              "    <tr>\n",
              "      <td>0</td>\n",
              "      <td>MultinomialNB</td>\n",
              "      <td>0.665647</td>\n",
              "      <td>0.597735</td>\n",
              "      <td>0.0293461</td>\n",
              "    </tr>\n",
              "    <tr>\n",
              "      <td>1</td>\n",
              "      <td>BernoulliNB</td>\n",
              "      <td>0.587294</td>\n",
              "      <td>0.539529</td>\n",
              "      <td>0.0378556</td>\n",
              "    </tr>\n",
              "    <tr>\n",
              "      <td>2</td>\n",
              "      <td>GaussianNB</td>\n",
              "      <td>0.315118</td>\n",
              "      <td>0.195412</td>\n",
              "      <td>0.0857493</td>\n",
              "    </tr>\n",
              "  </tbody>\n",
              "</table>\n",
              "</div>"
            ],
            "text/plain": [
              "  Algorithm Name Algorithm Train Accuracy Mean Algorithm Test Accuracy Mean  \\\n",
              "0  MultinomialNB                      0.665647                     0.597735   \n",
              "1    BernoulliNB                      0.587294                     0.539529   \n",
              "2     GaussianNB                      0.315118                     0.195412   \n",
              "\n",
              "  Algorithm Time  \n",
              "0      0.0293461  \n",
              "1      0.0378556  \n",
              "2      0.0857493  "
            ]
          },
          "metadata": {
            "tags": []
          },
          "execution_count": 64
        }
      ]
    },
    {
      "cell_type": "code",
      "metadata": {
        "id": "bCt5qkjRelRe",
        "colab_type": "code",
        "colab": {},
        "outputId": "6a583a4c-a994-49af-e31f-d704c67a5187"
      },
      "source": [
        "print ('Precision Score:', precision_score(y_test, NB_y_pred, pos_label='Positive', average='micro'))\n",
        "print ('Recall Score:', recall_score(y_test, NB_y_pred, pos_label='Positive', average='micro'))"
      ],
      "execution_count": 0,
      "outputs": [
        {
          "output_type": "stream",
          "text": [
            "Precision Score: 0.5873529411764706\n",
            "Recall Score: 0.5873529411764706\n"
          ],
          "name": "stdout"
        }
      ]
    },
    {
      "cell_type": "markdown",
      "metadata": {
        "id": "OLukm8pYelRj",
        "colab_type": "text"
      },
      "source": [
        "As expected, we get the best accuracy with MultinomialNB as it is more optimal algorithm for discrete values like word count. Bernoulli is more suitable for binary and boolean data values like True/False and 0/1. While Gaussian is would have been our choice if the features were in decimal form.\n",
        "\n",
        "With trying with different learning rates, the best value is achieved at 0.00087, which gives a test accuracy of 58.73% and training accuracy of 67.31 %. By using ShuffleSplit with 10 splits(creating random samples of the entire dataset during each iteration to generate a training set and a test set) we get an Average Train Accuracy of 66.56% and Average Test Accuracy of 59.77% with the least fit-time, time for fitting the estimator on the train set for each cv split, of 0.029 seconds."
      ]
    },
    {
      "cell_type": "code",
      "metadata": {
        "id": "Q51A2943elRk",
        "colab_type": "code",
        "colab": {},
        "outputId": "8e192cc4-bbd8-4d9f-802b-0743e21c433f"
      },
      "source": [
        "print ('Classification Report:', classification_report(y_test, NB_y_pred))"
      ],
      "execution_count": 0,
      "outputs": [
        {
          "output_type": "stream",
          "text": [
            "Classification Report:               precision    recall  f1-score   support\n",
            "\n",
            "           0       0.63      0.96      0.76      1550\n",
            "           1       0.76      0.28      0.41        57\n",
            "           2       0.47      0.37      0.41        92\n",
            "           3       0.33      0.19      0.24        57\n",
            "           4       0.43      0.14      0.21        43\n",
            "           5       0.20      0.05      0.08        42\n",
            "           6       0.85      0.80      0.82        35\n",
            "           7       0.25      0.05      0.08        40\n",
            "           8       0.10      0.01      0.02        96\n",
            "           9       0.61      0.28      0.38        98\n",
            "          10       0.64      0.33      0.44       124\n",
            "          11       0.50      0.16      0.24        44\n",
            "          12       0.00      0.00      0.00        28\n",
            "          13       0.55      0.16      0.25        37\n",
            "          14       0.45      0.07      0.12        69\n",
            "          15       0.29      0.05      0.09        38\n",
            "          16       0.31      0.11      0.16        36\n",
            "          17       0.50      0.10      0.16        21\n",
            "          18       0.50      0.07      0.12        44\n",
            "          19       0.00      0.00      0.00        53\n",
            "          20       0.65      0.16      0.25        83\n",
            "          21       0.25      0.03      0.06        32\n",
            "          22       0.52      0.89      0.66       266\n",
            "          23       0.00      0.00      0.00        90\n",
            "          24       0.32      0.19      0.24       325\n",
            "\n",
            "    accuracy                           0.59      3400\n",
            "   macro avg       0.40      0.22      0.25      3400\n",
            "weighted avg       0.51      0.59      0.51      3400\n",
            "\n"
          ],
          "name": "stdout"
        }
      ]
    },
    {
      "cell_type": "code",
      "metadata": {
        "id": "yKksmHMFelRr",
        "colab_type": "code",
        "colab": {}
      },
      "source": [
        ""
      ],
      "execution_count": 0,
      "outputs": []
    },
    {
      "cell_type": "code",
      "metadata": {
        "id": "Qf4sb-rCelRw",
        "colab_type": "code",
        "colab": {}
      },
      "source": [
        ""
      ],
      "execution_count": 0,
      "outputs": []
    }
  ]
}