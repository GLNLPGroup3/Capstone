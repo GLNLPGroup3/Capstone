{
  "nbformat": 4,
  "nbformat_minor": 0,
  "metadata": {
    "accelerator": "GPU",
    "colab": {
      "name": "NLP_Automated_Ticket_Assignment_Final_0733_8apr.ipynb",
      "provenance": [],
      "collapsed_sections": []
    },
    "kernelspec": {
      "display_name": "Python 3",
      "language": "python",
      "name": "python3"
    },
    "language_info": {
      "codemirror_mode": {
        "name": "ipython",
        "version": 3
      },
      "file_extension": ".py",
      "mimetype": "text/x-python",
      "name": "python",
      "nbconvert_exporter": "python",
      "pygments_lexer": "ipython3",
      "version": "3.7.1"
    }
  },
  "cells": [
    {
      "cell_type": "markdown",
      "metadata": {
        "colab_type": "text",
        "id": "view-in-github"
      },
      "source": [
        "<a href=\"https://colab.research.google.com/github/styagi7/Capstone/blob/styagi/NLP_Automated_Ticket_Assignment_Baseline.ipynb\" target=\"_parent\"><img src=\"https://colab.research.google.com/assets/colab-badge.svg\" alt=\"Open In Colab\"/></a>"
      ]
    },
    {
      "cell_type": "markdown",
      "metadata": {
        "colab_type": "text",
        "id": "pp68FAQf9aMN"
      },
      "source": [
        "# Great Learning - Capstone Project - NLP | Automated Ticket Assignment\n",
        "*  **Submitted By**: Gaurav, Karishma, Lavanya, Pallavi and Swati \n",
        "* **Status** : In-Progress (EDA, Feature Engineering & Selection)\n",
        "* **Date of Submission** : 29-March-2020\n",
        "* **Dataset** : https://drive.google.com/drive/u/0/folders/1xOCdNI2R5hiodskIJbj-QySMQs6ccehL"
      ]
    },
    {
      "cell_type": "markdown",
      "metadata": {
        "colab_type": "text",
        "id": "EVHPD9ChfPUM"
      },
      "source": [
        "# Problem Statement\n",
        "One of the key activities of any IT function is to ensure there is no impact to the Business operations through Incident Management process. An incident is an unplanned interruption to an IT service or reduction in the quality of an IT service that affects the Users and the Business.\n",
        "\n",
        "The main goal of Incident Management process is to provide a quick fix / workarounds or solutions that resolves the interruption and restores the service to its full capacity to ensure no business impact.\n",
        "\n",
        "These incidents are created by various stakeholders (Business Users, IT Users and Monitoring Tools) within IT Service Management Tool and are assigned to Service Desk teams (L1 / L2 teams). \n",
        "\n",
        "**The goal of this project is to build a classifier that can classify the incidents by analysing text**.\n",
        "\n",
        "\n",
        "# Solution\n",
        "The solution is to build a classification model that can analyse the text and classify to appropriate Service Desk team.\n",
        "\n",
        "# Approach\n",
        "\n",
        "\n",
        "*   Analyse and Understand the structure of data\n",
        "*   Visualize data\n",
        "*   Text preprocessing\n",
        "*   Create word vocabulary and Tokens\n",
        "*   Build a Classification model\n",
        "*   Train the model\n",
        "*   Test the Model "
      ]
    },
    {
      "cell_type": "markdown",
      "metadata": {
        "colab_type": "text",
        "id": "v9kv9tyJ77eF"
      },
      "source": [
        "## Get Required Files from Drive"
      ]
    },
    {
      "cell_type": "code",
      "metadata": {
        "colab_type": "code",
        "id": "D0O_n6OIEVyL",
        "outputId": "d2f31348-9fba-4e05-87e7-ef6c66e4a4f8",
        "colab": {
          "base_uri": "https://localhost:8080/",
          "height": 122
        }
      },
      "source": [
        "from google.colab import drive\n",
        "drive.mount('/content/drive')"
      ],
      "execution_count": 0,
      "outputs": [
        {
          "output_type": "stream",
          "text": [
            "Go to this URL in a browser: https://accounts.google.com/o/oauth2/auth?client_id=947318989803-6bn6qk8qdgf4n4g3pfee6491hc0brc4i.apps.googleusercontent.com&redirect_uri=urn%3aietf%3awg%3aoauth%3a2.0%3aoob&response_type=code&scope=email%20https%3a%2f%2fwww.googleapis.com%2fauth%2fdocs.test%20https%3a%2f%2fwww.googleapis.com%2fauth%2fdrive%20https%3a%2f%2fwww.googleapis.com%2fauth%2fdrive.photos.readonly%20https%3a%2f%2fwww.googleapis.com%2fauth%2fpeopleapi.readonly\n",
            "\n",
            "Enter your authorization code:\n",
            "··········\n",
            "Mounted at /content/drive\n"
          ],
          "name": "stdout"
        }
      ]
    },
    {
      "cell_type": "code",
      "metadata": {
        "colab_type": "code",
        "id": "0mgRpOvFMjKR",
        "outputId": "0d2fd38c-99e7-497a-8dd0-1e5a5883ecb1",
        "colab": {
          "base_uri": "https://localhost:8080/",
          "height": 34
        }
      },
      "source": [
        "# changing present working directory\n",
        "import os\n",
        "os.chdir(\"/content/drive/My Drive/Capstone Project/NLP\")\n",
        "os.getcwd()"
      ],
      "execution_count": 0,
      "outputs": [
        {
          "output_type": "execute_result",
          "data": {
            "text/plain": [
              "'/content/drive/My Drive/Capstone Project/NLP'"
            ]
          },
          "metadata": {
            "tags": []
          },
          "execution_count": 2
        }
      ]
    },
    {
      "cell_type": "code",
      "metadata": {
        "colab_type": "code",
        "id": "I24x8-gwTfq4",
        "outputId": "cf4652e7-7931-4f72-9ccf-797654c31ac7",
        "colab": {
          "base_uri": "https://localhost:8080/",
          "height": 85
        }
      },
      "source": [
        "import numpy as np\n",
        "import pandas as pd\n",
        "\n",
        "import matplotlib.pyplot as plt\n",
        "import plotly.express as px\n",
        "%matplotlib inline\n",
        "import seaborn as sns\n",
        "sns.set(style=\"ticks\", color_codes=True)\n",
        "sns.set_palette(\"Spectral\")\n",
        "from wordcloud import WordCloud, STOPWORDS\n",
        "from sklearn.feature_extraction.text import TfidfVectorizer\n",
        "\n",
        "#import DataPreprocessor as DP\n",
        "\n",
        "from pprint import pprint\n",
        "from sklearn import preprocessing \n",
        "\n",
        "import warnings\n",
        "warnings.filterwarnings(action='ignore')\n",
        "\n",
        "from sklearn.model_selection import train_test_split\n",
        "from sklearn.svm import SVC"
      ],
      "execution_count": 0,
      "outputs": [
        {
          "output_type": "stream",
          "text": [
            "/usr/local/lib/python3.6/dist-packages/statsmodels/tools/_testing.py:19: FutureWarning:\n",
            "\n",
            "pandas.util.testing is deprecated. Use the functions in the public API at pandas.testing instead.\n",
            "\n"
          ],
          "name": "stderr"
        }
      ]
    },
    {
      "cell_type": "code",
      "metadata": {
        "colab_type": "code",
        "id": "4USKhCiETnxY",
        "outputId": "2de6c7ba-57ee-44fc-8cc8-1a21a7064547",
        "colab": {
          "base_uri": "https://localhost:8080/",
          "height": 170
        }
      },
      "source": [
        "# NLTK Stop words\n",
        "import nltk\n",
        "nltk.download('stopwords')\n",
        "nltk.download('wordnet')\n",
        "nltk.download('averaged_perceptron_tagger')\n",
        "nltk.download('words')\n",
        "words = set(nltk.corpus.words.words())\n",
        "from nltk.corpus import stopwords\n",
        "stop_words = stopwords.words('english')\n",
        "stop_words.extend(['received from', 'hi', 'hello','i','am','cc','sir','good morning','gentles','dear','kind','best','please',''])\n",
        "from nltk.tokenize import word_tokenize \n",
        "from nltk.stem import WordNetLemmatizer\n",
        "from gensim.utils import tokenize"
      ],
      "execution_count": 0,
      "outputs": [
        {
          "output_type": "stream",
          "text": [
            "[nltk_data] Downloading package stopwords to /root/nltk_data...\n",
            "[nltk_data]   Unzipping corpora/stopwords.zip.\n",
            "[nltk_data] Downloading package wordnet to /root/nltk_data...\n",
            "[nltk_data]   Unzipping corpora/wordnet.zip.\n",
            "[nltk_data] Downloading package averaged_perceptron_tagger to\n",
            "[nltk_data]     /root/nltk_data...\n",
            "[nltk_data]   Unzipping taggers/averaged_perceptron_tagger.zip.\n",
            "[nltk_data] Downloading package words to /root/nltk_data...\n",
            "[nltk_data]   Unzipping corpora/words.zip.\n"
          ],
          "name": "stdout"
        }
      ]
    },
    {
      "cell_type": "markdown",
      "metadata": {
        "colab_type": "text",
        "id": "WXYwajPeQbRq"
      },
      "source": [
        "#**## Reading and Exploring Data**"
      ]
    },
    {
      "cell_type": "markdown",
      "metadata": {
        "colab_type": "text",
        "id": "vAk6BRUh8CqL"
      },
      "source": [
        "## Reading Data \"Input Data Synthetic (created but not used in our project).xlsx\". Exploring the data and getting some insights about the data."
      ]
    },
    {
      "cell_type": "code",
      "metadata": {
        "colab_type": "code",
        "id": "-gE_xtSyeJeY",
        "outputId": "affb7021-0cb8-43df-e181-acbc1b06ac8d",
        "colab": {
          "base_uri": "https://localhost:8080/",
          "height": 204
        }
      },
      "source": [
        "# Read Dataset\n",
        "file_name = \"Ticket_Data.xlsx\" \n",
        "df = pd.read_excel(file_name,encoding='cp1252')\n",
        "df = df.rename(columns = {\"Short description\": \"Short_description\",\n",
        "                          \"Assignment group\": \"Group\"})\n",
        "DELETE_CALLER = False #True\n",
        "\n",
        "df.head()"
      ],
      "execution_count": 0,
      "outputs": [
        {
          "output_type": "execute_result",
          "data": {
            "text/html": [
              "<div>\n",
              "<style scoped>\n",
              "    .dataframe tbody tr th:only-of-type {\n",
              "        vertical-align: middle;\n",
              "    }\n",
              "\n",
              "    .dataframe tbody tr th {\n",
              "        vertical-align: top;\n",
              "    }\n",
              "\n",
              "    .dataframe thead th {\n",
              "        text-align: right;\n",
              "    }\n",
              "</style>\n",
              "<table border=\"1\" class=\"dataframe\">\n",
              "  <thead>\n",
              "    <tr style=\"text-align: right;\">\n",
              "      <th></th>\n",
              "      <th>Short_description</th>\n",
              "      <th>Description</th>\n",
              "      <th>Caller</th>\n",
              "      <th>Group</th>\n",
              "    </tr>\n",
              "  </thead>\n",
              "  <tbody>\n",
              "    <tr>\n",
              "      <th>0</th>\n",
              "      <td>login issue</td>\n",
              "      <td>-verified user details.(employee# &amp; manager na...</td>\n",
              "      <td>spxjnwir pjlcoqds</td>\n",
              "      <td>GRP_0</td>\n",
              "    </tr>\n",
              "    <tr>\n",
              "      <th>1</th>\n",
              "      <td>outlook</td>\n",
              "      <td>\\r\\n\\r\\nreceived from: hmjdrvpb.komuaywn@gmail...</td>\n",
              "      <td>hmjdrvpb komuaywn</td>\n",
              "      <td>GRP_0</td>\n",
              "    </tr>\n",
              "    <tr>\n",
              "      <th>2</th>\n",
              "      <td>cant log in to vpn</td>\n",
              "      <td>\\r\\n\\r\\nreceived from: eylqgodm.ybqkwiam@gmail...</td>\n",
              "      <td>eylqgodm ybqkwiam</td>\n",
              "      <td>GRP_0</td>\n",
              "    </tr>\n",
              "    <tr>\n",
              "      <th>3</th>\n",
              "      <td>unable to access hr_tool page</td>\n",
              "      <td>unable to access hr_tool page</td>\n",
              "      <td>xbkucsvz gcpydteq</td>\n",
              "      <td>GRP_0</td>\n",
              "    </tr>\n",
              "    <tr>\n",
              "      <th>4</th>\n",
              "      <td>skype error</td>\n",
              "      <td>skype error</td>\n",
              "      <td>owlgqjme qhcozdfx</td>\n",
              "      <td>GRP_0</td>\n",
              "    </tr>\n",
              "  </tbody>\n",
              "</table>\n",
              "</div>"
            ],
            "text/plain": [
              "               Short_description  ...  Group\n",
              "0                    login issue  ...  GRP_0\n",
              "1                        outlook  ...  GRP_0\n",
              "2             cant log in to vpn  ...  GRP_0\n",
              "3  unable to access hr_tool page  ...  GRP_0\n",
              "4                   skype error   ...  GRP_0\n",
              "\n",
              "[5 rows x 4 columns]"
            ]
          },
          "metadata": {
            "tags": []
          },
          "execution_count": 5
        }
      ]
    },
    {
      "cell_type": "code",
      "metadata": {
        "colab_type": "code",
        "id": "YfKfF24rtC6G",
        "outputId": "caf9cff9-83da-46fc-83be-377bd64cf3ff",
        "colab": {
          "base_uri": "https://localhost:8080/",
          "height": 207
        }
      },
      "source": [
        "# Checking Shape of the data\n",
        "print(\"Data shape:\", df.shape)\n",
        "print(\"Data Description:\")\n",
        "df.describe()"
      ],
      "execution_count": 0,
      "outputs": [
        {
          "output_type": "stream",
          "text": [
            "Data shape: (8500, 4)\n",
            "Data Description:\n"
          ],
          "name": "stdout"
        },
        {
          "output_type": "execute_result",
          "data": {
            "text/html": [
              "<div>\n",
              "<style scoped>\n",
              "    .dataframe tbody tr th:only-of-type {\n",
              "        vertical-align: middle;\n",
              "    }\n",
              "\n",
              "    .dataframe tbody tr th {\n",
              "        vertical-align: top;\n",
              "    }\n",
              "\n",
              "    .dataframe thead th {\n",
              "        text-align: right;\n",
              "    }\n",
              "</style>\n",
              "<table border=\"1\" class=\"dataframe\">\n",
              "  <thead>\n",
              "    <tr style=\"text-align: right;\">\n",
              "      <th></th>\n",
              "      <th>Short_description</th>\n",
              "      <th>Description</th>\n",
              "      <th>Caller</th>\n",
              "      <th>Group</th>\n",
              "    </tr>\n",
              "  </thead>\n",
              "  <tbody>\n",
              "    <tr>\n",
              "      <th>count</th>\n",
              "      <td>8492</td>\n",
              "      <td>8499</td>\n",
              "      <td>8500</td>\n",
              "      <td>8500</td>\n",
              "    </tr>\n",
              "    <tr>\n",
              "      <th>unique</th>\n",
              "      <td>7481</td>\n",
              "      <td>7817</td>\n",
              "      <td>2950</td>\n",
              "      <td>74</td>\n",
              "    </tr>\n",
              "    <tr>\n",
              "      <th>top</th>\n",
              "      <td>password reset</td>\n",
              "      <td>the</td>\n",
              "      <td>bpctwhsn kzqsbmtp</td>\n",
              "      <td>GRP_0</td>\n",
              "    </tr>\n",
              "    <tr>\n",
              "      <th>freq</th>\n",
              "      <td>38</td>\n",
              "      <td>56</td>\n",
              "      <td>810</td>\n",
              "      <td>3976</td>\n",
              "    </tr>\n",
              "  </tbody>\n",
              "</table>\n",
              "</div>"
            ],
            "text/plain": [
              "       Short_description Description             Caller  Group\n",
              "count               8492        8499               8500   8500\n",
              "unique              7481        7817               2950     74\n",
              "top       password reset         the  bpctwhsn kzqsbmtp  GRP_0\n",
              "freq                  38          56                810   3976"
            ]
          },
          "metadata": {
            "tags": []
          },
          "execution_count": 6
        }
      ]
    },
    {
      "cell_type": "code",
      "metadata": {
        "colab_type": "code",
        "id": "VlOQpIeoWtHv",
        "outputId": "7f3f1968-41ea-46a7-ea25-47b24ff78df9",
        "colab": {
          "base_uri": "https://localhost:8080/",
          "height": 34
        }
      },
      "source": [
        "# Drop duplicate rows\n",
        "df_v1 = df\n",
        "df_v1 = df_v1.drop_duplicates(keep='first', inplace=False)\n",
        "df_v1.shape"
      ],
      "execution_count": 0,
      "outputs": [
        {
          "output_type": "execute_result",
          "data": {
            "text/plain": [
              "(8417, 4)"
            ]
          },
          "metadata": {
            "tags": []
          },
          "execution_count": 7
        }
      ]
    },
    {
      "cell_type": "markdown",
      "metadata": {
        "colab_type": "text",
        "id": "5dgn0E83Riv5"
      },
      "source": [
        "## Exploratory Data Analysis (EDA)\n"
      ]
    },
    {
      "cell_type": "code",
      "metadata": {
        "colab_type": "code",
        "id": "2XMIVebjRsco",
        "colab": {}
      },
      "source": [
        "# def wordCloudText(df_column):\n",
        "#   title = (\"Most Frequent words in \") + df_column.name\n",
        "#   stopwords = set(STOPWORDS)\n",
        "#   wordcloud = WordCloud(background_color='black', stopwords=stopwords, max_words=200,\n",
        "#                         max_font_size=40, random_state=42).generate(str(df_column.values.tolist()))\n",
        "#   print(wordcloud)\n",
        "#   fig = plt.figure(1,figsize = (20, 8))\n",
        "#   plt.imshow(wordcloud)\n",
        "#   plt.title(title ,fontsize=30)\n",
        "#   plt.axis('off')\n",
        "#   plt.show()"
      ],
      "execution_count": 0,
      "outputs": []
    },
    {
      "cell_type": "code",
      "metadata": {
        "colab_type": "code",
        "id": "_z6N5x8XRsfK",
        "colab": {}
      },
      "source": [
        "# wordCloudText(df.Short_description)"
      ],
      "execution_count": 0,
      "outputs": []
    },
    {
      "cell_type": "code",
      "metadata": {
        "colab_type": "code",
        "id": "8mpK4fQqRsib",
        "colab": {}
      },
      "source": [
        "# wordCloudText(df.Description)"
      ],
      "execution_count": 0,
      "outputs": []
    },
    {
      "cell_type": "markdown",
      "metadata": {
        "colab_type": "text",
        "id": "Tyl__1vLgqv6"
      },
      "source": [
        "## Drop \"Caller\" column based on flag set by DELETE_CALLER. It seems to be anonymised data (usernames/ids). "
      ]
    },
    {
      "cell_type": "code",
      "metadata": {
        "colab_type": "code",
        "id": "ZaqBo4eygpo4",
        "outputId": "5c018723-5b31-4f6f-a6b0-3b4238cecdaa",
        "colab": {
          "base_uri": "https://localhost:8080/",
          "height": 669
        }
      },
      "source": [
        "if DELETE_CALLER:\n",
        "  df_v1 = df.drop('Caller',axis=1)\n",
        "else:\n",
        "    df_v1 = df.copy()\n",
        "df_v1.head(20)"
      ],
      "execution_count": 0,
      "outputs": [
        {
          "output_type": "execute_result",
          "data": {
            "text/html": [
              "<div>\n",
              "<style scoped>\n",
              "    .dataframe tbody tr th:only-of-type {\n",
              "        vertical-align: middle;\n",
              "    }\n",
              "\n",
              "    .dataframe tbody tr th {\n",
              "        vertical-align: top;\n",
              "    }\n",
              "\n",
              "    .dataframe thead th {\n",
              "        text-align: right;\n",
              "    }\n",
              "</style>\n",
              "<table border=\"1\" class=\"dataframe\">\n",
              "  <thead>\n",
              "    <tr style=\"text-align: right;\">\n",
              "      <th></th>\n",
              "      <th>Short_description</th>\n",
              "      <th>Description</th>\n",
              "      <th>Caller</th>\n",
              "      <th>Group</th>\n",
              "    </tr>\n",
              "  </thead>\n",
              "  <tbody>\n",
              "    <tr>\n",
              "      <th>0</th>\n",
              "      <td>login issue</td>\n",
              "      <td>-verified user details.(employee# &amp; manager na...</td>\n",
              "      <td>spxjnwir pjlcoqds</td>\n",
              "      <td>GRP_0</td>\n",
              "    </tr>\n",
              "    <tr>\n",
              "      <th>1</th>\n",
              "      <td>outlook</td>\n",
              "      <td>\\r\\n\\r\\nreceived from: hmjdrvpb.komuaywn@gmail...</td>\n",
              "      <td>hmjdrvpb komuaywn</td>\n",
              "      <td>GRP_0</td>\n",
              "    </tr>\n",
              "    <tr>\n",
              "      <th>2</th>\n",
              "      <td>cant log in to vpn</td>\n",
              "      <td>\\r\\n\\r\\nreceived from: eylqgodm.ybqkwiam@gmail...</td>\n",
              "      <td>eylqgodm ybqkwiam</td>\n",
              "      <td>GRP_0</td>\n",
              "    </tr>\n",
              "    <tr>\n",
              "      <th>3</th>\n",
              "      <td>unable to access hr_tool page</td>\n",
              "      <td>unable to access hr_tool page</td>\n",
              "      <td>xbkucsvz gcpydteq</td>\n",
              "      <td>GRP_0</td>\n",
              "    </tr>\n",
              "    <tr>\n",
              "      <th>4</th>\n",
              "      <td>skype error</td>\n",
              "      <td>skype error</td>\n",
              "      <td>owlgqjme qhcozdfx</td>\n",
              "      <td>GRP_0</td>\n",
              "    </tr>\n",
              "    <tr>\n",
              "      <th>5</th>\n",
              "      <td>unable to log in to engineering tool and skype</td>\n",
              "      <td>unable to log in to engineering tool and skype</td>\n",
              "      <td>eflahbxn ltdgrvkz</td>\n",
              "      <td>GRP_0</td>\n",
              "    </tr>\n",
              "    <tr>\n",
              "      <th>6</th>\n",
              "      <td>event: critical:HostName_221.company.com the v...</td>\n",
              "      <td>event: critical:HostName_221.company.com the v...</td>\n",
              "      <td>jyoqwxhz clhxsoqy</td>\n",
              "      <td>GRP_1</td>\n",
              "    </tr>\n",
              "    <tr>\n",
              "      <th>7</th>\n",
              "      <td>ticket_no1550391- employment status - new non-...</td>\n",
              "      <td>ticket_no1550391- employment status - new non-...</td>\n",
              "      <td>eqzibjhw ymebpoih</td>\n",
              "      <td>GRP_0</td>\n",
              "    </tr>\n",
              "    <tr>\n",
              "      <th>8</th>\n",
              "      <td>unable to disable add ins on outlook</td>\n",
              "      <td>unable to disable add ins on outlook</td>\n",
              "      <td>mdbegvct dbvichlg</td>\n",
              "      <td>GRP_0</td>\n",
              "    </tr>\n",
              "    <tr>\n",
              "      <th>9</th>\n",
              "      <td>ticket update on inplant_874773</td>\n",
              "      <td>ticket update on inplant_874773</td>\n",
              "      <td>fumkcsji sarmtlhy</td>\n",
              "      <td>GRP_0</td>\n",
              "    </tr>\n",
              "    <tr>\n",
              "      <th>10</th>\n",
              "      <td>engineering tool says not connected and unable...</td>\n",
              "      <td>engineering tool says not connected and unable...</td>\n",
              "      <td>badgknqs xwelumfz</td>\n",
              "      <td>GRP_0</td>\n",
              "    </tr>\n",
              "    <tr>\n",
              "      <th>11</th>\n",
              "      <td>hr_tool site not loading page correctly</td>\n",
              "      <td>hr_tool site not loading page correctly</td>\n",
              "      <td>dcqsolkx kmsijcuz</td>\n",
              "      <td>GRP_0</td>\n",
              "    </tr>\n",
              "    <tr>\n",
              "      <th>12</th>\n",
              "      <td>unable to login to hr_tool to sgxqsuojr xwbeso...</td>\n",
              "      <td>unable to login to hr_tool to sgxqsuojr xwbeso...</td>\n",
              "      <td>oblekmrw qltgvspb</td>\n",
              "      <td>GRP_0</td>\n",
              "    </tr>\n",
              "    <tr>\n",
              "      <th>13</th>\n",
              "      <td>user wants to reset the password</td>\n",
              "      <td>user wants to reset the password</td>\n",
              "      <td>iftldbmu fujslwby</td>\n",
              "      <td>GRP_0</td>\n",
              "    </tr>\n",
              "    <tr>\n",
              "      <th>14</th>\n",
              "      <td>unable to open payslips</td>\n",
              "      <td>unable to open payslips</td>\n",
              "      <td>epwyvjsz najukwho</td>\n",
              "      <td>GRP_0</td>\n",
              "    </tr>\n",
              "    <tr>\n",
              "      <th>15</th>\n",
              "      <td>ticket update on inplant_874743</td>\n",
              "      <td>ticket update on inplant_874743</td>\n",
              "      <td>fumkcsji sarmtlhy</td>\n",
              "      <td>GRP_0</td>\n",
              "    </tr>\n",
              "    <tr>\n",
              "      <th>16</th>\n",
              "      <td>unable to login to company vpn</td>\n",
              "      <td>\\n\\nreceived from: xyz@company.com\\n\\nhi,\\n\\ni...</td>\n",
              "      <td>chobktqj qdamxfuc</td>\n",
              "      <td>GRP_0</td>\n",
              "    </tr>\n",
              "    <tr>\n",
              "      <th>17</th>\n",
              "      <td>when undocking pc , screen will not come back</td>\n",
              "      <td>when undocking pc , screen will not come back</td>\n",
              "      <td>sigfdwcj reofwzlm</td>\n",
              "      <td>GRP_3</td>\n",
              "    </tr>\n",
              "    <tr>\n",
              "      <th>18</th>\n",
              "      <td>erp SID_34 account locked</td>\n",
              "      <td>erp SID_34 account locked</td>\n",
              "      <td>nqdyowsm yqerwtna</td>\n",
              "      <td>GRP_0</td>\n",
              "    </tr>\n",
              "    <tr>\n",
              "      <th>19</th>\n",
              "      <td>unable to sign into vpn</td>\n",
              "      <td>unable to sign into vpn</td>\n",
              "      <td>ftsqkvre bqzrupic</td>\n",
              "      <td>GRP_0</td>\n",
              "    </tr>\n",
              "  </tbody>\n",
              "</table>\n",
              "</div>"
            ],
            "text/plain": [
              "                                    Short_description  ...  Group\n",
              "0                                         login issue  ...  GRP_0\n",
              "1                                             outlook  ...  GRP_0\n",
              "2                                  cant log in to vpn  ...  GRP_0\n",
              "3                       unable to access hr_tool page  ...  GRP_0\n",
              "4                                        skype error   ...  GRP_0\n",
              "5      unable to log in to engineering tool and skype  ...  GRP_0\n",
              "6   event: critical:HostName_221.company.com the v...  ...  GRP_1\n",
              "7   ticket_no1550391- employment status - new non-...  ...  GRP_0\n",
              "8                unable to disable add ins on outlook  ...  GRP_0\n",
              "9                     ticket update on inplant_874773  ...  GRP_0\n",
              "10  engineering tool says not connected and unable...  ...  GRP_0\n",
              "11            hr_tool site not loading page correctly  ...  GRP_0\n",
              "12  unable to login to hr_tool to sgxqsuojr xwbeso...  ...  GRP_0\n",
              "13                   user wants to reset the password  ...  GRP_0\n",
              "14                           unable to open payslips   ...  GRP_0\n",
              "15                    ticket update on inplant_874743  ...  GRP_0\n",
              "16                     unable to login to company vpn  ...  GRP_0\n",
              "17      when undocking pc , screen will not come back  ...  GRP_3\n",
              "18                          erp SID_34 account locked  ...  GRP_0\n",
              "19                            unable to sign into vpn  ...  GRP_0\n",
              "\n",
              "[20 rows x 4 columns]"
            ]
          },
          "metadata": {
            "tags": []
          },
          "execution_count": 11
        }
      ]
    },
    {
      "cell_type": "code",
      "metadata": {
        "colab_type": "code",
        "id": "yEaRisVajfkB",
        "outputId": "f3d71581-e45d-46ad-dbcd-393eda5be7de",
        "colab": {
          "base_uri": "https://localhost:8080/",
          "height": 102
        }
      },
      "source": [
        "# Fetch rows with same data in \"Short_description\" & \"Description\"\n",
        "df_v1[df_v1['Short_description'] == df_v1['Description']].count()"
      ],
      "execution_count": 0,
      "outputs": [
        {
          "output_type": "execute_result",
          "data": {
            "text/plain": [
              "Short_description    2862\n",
              "Description          2862\n",
              "Caller               2862\n",
              "Group                2862\n",
              "dtype: int64"
            ]
          },
          "metadata": {
            "tags": []
          },
          "execution_count": 12
        }
      ]
    },
    {
      "cell_type": "markdown",
      "metadata": {
        "colab_type": "text",
        "id": "q7Mt7CDccCgD"
      },
      "source": [
        "## Finding & Imputing Null values in Short Description & Description columns"
      ]
    },
    {
      "cell_type": "code",
      "metadata": {
        "colab_type": "code",
        "id": "fR1T_AG1E882",
        "outputId": "dfb8f020-30b3-4df9-c49c-7fd2dfe082d1",
        "colab": {
          "base_uri": "https://localhost:8080/",
          "height": 467
        }
      },
      "source": [
        "# Check for number of null values in each columns\n",
        "print(\"Total Null Values in data:\", df_v1.isnull().sum().sum())\n",
        "print(\"\\nNull Values accross columns:\\n\", df_v1.isnull().sum())\n",
        "print(\"\\nData with 'Null' Short Description\")\n",
        "df_v1.loc[df_v1['Short_description'].isnull()==True]"
      ],
      "execution_count": 0,
      "outputs": [
        {
          "output_type": "stream",
          "text": [
            "Total Null Values in data: 9\n",
            "\n",
            "Null Values accross columns:\n",
            " Short_description    8\n",
            "Description          1\n",
            "Caller               0\n",
            "Group                0\n",
            "dtype: int64\n",
            "\n",
            "Data with 'Null' Short Description\n"
          ],
          "name": "stdout"
        },
        {
          "output_type": "execute_result",
          "data": {
            "text/html": [
              "<div>\n",
              "<style scoped>\n",
              "    .dataframe tbody tr th:only-of-type {\n",
              "        vertical-align: middle;\n",
              "    }\n",
              "\n",
              "    .dataframe tbody tr th {\n",
              "        vertical-align: top;\n",
              "    }\n",
              "\n",
              "    .dataframe thead th {\n",
              "        text-align: right;\n",
              "    }\n",
              "</style>\n",
              "<table border=\"1\" class=\"dataframe\">\n",
              "  <thead>\n",
              "    <tr style=\"text-align: right;\">\n",
              "      <th></th>\n",
              "      <th>Short_description</th>\n",
              "      <th>Description</th>\n",
              "      <th>Caller</th>\n",
              "      <th>Group</th>\n",
              "    </tr>\n",
              "  </thead>\n",
              "  <tbody>\n",
              "    <tr>\n",
              "      <th>2604</th>\n",
              "      <td>NaN</td>\n",
              "      <td>\\r\\n\\r\\nreceived from: ohdrnswl.rezuibdt@gmail...</td>\n",
              "      <td>ohdrnswl rezuibdt</td>\n",
              "      <td>GRP_34</td>\n",
              "    </tr>\n",
              "    <tr>\n",
              "      <th>3383</th>\n",
              "      <td>NaN</td>\n",
              "      <td>\\r\\n-connected to the user system using teamvi...</td>\n",
              "      <td>qftpazns fxpnytmk</td>\n",
              "      <td>GRP_0</td>\n",
              "    </tr>\n",
              "    <tr>\n",
              "      <th>3906</th>\n",
              "      <td>NaN</td>\n",
              "      <td>-user unable  tologin to vpn.\\r\\n-connected to...</td>\n",
              "      <td>awpcmsey ctdiuqwe</td>\n",
              "      <td>GRP_0</td>\n",
              "    </tr>\n",
              "    <tr>\n",
              "      <th>3910</th>\n",
              "      <td>NaN</td>\n",
              "      <td>-user unable  tologin to vpn.\\r\\n-connected to...</td>\n",
              "      <td>rhwsmefo tvphyura</td>\n",
              "      <td>GRP_0</td>\n",
              "    </tr>\n",
              "    <tr>\n",
              "      <th>3915</th>\n",
              "      <td>NaN</td>\n",
              "      <td>-user unable  tologin to vpn.\\r\\n-connected to...</td>\n",
              "      <td>hxripljo efzounig</td>\n",
              "      <td>GRP_0</td>\n",
              "    </tr>\n",
              "    <tr>\n",
              "      <th>3921</th>\n",
              "      <td>NaN</td>\n",
              "      <td>-user unable  tologin to vpn.\\r\\n-connected to...</td>\n",
              "      <td>cziadygo veiosxby</td>\n",
              "      <td>GRP_0</td>\n",
              "    </tr>\n",
              "    <tr>\n",
              "      <th>3924</th>\n",
              "      <td>NaN</td>\n",
              "      <td>name:wvqgbdhm fwchqjor\\nlanguage:\\nbrowser:mic...</td>\n",
              "      <td>wvqgbdhm fwchqjor</td>\n",
              "      <td>GRP_0</td>\n",
              "    </tr>\n",
              "    <tr>\n",
              "      <th>4341</th>\n",
              "      <td>NaN</td>\n",
              "      <td>\\r\\n\\r\\nreceived from: eqmuniov.ehxkcbgj@gmail...</td>\n",
              "      <td>eqmuniov ehxkcbgj</td>\n",
              "      <td>GRP_0</td>\n",
              "    </tr>\n",
              "  </tbody>\n",
              "</table>\n",
              "</div>"
            ],
            "text/plain": [
              "     Short_description  ...   Group\n",
              "2604               NaN  ...  GRP_34\n",
              "3383               NaN  ...   GRP_0\n",
              "3906               NaN  ...   GRP_0\n",
              "3910               NaN  ...   GRP_0\n",
              "3915               NaN  ...   GRP_0\n",
              "3921               NaN  ...   GRP_0\n",
              "3924               NaN  ...   GRP_0\n",
              "4341               NaN  ...   GRP_0\n",
              "\n",
              "[8 rows x 4 columns]"
            ]
          },
          "metadata": {
            "tags": []
          },
          "execution_count": 13
        }
      ]
    },
    {
      "cell_type": "code",
      "metadata": {
        "colab_type": "code",
        "id": "Pe3nSM81ivz8",
        "outputId": "c7431314-3be5-4e02-fc52-5ad9b92e7423",
        "colab": {
          "base_uri": "https://localhost:8080/",
          "height": 114
        }
      },
      "source": [
        "print(\"\\nData with 'Null' Description\")\n",
        "df_v1.loc[df_v1['Description'].isnull()==True]"
      ],
      "execution_count": 0,
      "outputs": [
        {
          "output_type": "stream",
          "text": [
            "\n",
            "Data with 'Null' Description\n"
          ],
          "name": "stdout"
        },
        {
          "output_type": "execute_result",
          "data": {
            "text/html": [
              "<div>\n",
              "<style scoped>\n",
              "    .dataframe tbody tr th:only-of-type {\n",
              "        vertical-align: middle;\n",
              "    }\n",
              "\n",
              "    .dataframe tbody tr th {\n",
              "        vertical-align: top;\n",
              "    }\n",
              "\n",
              "    .dataframe thead th {\n",
              "        text-align: right;\n",
              "    }\n",
              "</style>\n",
              "<table border=\"1\" class=\"dataframe\">\n",
              "  <thead>\n",
              "    <tr style=\"text-align: right;\">\n",
              "      <th></th>\n",
              "      <th>Short_description</th>\n",
              "      <th>Description</th>\n",
              "      <th>Caller</th>\n",
              "      <th>Group</th>\n",
              "    </tr>\n",
              "  </thead>\n",
              "  <tbody>\n",
              "    <tr>\n",
              "      <th>4395</th>\n",
              "      <td>i am locked out of skype</td>\n",
              "      <td>NaN</td>\n",
              "      <td>viyglzfo ajtfzpkb</td>\n",
              "      <td>GRP_0</td>\n",
              "    </tr>\n",
              "  </tbody>\n",
              "</table>\n",
              "</div>"
            ],
            "text/plain": [
              "             Short_description Description             Caller  Group\n",
              "4395  i am locked out of skype         NaN  viyglzfo ajtfzpkb  GRP_0"
            ]
          },
          "metadata": {
            "tags": []
          },
          "execution_count": 14
        }
      ]
    },
    {
      "cell_type": "code",
      "metadata": {
        "colab_type": "code",
        "id": "FK5at_Puc8Iu",
        "outputId": "89f5e7bc-9bb0-48e1-8d93-ea9cd3525a1f",
        "colab": {
          "base_uri": "https://localhost:8080/",
          "height": 51
        }
      },
      "source": [
        "# Impute missing values\n",
        "df_v1['Short_description'].fillna('the', inplace=True) # replacing null values with stopword 'the'\n",
        "df_v1['Description'].fillna('the', inplace=True) # replacing null values with stopword 'the'\n",
        "\n",
        "print(\"Null values imputed\")\n",
        "print(\"Null Values in data after imputation:\", df_v1.isnull().sum().sum())"
      ],
      "execution_count": 0,
      "outputs": [
        {
          "output_type": "stream",
          "text": [
            "Null values imputed\n",
            "Null Values in data after imputation: 0\n"
          ],
          "name": "stdout"
        }
      ]
    },
    {
      "cell_type": "markdown",
      "metadata": {
        "colab_type": "text",
        "id": "jSUUCUhMHgjW"
      },
      "source": [
        "## For \"Assignment Group\" type where number of tickets in the category is less than specified freuency, we will mark then into \"GRP_Manual\". All \"GRP_Manual\" tickets should be triaged manually, until the model has enough data to categorise them automatically."
      ]
    },
    {
      "cell_type": "code",
      "metadata": {
        "colab_type": "code",
        "id": "o_HWFFeYFvKz",
        "outputId": "ca820f07-cdfb-4f5c-b046-f536ee2464dc",
        "colab": {
          "base_uri": "https://localhost:8080/",
          "height": 238
        }
      },
      "source": [
        "# Reset Assignment Group for group types with less data\n",
        "#CHANGE\n",
        "Frequency_Threshold = 1 # 50 #5\n",
        "count = df_v1['Group'].value_counts(ascending=True)\n",
        "idx = count[count.lt(Frequency_Threshold)].index\n",
        "df_v1.loc[df_v1['Group'].isin(idx), 'Group'] = 'GRP_Manual'\n",
        "print(\"Updated unique group types\",df_v1['Group'].nunique())\n",
        "df_v1['Group'].value_counts(ascending=True)\n"
      ],
      "execution_count": 0,
      "outputs": [
        {
          "output_type": "stream",
          "text": [
            "Updated unique group types 74\n"
          ],
          "name": "stdout"
        },
        {
          "output_type": "execute_result",
          "data": {
            "text/plain": [
              "GRP_73       1\n",
              "GRP_64       1\n",
              "GRP_67       1\n",
              "GRP_35       1\n",
              "GRP_61       1\n",
              "          ... \n",
              "GRP_9      252\n",
              "GRP_12     257\n",
              "GRP_24     289\n",
              "GRP_8      661\n",
              "GRP_0     3976\n",
              "Name: Group, Length: 74, dtype: int64"
            ]
          },
          "metadata": {
            "tags": []
          },
          "execution_count": 16
        }
      ]
    },
    {
      "cell_type": "code",
      "metadata": {
        "colab_type": "code",
        "id": "SxYJPvIZTV8c",
        "outputId": "d7bdf193-510f-49eb-c784-9a089e725b2e",
        "colab": {
          "base_uri": "https://localhost:8080/",
          "height": 581
        }
      },
      "source": [
        "plt.figure(figsize=(15,8))\n",
        "sns.countplot(x=\"Group\", data=df_v1)\n",
        "plt.xticks(rotation=90, ha='right')\n",
        "plt.tight_layout()"
      ],
      "execution_count": 0,
      "outputs": [
        {
          "output_type": "display_data",
          "data": {
            "image/png": "[encoded data removed]",
            "text/plain": [
              "<Figure size 1080x576 with 1 Axes>"
            ]
          },
          "metadata": {
            "tags": []
          }
        }
      ]
    },
    {
      "cell_type": "markdown",
      "metadata": {
        "colab_type": "text",
        "id": "p4GYavLHSQ9O"
      },
      "source": [
        "# Visualisations"
      ]
    },
    {
      "cell_type": "code",
      "metadata": {
        "colab_type": "code",
        "id": "RPH1Yb4TST_a",
        "outputId": "19d9f332-b0ae-4b5f-a3ef-e7b910e050cf",
        "colab": {
          "base_uri": "https://localhost:8080/",
          "height": 382
        }
      },
      "source": [
        "# Checking the distribution of groups\n",
        "df['Group'].hist(figsize=(40,10),bins=74)\n",
        "plt.xticks(rotation=90, ha='right')\n",
        "plt.tight_layout()"
      ],
      "execution_count": 0,
      "outputs": [
        {
          "output_type": "display_data",
          "data": {
            "image/png": "[encoded data removed]",
            "text/plain": [
              "<Figure size 2880x720 with 1 Axes>"
            ]
          },
          "metadata": {
            "tags": []
          }
        }
      ]
    },
    {
      "cell_type": "code",
      "metadata": {
        "colab_type": "code",
        "id": "PGXnTR7cSZTf",
        "outputId": "408a610f-5011-4d60-8aaa-fe004db67dd6",
        "colab": {
          "base_uri": "https://localhost:8080/",
          "height": 136
        }
      },
      "source": [
        "#Creating dataframe of Groups on the basis of their value counts\n",
        "n_grp = list(df['Group'].value_counts())\n",
        "grp_name = list(df['Group'].value_counts().index)\n",
        "\n",
        "grp = pd.DataFrame(data=grp_name,columns=['grp_name'])\n",
        "grp['n_grp'] = n_grp\n",
        "print(len(grp['n_grp']))\n",
        "print(grp.head())"
      ],
      "execution_count": 0,
      "outputs": [
        {
          "output_type": "stream",
          "text": [
            "74\n",
            "  grp_name  n_grp\n",
            "0    GRP_0   3976\n",
            "1    GRP_8    661\n",
            "2   GRP_24    289\n",
            "3   GRP_12    257\n",
            "4    GRP_9    252\n"
          ],
          "name": "stdout"
        }
      ]
    },
    {
      "cell_type": "code",
      "metadata": {
        "colab_type": "code",
        "id": "2-xbjbj_SZWB",
        "colab": {}
      },
      "source": [
        "# plt.figure(figsize=(15,8))\n",
        "# sns.barplot(x=\"grp_name\", y=\"n_grp\", data=grp,palette='plasma')\n",
        "# plt.xticks(rotation=90, ha='right')\n",
        "# plt.tight_layout()"
      ],
      "execution_count": 0,
      "outputs": []
    },
    {
      "cell_type": "code",
      "metadata": {
        "colab_type": "code",
        "id": "qmpo8fIOSZan",
        "colab": {}
      },
      "source": [
        "# fig = px.pie(grp,values='n_grp', names='grp_name')\n",
        "# fig.show()"
      ],
      "execution_count": 0,
      "outputs": []
    },
    {
      "cell_type": "code",
      "metadata": {
        "colab_type": "code",
        "id": "GqK4t87dSk1G",
        "colab": {}
      },
      "source": [
        "# #Visualizing some of the Caller data with anonymous names\n",
        "# plt.figure(figsize=(20, 10))\n",
        "# df['Caller'].value_counts().head(30).plot(kind='barh', figsize=(6,10))"
      ],
      "execution_count": 0,
      "outputs": []
    },
    {
      "cell_type": "code",
      "metadata": {
        "colab_type": "code",
        "id": "F5YpcQVKSk3n",
        "colab": {}
      },
      "source": [
        "# caller_data=pd.DataFrame(df['Caller'].value_counts().to_frame()).T\n",
        "# caller_data"
      ],
      "execution_count": 0,
      "outputs": []
    },
    {
      "cell_type": "code",
      "metadata": {
        "colab_type": "code",
        "id": "CoOuq61USk62",
        "outputId": "f92f3ac4-676d-4f9d-8b02-6fd5b62df78e",
        "colab": {
          "base_uri": "https://localhost:8080/",
          "height": 34
        }
      },
      "source": [
        "#Creating dataframe of callers on the basis of their frequency of calling\n",
        "n_caller = list(df['Caller'].value_counts())\n",
        "caller = list(df['Caller'].value_counts().index)\n",
        "\n",
        "data = pd.DataFrame(data=caller,columns=['caller'])\n",
        "data['n_caller'] = n_caller\n",
        "len(data['caller'])"
      ],
      "execution_count": 0,
      "outputs": [
        {
          "output_type": "execute_result",
          "data": {
            "text/plain": [
              "2950"
            ]
          },
          "metadata": {
            "tags": []
          },
          "execution_count": 24
        }
      ]
    },
    {
      "cell_type": "code",
      "metadata": {
        "colab_type": "code",
        "id": "ZT6NuJLcS6vb",
        "outputId": "f675c127-5c79-4029-c084-0c27623d5949",
        "colab": {
          "base_uri": "https://localhost:8080/",
          "height": 359
        }
      },
      "source": [
        "#Since caller column contains anonymous data, assigning name Caller1, Caller2,..... for better visualization \n",
        "count = 0\n",
        "new_caller = []\n",
        "while count != len(data):\n",
        "    new_caller.append('Caller'+''+ str(count+1))\n",
        "    count = count +1\n",
        "data['caller'] = new_caller\n",
        "data = data.head(20)\n",
        "data.head(10)"
      ],
      "execution_count": 0,
      "outputs": [
        {
          "output_type": "execute_result",
          "data": {
            "text/html": [
              "<div>\n",
              "<style scoped>\n",
              "    .dataframe tbody tr th:only-of-type {\n",
              "        vertical-align: middle;\n",
              "    }\n",
              "\n",
              "    .dataframe tbody tr th {\n",
              "        vertical-align: top;\n",
              "    }\n",
              "\n",
              "    .dataframe thead th {\n",
              "        text-align: right;\n",
              "    }\n",
              "</style>\n",
              "<table border=\"1\" class=\"dataframe\">\n",
              "  <thead>\n",
              "    <tr style=\"text-align: right;\">\n",
              "      <th></th>\n",
              "      <th>caller</th>\n",
              "      <th>n_caller</th>\n",
              "    </tr>\n",
              "  </thead>\n",
              "  <tbody>\n",
              "    <tr>\n",
              "      <th>0</th>\n",
              "      <td>Caller1</td>\n",
              "      <td>810</td>\n",
              "    </tr>\n",
              "    <tr>\n",
              "      <th>1</th>\n",
              "      <td>Caller2</td>\n",
              "      <td>151</td>\n",
              "    </tr>\n",
              "    <tr>\n",
              "      <th>2</th>\n",
              "      <td>Caller3</td>\n",
              "      <td>134</td>\n",
              "    </tr>\n",
              "    <tr>\n",
              "      <th>3</th>\n",
              "      <td>Caller4</td>\n",
              "      <td>87</td>\n",
              "    </tr>\n",
              "    <tr>\n",
              "      <th>4</th>\n",
              "      <td>Caller5</td>\n",
              "      <td>71</td>\n",
              "    </tr>\n",
              "    <tr>\n",
              "      <th>5</th>\n",
              "      <td>Caller6</td>\n",
              "      <td>64</td>\n",
              "    </tr>\n",
              "    <tr>\n",
              "      <th>6</th>\n",
              "      <td>Caller7</td>\n",
              "      <td>63</td>\n",
              "    </tr>\n",
              "    <tr>\n",
              "      <th>7</th>\n",
              "      <td>Caller8</td>\n",
              "      <td>57</td>\n",
              "    </tr>\n",
              "    <tr>\n",
              "      <th>8</th>\n",
              "      <td>Caller9</td>\n",
              "      <td>54</td>\n",
              "    </tr>\n",
              "    <tr>\n",
              "      <th>9</th>\n",
              "      <td>Caller10</td>\n",
              "      <td>51</td>\n",
              "    </tr>\n",
              "  </tbody>\n",
              "</table>\n",
              "</div>"
            ],
            "text/plain": [
              "     caller  n_caller\n",
              "0   Caller1       810\n",
              "1   Caller2       151\n",
              "2   Caller3       134\n",
              "3   Caller4        87\n",
              "4   Caller5        71\n",
              "5   Caller6        64\n",
              "6   Caller7        63\n",
              "7   Caller8        57\n",
              "8   Caller9        54\n",
              "9  Caller10        51"
            ]
          },
          "metadata": {
            "tags": []
          },
          "execution_count": 25
        }
      ]
    },
    {
      "cell_type": "code",
      "metadata": {
        "colab_type": "code",
        "id": "-tIgynMzS6yK",
        "colab": {}
      },
      "source": [
        "# #top 20 callers\n",
        "# fig = px.bar(data, x='caller', y='n_caller',hover_data=['n_caller'])\n",
        "# fig.show()"
      ],
      "execution_count": 0,
      "outputs": []
    },
    {
      "cell_type": "markdown",
      "metadata": {
        "colab_type": "text",
        "id": "_QN7Zfu7SKnm"
      },
      "source": [
        "## Text Cleaning"
      ]
    },
    {
      "cell_type": "code",
      "metadata": {
        "colab_type": "code",
        "id": "pK6YMkerp6G0",
        "colab": {}
      },
      "source": [
        "import string \n",
        "import re\n",
        "\n",
        "# Function for Text Cleaning with regex. Pass the column\n",
        "def text_preprocessing(df_column):\n",
        "  data = df_column.values.tolist() # Convert to list\n",
        "  temp = []\n",
        "  for sentence in data:\n",
        "      sentence = sentence.replace(\"select the following link to view the disclaimer in an alternate language\", '')  # remove disclaimer text      \n",
        "      sentence = re.sub(r\"\\[(.*?)\\]\",\" \", sentence)  # remove text in []\n",
        "      sentence = re.sub(r\"\\((.*?)\\)\",\" \", sentence)  # remove text in ()\n",
        "      sentence = re.sub(r\"[[h][t][t][p][\\S]+|[w][w][w][\\S]+|[\\S]+[@][\\S]+\",\" \", sentence)  # remove email addresses, web address and urls\n",
        "      sentence = re.sub(r\"[\\S]+[\\d]+[\\S]+\",\" \", sentence) # remove alphanumerics and numerics (dates, time, request id etc.)\n",
        "      sentence = re.sub(r\"\\W(?<!['. ])\",\" \", sentence)  # remove all non words with negative look back except ('. spaces) \n",
        "      sentence = re.sub(r\"[^a-zA-z.| ]+\",\" \", sentence) # remove non-alphabetic text\n",
        "      sentence = re.sub(r\"[\\_]+\",\" \", sentence) # remove underscores\n",
        "      sentence = re.sub(r\"[\\s]+\",\" \", sentence) # replace multiple spaces with single space\n",
        "      sentence = sentence.strip('\\n')\n",
        "      sentence = sentence.lower()\n",
        "      temp.append(sentence)\n",
        "  return(temp)"
      ],
      "execution_count": 0,
      "outputs": []
    },
    {
      "cell_type": "code",
      "metadata": {
        "colab_type": "code",
        "id": "-S9ePXHfU7ie",
        "outputId": "01a40d5b-82c7-4d8b-c5ee-0a5348760460",
        "colab": {
          "base_uri": "https://localhost:8080/",
          "height": 204
        }
      },
      "source": [
        "# Cleaned both - 'Short_Description & Description'\n",
        "df_v1.Short_description = text_preprocessing(df_v1.Short_description)\n",
        "df_v1.Description = text_preprocessing(df_v1.Description)\n",
        "df_v1.head()"
      ],
      "execution_count": 0,
      "outputs": [
        {
          "output_type": "execute_result",
          "data": {
            "text/html": [
              "<div>\n",
              "<style scoped>\n",
              "    .dataframe tbody tr th:only-of-type {\n",
              "        vertical-align: middle;\n",
              "    }\n",
              "\n",
              "    .dataframe tbody tr th {\n",
              "        vertical-align: top;\n",
              "    }\n",
              "\n",
              "    .dataframe thead th {\n",
              "        text-align: right;\n",
              "    }\n",
              "</style>\n",
              "<table border=\"1\" class=\"dataframe\">\n",
              "  <thead>\n",
              "    <tr style=\"text-align: right;\">\n",
              "      <th></th>\n",
              "      <th>Short_description</th>\n",
              "      <th>Description</th>\n",
              "      <th>Caller</th>\n",
              "      <th>Group</th>\n",
              "    </tr>\n",
              "  </thead>\n",
              "  <tbody>\n",
              "    <tr>\n",
              "      <th>0</th>\n",
              "      <td>login issue</td>\n",
              "      <td>verified user details. checked the user name ...</td>\n",
              "      <td>spxjnwir pjlcoqds</td>\n",
              "      <td>GRP_0</td>\n",
              "    </tr>\n",
              "    <tr>\n",
              "      <th>1</th>\n",
              "      <td>outlook</td>\n",
              "      <td>received from hello team my meetings skype me...</td>\n",
              "      <td>hmjdrvpb komuaywn</td>\n",
              "      <td>GRP_0</td>\n",
              "    </tr>\n",
              "    <tr>\n",
              "      <th>2</th>\n",
              "      <td>cant log in to vpn</td>\n",
              "      <td>received from hi i cannot log on to vpn best</td>\n",
              "      <td>eylqgodm ybqkwiam</td>\n",
              "      <td>GRP_0</td>\n",
              "    </tr>\n",
              "    <tr>\n",
              "      <th>3</th>\n",
              "      <td>unable to access hr tool page</td>\n",
              "      <td>unable to access hr tool page</td>\n",
              "      <td>xbkucsvz gcpydteq</td>\n",
              "      <td>GRP_0</td>\n",
              "    </tr>\n",
              "    <tr>\n",
              "      <th>4</th>\n",
              "      <td>skype error</td>\n",
              "      <td>skype error</td>\n",
              "      <td>owlgqjme qhcozdfx</td>\n",
              "      <td>GRP_0</td>\n",
              "    </tr>\n",
              "  </tbody>\n",
              "</table>\n",
              "</div>"
            ],
            "text/plain": [
              "               Short_description  ...  Group\n",
              "0                    login issue  ...  GRP_0\n",
              "1                        outlook  ...  GRP_0\n",
              "2             cant log in to vpn  ...  GRP_0\n",
              "3  unable to access hr tool page  ...  GRP_0\n",
              "4                   skype error   ...  GRP_0\n",
              "\n",
              "[5 rows x 4 columns]"
            ]
          },
          "metadata": {
            "tags": []
          },
          "execution_count": 28
        }
      ]
    },
    {
      "cell_type": "markdown",
      "metadata": {
        "colab_type": "text",
        "id": "LNAMTv401Z6E"
      },
      "source": [
        "## Concatenating \"Short Description\" and \"Description\" to get \"Summary\" Tickets"
      ]
    },
    {
      "cell_type": "code",
      "metadata": {
        "colab_type": "code",
        "id": "sznTontD0-iN",
        "outputId": "212b8bab-c881-439c-95d8-76229108e0ec",
        "colab": {
          "base_uri": "https://localhost:8080/",
          "height": 669
        }
      },
      "source": [
        "df_v1[\"Summary\"] = df_v1['Short_description'].str.cat(df_v1['Description'], sep = \". \")\n",
        "df_v2 = df_v1.copy()\n",
        "#df_v2 = df_v1.drop(['Short_description','Description'],axis=1)\n",
        "df_v2 = df_v1.drop(['Short_description','Description','Caller'],axis=1)\n",
        "df_v2.head(20) "
      ],
      "execution_count": 0,
      "outputs": [
        {
          "output_type": "execute_result",
          "data": {
            "text/html": [
              "<div>\n",
              "<style scoped>\n",
              "    .dataframe tbody tr th:only-of-type {\n",
              "        vertical-align: middle;\n",
              "    }\n",
              "\n",
              "    .dataframe tbody tr th {\n",
              "        vertical-align: top;\n",
              "    }\n",
              "\n",
              "    .dataframe thead th {\n",
              "        text-align: right;\n",
              "    }\n",
              "</style>\n",
              "<table border=\"1\" class=\"dataframe\">\n",
              "  <thead>\n",
              "    <tr style=\"text-align: right;\">\n",
              "      <th></th>\n",
              "      <th>Group</th>\n",
              "      <th>Summary</th>\n",
              "    </tr>\n",
              "  </thead>\n",
              "  <tbody>\n",
              "    <tr>\n",
              "      <th>0</th>\n",
              "      <td>GRP_0</td>\n",
              "      <td>login issue.  verified user details. checked t...</td>\n",
              "    </tr>\n",
              "    <tr>\n",
              "      <th>1</th>\n",
              "      <td>GRP_0</td>\n",
              "      <td>outlook.  received from hello team my meetings...</td>\n",
              "    </tr>\n",
              "    <tr>\n",
              "      <th>2</th>\n",
              "      <td>GRP_0</td>\n",
              "      <td>cant log in to vpn.  received from hi i cannot...</td>\n",
              "    </tr>\n",
              "    <tr>\n",
              "      <th>3</th>\n",
              "      <td>GRP_0</td>\n",
              "      <td>unable to access hr tool page. unable to acces...</td>\n",
              "    </tr>\n",
              "    <tr>\n",
              "      <th>4</th>\n",
              "      <td>GRP_0</td>\n",
              "      <td>skype error . skype error</td>\n",
              "    </tr>\n",
              "    <tr>\n",
              "      <th>5</th>\n",
              "      <td>GRP_0</td>\n",
              "      <td>unable to log in to engineering tool and skype...</td>\n",
              "    </tr>\n",
              "    <tr>\n",
              "      <th>6</th>\n",
              "      <td>GRP_1</td>\n",
              "      <td>event the value of mountpoint threshold for . ...</td>\n",
              "    </tr>\n",
              "    <tr>\n",
              "      <th>7</th>\n",
              "      <td>GRP_0</td>\n",
              "      <td>employment status new non employee .  employm...</td>\n",
              "    </tr>\n",
              "    <tr>\n",
              "      <th>8</th>\n",
              "      <td>GRP_0</td>\n",
              "      <td>unable to disable add ins on outlook. unable t...</td>\n",
              "    </tr>\n",
              "    <tr>\n",
              "      <th>9</th>\n",
              "      <td>GRP_0</td>\n",
              "      <td>ticket update on . ticket update on</td>\n",
              "    </tr>\n",
              "    <tr>\n",
              "      <th>10</th>\n",
              "      <td>GRP_0</td>\n",
              "      <td>engineering tool says not connected and unable...</td>\n",
              "    </tr>\n",
              "    <tr>\n",
              "      <th>11</th>\n",
              "      <td>GRP_0</td>\n",
              "      <td>hr tool site not loading page correctly. hr to...</td>\n",
              "    </tr>\n",
              "    <tr>\n",
              "      <th>12</th>\n",
              "      <td>GRP_0</td>\n",
              "      <td>unable to login to hr tool to sgxqsuojr xwbeso...</td>\n",
              "    </tr>\n",
              "    <tr>\n",
              "      <th>13</th>\n",
              "      <td>GRP_0</td>\n",
              "      <td>user wants to reset the password. user wants t...</td>\n",
              "    </tr>\n",
              "    <tr>\n",
              "      <th>14</th>\n",
              "      <td>GRP_0</td>\n",
              "      <td>unable to open payslips . unable to open paysl...</td>\n",
              "    </tr>\n",
              "    <tr>\n",
              "      <th>15</th>\n",
              "      <td>GRP_0</td>\n",
              "      <td>ticket update on . ticket update on</td>\n",
              "    </tr>\n",
              "    <tr>\n",
              "      <th>16</th>\n",
              "      <td>GRP_0</td>\n",
              "      <td>unable to login to company vpn.  received from...</td>\n",
              "    </tr>\n",
              "    <tr>\n",
              "      <th>17</th>\n",
              "      <td>GRP_3</td>\n",
              "      <td>when undocking pc screen will not come back. w...</td>\n",
              "    </tr>\n",
              "    <tr>\n",
              "      <th>18</th>\n",
              "      <td>GRP_0</td>\n",
              "      <td>erp account locked. erp account locked</td>\n",
              "    </tr>\n",
              "    <tr>\n",
              "      <th>19</th>\n",
              "      <td>GRP_0</td>\n",
              "      <td>unable to sign into vpn. unable to sign into vpn</td>\n",
              "    </tr>\n",
              "  </tbody>\n",
              "</table>\n",
              "</div>"
            ],
            "text/plain": [
              "    Group                                            Summary\n",
              "0   GRP_0  login issue.  verified user details. checked t...\n",
              "1   GRP_0  outlook.  received from hello team my meetings...\n",
              "2   GRP_0  cant log in to vpn.  received from hi i cannot...\n",
              "3   GRP_0  unable to access hr tool page. unable to acces...\n",
              "4   GRP_0                         skype error . skype error \n",
              "5   GRP_0  unable to log in to engineering tool and skype...\n",
              "6   GRP_1  event the value of mountpoint threshold for . ...\n",
              "7   GRP_0   employment status new non employee .  employm...\n",
              "8   GRP_0  unable to disable add ins on outlook. unable t...\n",
              "9   GRP_0               ticket update on . ticket update on \n",
              "10  GRP_0  engineering tool says not connected and unable...\n",
              "11  GRP_0  hr tool site not loading page correctly. hr to...\n",
              "12  GRP_0  unable to login to hr tool to sgxqsuojr xwbeso...\n",
              "13  GRP_0  user wants to reset the password. user wants t...\n",
              "14  GRP_0  unable to open payslips . unable to open paysl...\n",
              "15  GRP_0               ticket update on . ticket update on \n",
              "16  GRP_0  unable to login to company vpn.  received from...\n",
              "17  GRP_3  when undocking pc screen will not come back. w...\n",
              "18  GRP_0             erp account locked. erp account locked\n",
              "19  GRP_0   unable to sign into vpn. unable to sign into vpn"
            ]
          },
          "metadata": {
            "tags": []
          },
          "execution_count": 29
        }
      ]
    },
    {
      "cell_type": "markdown",
      "metadata": {
        "colab_type": "text",
        "id": "RmV51wxCUAOS"
      },
      "source": [
        "## Word cloud generated for the Cleant data in Summary Column"
      ]
    },
    {
      "cell_type": "code",
      "metadata": {
        "colab_type": "code",
        "id": "PsOnKlxMUAhP",
        "colab": {}
      },
      "source": [
        "# wordCloudText(df_v2.Summary)"
      ],
      "execution_count": 0,
      "outputs": []
    },
    {
      "cell_type": "code",
      "metadata": {
        "colab_type": "code",
        "id": "ZRLJdvIXP8Vh",
        "outputId": "4bd6bce4-1a99-40bc-c69a-c6dfd7e9a840",
        "colab": {
          "base_uri": "https://localhost:8080/",
          "height": 419
        }
      },
      "source": [
        "# # word tokenisation & removal of stop words & gibberish word(by typos, anonymised names)\n",
        "\n",
        "# Remove stopwords\n",
        "df_v2['Summary'] = df_v2['Summary'].apply(lambda x: ' '.join([word for word in x.split() if word not in (stop_words)]))\n",
        "\n",
        "# Remove words not in Englsih Dictionary (typos, anonymised names)\n",
        "df_v2['Summary'] = df_v2['Summary'].apply(lambda x: ' '.join([word for word in x.split() if word in (words)]))\n",
        "\n",
        "# Tokenise 'Summary' column\n",
        "data = df_v2.Summary.values.tolist()\n",
        "\n",
        "data = [list(tokenize(sentences)) for sentences in data]\n",
        "\n",
        "token_data = data\n",
        "\n",
        "# lemmetise words\n",
        "wordnet_lemmatizer = WordNetLemmatizer()\n",
        "temp = []\n",
        "for eachrow in data:\n",
        "    lemma_words = []\n",
        "    for eachword in eachrow:\n",
        "        eachword = wordnet_lemmatizer.lemmatize(eachword, pos = \"n\")\n",
        "        eachword = wordnet_lemmatizer.lemmatize(eachword, pos = \"v\")\n",
        "        eachword = wordnet_lemmatizer.lemmatize(eachword, pos = (\"a\"))\n",
        "        lemma_words.append(eachword)\n",
        "    temp.append(lemma_words)\n",
        "\n",
        "# temp   \n",
        "\n",
        "data = temp \n",
        "\n",
        "data = [(\" \".join(sentence))  for sentence in data]\n",
        "\n",
        "# data\n",
        "#token_data\n",
        "df_v2"
      ],
      "execution_count": 0,
      "outputs": [
        {
          "output_type": "execute_result",
          "data": {
            "text/html": [
              "<div>\n",
              "<style scoped>\n",
              "    .dataframe tbody tr th:only-of-type {\n",
              "        vertical-align: middle;\n",
              "    }\n",
              "\n",
              "    .dataframe tbody tr th {\n",
              "        vertical-align: top;\n",
              "    }\n",
              "\n",
              "    .dataframe thead th {\n",
              "        text-align: right;\n",
              "    }\n",
              "</style>\n",
              "<table border=\"1\" class=\"dataframe\">\n",
              "  <thead>\n",
              "    <tr style=\"text-align: right;\">\n",
              "      <th></th>\n",
              "      <th>Group</th>\n",
              "      <th>Summary</th>\n",
              "    </tr>\n",
              "  </thead>\n",
              "  <tbody>\n",
              "    <tr>\n",
              "      <th>0</th>\n",
              "      <td>GRP_0</td>\n",
              "      <td>login user checked user name ad reset advised ...</td>\n",
              "    </tr>\n",
              "    <tr>\n",
              "      <th>1</th>\n",
              "      <td>GRP_0</td>\n",
              "      <td>received team outlook calendar somebody advise...</td>\n",
              "    </tr>\n",
              "    <tr>\n",
              "      <th>2</th>\n",
              "      <td>GRP_0</td>\n",
              "      <td>cant log received cannot log</td>\n",
              "    </tr>\n",
              "    <tr>\n",
              "      <th>3</th>\n",
              "      <td>GRP_0</td>\n",
              "      <td>unable access tool unable access tool page</td>\n",
              "    </tr>\n",
              "    <tr>\n",
              "      <th>4</th>\n",
              "      <td>GRP_0</td>\n",
              "      <td>error error</td>\n",
              "    </tr>\n",
              "    <tr>\n",
              "      <th>...</th>\n",
              "      <td>...</td>\n",
              "      <td>...</td>\n",
              "    </tr>\n",
              "    <tr>\n",
              "      <th>8495</th>\n",
              "      <td>GRP_29</td>\n",
              "      <td>coming received good afternoon sent advise</td>\n",
              "    </tr>\n",
              "    <tr>\n",
              "      <th>8496</th>\n",
              "      <td>GRP_0</td>\n",
              "      <td>telephony telephony issue</td>\n",
              "    </tr>\n",
              "    <tr>\n",
              "      <th>8497</th>\n",
              "      <td>GRP_0</td>\n",
              "      <td>password reset password reset</td>\n",
              "    </tr>\n",
              "    <tr>\n",
              "      <th>8498</th>\n",
              "      <td>GRP_62</td>\n",
              "      <td>machine n unable access machine finish drawers...</td>\n",
              "    </tr>\n",
              "    <tr>\n",
              "      <th>8499</th>\n",
              "      <td>GRP_49</td>\n",
              "      <td></td>\n",
              "    </tr>\n",
              "  </tbody>\n",
              "</table>\n",
              "<p>8500 rows × 2 columns</p>\n",
              "</div>"
            ],
            "text/plain": [
              "       Group                                            Summary\n",
              "0      GRP_0  login user checked user name ad reset advised ...\n",
              "1      GRP_0  received team outlook calendar somebody advise...\n",
              "2      GRP_0                       cant log received cannot log\n",
              "3      GRP_0         unable access tool unable access tool page\n",
              "4      GRP_0                                        error error\n",
              "...      ...                                                ...\n",
              "8495  GRP_29         coming received good afternoon sent advise\n",
              "8496   GRP_0                          telephony telephony issue\n",
              "8497   GRP_0                      password reset password reset\n",
              "8498  GRP_62  machine n unable access machine finish drawers...\n",
              "8499  GRP_49                                                   \n",
              "\n",
              "[8500 rows x 2 columns]"
            ]
          },
          "metadata": {
            "tags": []
          },
          "execution_count": 31
        }
      ]
    },
    {
      "cell_type": "code",
      "metadata": {
        "colab_type": "code",
        "id": "ckbgmRymlAax",
        "outputId": "920173f0-186e-49d5-8e4a-26e0fb8a10db",
        "colab": {
          "base_uri": "https://localhost:8080/",
          "height": 34
        }
      },
      "source": [
        "maxlen = 0\n",
        "for sentence in data:\n",
        "    if (maxlen < sentence.count(' ')+1 ):\n",
        "        maxlen = sentence.count(' ')+1\n",
        "\n",
        "print(maxlen)   \n",
        "\n",
        "# Create Weighted Word Vectors\n",
        "tfidf_vectors = TfidfVectorizer(min_df=3,max_features= maxlen)\n",
        "tfidf_db = tfidf_vectors.fit_transform(data).toarray()\n",
        "tfidf_db = pd.DataFrame(tfidf_db)"
      ],
      "execution_count": 0,
      "outputs": [
        {
          "output_type": "stream",
          "text": [
            "367\n"
          ],
          "name": "stdout"
        }
      ]
    },
    {
      "cell_type": "code",
      "metadata": {
        "colab_type": "code",
        "id": "QAVPn7dLmP2I",
        "outputId": "1dd6b8bb-0dd4-4f7f-cfce-60747597d477",
        "colab": {
          "base_uri": "https://localhost:8080/",
          "height": 253
        }
      },
      "source": [
        "tfidf_db.head()"
      ],
      "execution_count": 0,
      "outputs": [
        {
          "output_type": "execute_result",
          "data": {
            "text/html": [
              "<div>\n",
              "<style scoped>\n",
              "    .dataframe tbody tr th:only-of-type {\n",
              "        vertical-align: middle;\n",
              "    }\n",
              "\n",
              "    .dataframe tbody tr th {\n",
              "        vertical-align: top;\n",
              "    }\n",
              "\n",
              "    .dataframe thead th {\n",
              "        text-align: right;\n",
              "    }\n",
              "</style>\n",
              "<table border=\"1\" class=\"dataframe\">\n",
              "  <thead>\n",
              "    <tr style=\"text-align: right;\">\n",
              "      <th></th>\n",
              "      <th>0</th>\n",
              "      <th>1</th>\n",
              "      <th>2</th>\n",
              "      <th>3</th>\n",
              "      <th>4</th>\n",
              "      <th>5</th>\n",
              "      <th>6</th>\n",
              "      <th>7</th>\n",
              "      <th>8</th>\n",
              "      <th>9</th>\n",
              "      <th>10</th>\n",
              "      <th>11</th>\n",
              "      <th>12</th>\n",
              "      <th>13</th>\n",
              "      <th>14</th>\n",
              "      <th>15</th>\n",
              "      <th>16</th>\n",
              "      <th>17</th>\n",
              "      <th>18</th>\n",
              "      <th>19</th>\n",
              "      <th>20</th>\n",
              "      <th>21</th>\n",
              "      <th>22</th>\n",
              "      <th>23</th>\n",
              "      <th>24</th>\n",
              "      <th>25</th>\n",
              "      <th>26</th>\n",
              "      <th>27</th>\n",
              "      <th>28</th>\n",
              "      <th>29</th>\n",
              "      <th>30</th>\n",
              "      <th>31</th>\n",
              "      <th>32</th>\n",
              "      <th>33</th>\n",
              "      <th>34</th>\n",
              "      <th>35</th>\n",
              "      <th>36</th>\n",
              "      <th>37</th>\n",
              "      <th>38</th>\n",
              "      <th>39</th>\n",
              "      <th>...</th>\n",
              "      <th>327</th>\n",
              "      <th>328</th>\n",
              "      <th>329</th>\n",
              "      <th>330</th>\n",
              "      <th>331</th>\n",
              "      <th>332</th>\n",
              "      <th>333</th>\n",
              "      <th>334</th>\n",
              "      <th>335</th>\n",
              "      <th>336</th>\n",
              "      <th>337</th>\n",
              "      <th>338</th>\n",
              "      <th>339</th>\n",
              "      <th>340</th>\n",
              "      <th>341</th>\n",
              "      <th>342</th>\n",
              "      <th>343</th>\n",
              "      <th>344</th>\n",
              "      <th>345</th>\n",
              "      <th>346</th>\n",
              "      <th>347</th>\n",
              "      <th>348</th>\n",
              "      <th>349</th>\n",
              "      <th>350</th>\n",
              "      <th>351</th>\n",
              "      <th>352</th>\n",
              "      <th>353</th>\n",
              "      <th>354</th>\n",
              "      <th>355</th>\n",
              "      <th>356</th>\n",
              "      <th>357</th>\n",
              "      <th>358</th>\n",
              "      <th>359</th>\n",
              "      <th>360</th>\n",
              "      <th>361</th>\n",
              "      <th>362</th>\n",
              "      <th>363</th>\n",
              "      <th>364</th>\n",
              "      <th>365</th>\n",
              "      <th>366</th>\n",
              "    </tr>\n",
              "  </thead>\n",
              "  <tbody>\n",
              "    <tr>\n",
              "      <th>0</th>\n",
              "      <td>0.214291</td>\n",
              "      <td>0.00000</td>\n",
              "      <td>0.0</td>\n",
              "      <td>0.0</td>\n",
              "      <td>0.0</td>\n",
              "      <td>0.0</td>\n",
              "      <td>0.0</td>\n",
              "      <td>0.286802</td>\n",
              "      <td>0.0</td>\n",
              "      <td>0.0</td>\n",
              "      <td>0.0</td>\n",
              "      <td>0.278404</td>\n",
              "      <td>0.0</td>\n",
              "      <td>0.0</td>\n",
              "      <td>0.0</td>\n",
              "      <td>0.0</td>\n",
              "      <td>0.0</td>\n",
              "      <td>0.0</td>\n",
              "      <td>0.0</td>\n",
              "      <td>0.0</td>\n",
              "      <td>0.0</td>\n",
              "      <td>0.0</td>\n",
              "      <td>0.0</td>\n",
              "      <td>0.0</td>\n",
              "      <td>0.0</td>\n",
              "      <td>0.0</td>\n",
              "      <td>0.0</td>\n",
              "      <td>0.0</td>\n",
              "      <td>0.0</td>\n",
              "      <td>0.0</td>\n",
              "      <td>0.0</td>\n",
              "      <td>0.0</td>\n",
              "      <td>0.0</td>\n",
              "      <td>0.0</td>\n",
              "      <td>0.0</td>\n",
              "      <td>0.0</td>\n",
              "      <td>0.0</td>\n",
              "      <td>0.0</td>\n",
              "      <td>0.0</td>\n",
              "      <td>0.0</td>\n",
              "      <td>...</td>\n",
              "      <td>0.0</td>\n",
              "      <td>0.0</td>\n",
              "      <td>0.0</td>\n",
              "      <td>0.0</td>\n",
              "      <td>0.000000</td>\n",
              "      <td>0.0</td>\n",
              "      <td>0.0</td>\n",
              "      <td>0.0</td>\n",
              "      <td>0.0</td>\n",
              "      <td>0.0</td>\n",
              "      <td>0.0</td>\n",
              "      <td>0.0</td>\n",
              "      <td>0.0</td>\n",
              "      <td>0.0</td>\n",
              "      <td>0.0</td>\n",
              "      <td>0.0</td>\n",
              "      <td>0.000000</td>\n",
              "      <td>0.0</td>\n",
              "      <td>0.0</td>\n",
              "      <td>0.0</td>\n",
              "      <td>0.0</td>\n",
              "      <td>0.0</td>\n",
              "      <td>0.551876</td>\n",
              "      <td>0.0</td>\n",
              "      <td>0.0</td>\n",
              "      <td>0.0</td>\n",
              "      <td>0.0</td>\n",
              "      <td>0.0</td>\n",
              "      <td>0.0</td>\n",
              "      <td>0.0</td>\n",
              "      <td>0.0</td>\n",
              "      <td>0.0</td>\n",
              "      <td>0.0</td>\n",
              "      <td>0.0</td>\n",
              "      <td>0.0</td>\n",
              "      <td>0.0</td>\n",
              "      <td>0.0</td>\n",
              "      <td>0.0</td>\n",
              "      <td>0.0</td>\n",
              "      <td>0.0</td>\n",
              "    </tr>\n",
              "    <tr>\n",
              "      <th>1</th>\n",
              "      <td>0.000000</td>\n",
              "      <td>0.00000</td>\n",
              "      <td>0.0</td>\n",
              "      <td>0.0</td>\n",
              "      <td>0.0</td>\n",
              "      <td>0.0</td>\n",
              "      <td>0.0</td>\n",
              "      <td>0.000000</td>\n",
              "      <td>0.0</td>\n",
              "      <td>0.0</td>\n",
              "      <td>0.0</td>\n",
              "      <td>0.530371</td>\n",
              "      <td>0.0</td>\n",
              "      <td>0.0</td>\n",
              "      <td>0.0</td>\n",
              "      <td>0.0</td>\n",
              "      <td>0.0</td>\n",
              "      <td>0.0</td>\n",
              "      <td>0.0</td>\n",
              "      <td>0.0</td>\n",
              "      <td>0.0</td>\n",
              "      <td>0.0</td>\n",
              "      <td>0.0</td>\n",
              "      <td>0.0</td>\n",
              "      <td>0.0</td>\n",
              "      <td>0.0</td>\n",
              "      <td>0.0</td>\n",
              "      <td>0.0</td>\n",
              "      <td>0.0</td>\n",
              "      <td>0.0</td>\n",
              "      <td>0.0</td>\n",
              "      <td>0.0</td>\n",
              "      <td>0.0</td>\n",
              "      <td>0.0</td>\n",
              "      <td>0.0</td>\n",
              "      <td>0.0</td>\n",
              "      <td>0.0</td>\n",
              "      <td>0.0</td>\n",
              "      <td>0.0</td>\n",
              "      <td>0.0</td>\n",
              "      <td>...</td>\n",
              "      <td>0.0</td>\n",
              "      <td>0.0</td>\n",
              "      <td>0.0</td>\n",
              "      <td>0.0</td>\n",
              "      <td>0.000000</td>\n",
              "      <td>0.0</td>\n",
              "      <td>0.0</td>\n",
              "      <td>0.0</td>\n",
              "      <td>0.0</td>\n",
              "      <td>0.0</td>\n",
              "      <td>0.0</td>\n",
              "      <td>0.0</td>\n",
              "      <td>0.0</td>\n",
              "      <td>0.0</td>\n",
              "      <td>0.0</td>\n",
              "      <td>0.0</td>\n",
              "      <td>0.000000</td>\n",
              "      <td>0.0</td>\n",
              "      <td>0.0</td>\n",
              "      <td>0.0</td>\n",
              "      <td>0.0</td>\n",
              "      <td>0.0</td>\n",
              "      <td>0.000000</td>\n",
              "      <td>0.0</td>\n",
              "      <td>0.0</td>\n",
              "      <td>0.0</td>\n",
              "      <td>0.0</td>\n",
              "      <td>0.0</td>\n",
              "      <td>0.0</td>\n",
              "      <td>0.0</td>\n",
              "      <td>0.0</td>\n",
              "      <td>0.0</td>\n",
              "      <td>0.0</td>\n",
              "      <td>0.0</td>\n",
              "      <td>0.0</td>\n",
              "      <td>0.0</td>\n",
              "      <td>0.0</td>\n",
              "      <td>0.0</td>\n",
              "      <td>0.0</td>\n",
              "      <td>0.0</td>\n",
              "    </tr>\n",
              "    <tr>\n",
              "      <th>2</th>\n",
              "      <td>0.000000</td>\n",
              "      <td>0.00000</td>\n",
              "      <td>0.0</td>\n",
              "      <td>0.0</td>\n",
              "      <td>0.0</td>\n",
              "      <td>0.0</td>\n",
              "      <td>0.0</td>\n",
              "      <td>0.000000</td>\n",
              "      <td>0.0</td>\n",
              "      <td>0.0</td>\n",
              "      <td>0.0</td>\n",
              "      <td>0.000000</td>\n",
              "      <td>0.0</td>\n",
              "      <td>0.0</td>\n",
              "      <td>0.0</td>\n",
              "      <td>0.0</td>\n",
              "      <td>0.0</td>\n",
              "      <td>0.0</td>\n",
              "      <td>0.0</td>\n",
              "      <td>0.0</td>\n",
              "      <td>0.0</td>\n",
              "      <td>0.0</td>\n",
              "      <td>0.0</td>\n",
              "      <td>0.0</td>\n",
              "      <td>0.0</td>\n",
              "      <td>0.0</td>\n",
              "      <td>0.0</td>\n",
              "      <td>0.0</td>\n",
              "      <td>0.0</td>\n",
              "      <td>0.0</td>\n",
              "      <td>0.0</td>\n",
              "      <td>0.0</td>\n",
              "      <td>0.0</td>\n",
              "      <td>0.0</td>\n",
              "      <td>0.0</td>\n",
              "      <td>0.0</td>\n",
              "      <td>0.0</td>\n",
              "      <td>0.0</td>\n",
              "      <td>0.0</td>\n",
              "      <td>0.0</td>\n",
              "      <td>...</td>\n",
              "      <td>0.0</td>\n",
              "      <td>0.0</td>\n",
              "      <td>0.0</td>\n",
              "      <td>0.0</td>\n",
              "      <td>0.000000</td>\n",
              "      <td>0.0</td>\n",
              "      <td>0.0</td>\n",
              "      <td>0.0</td>\n",
              "      <td>0.0</td>\n",
              "      <td>0.0</td>\n",
              "      <td>0.0</td>\n",
              "      <td>0.0</td>\n",
              "      <td>0.0</td>\n",
              "      <td>0.0</td>\n",
              "      <td>0.0</td>\n",
              "      <td>0.0</td>\n",
              "      <td>0.000000</td>\n",
              "      <td>0.0</td>\n",
              "      <td>0.0</td>\n",
              "      <td>0.0</td>\n",
              "      <td>0.0</td>\n",
              "      <td>0.0</td>\n",
              "      <td>0.000000</td>\n",
              "      <td>0.0</td>\n",
              "      <td>0.0</td>\n",
              "      <td>0.0</td>\n",
              "      <td>0.0</td>\n",
              "      <td>0.0</td>\n",
              "      <td>0.0</td>\n",
              "      <td>0.0</td>\n",
              "      <td>0.0</td>\n",
              "      <td>0.0</td>\n",
              "      <td>0.0</td>\n",
              "      <td>0.0</td>\n",
              "      <td>0.0</td>\n",
              "      <td>0.0</td>\n",
              "      <td>0.0</td>\n",
              "      <td>0.0</td>\n",
              "      <td>0.0</td>\n",
              "      <td>0.0</td>\n",
              "    </tr>\n",
              "    <tr>\n",
              "      <th>3</th>\n",
              "      <td>0.000000</td>\n",
              "      <td>0.54983</td>\n",
              "      <td>0.0</td>\n",
              "      <td>0.0</td>\n",
              "      <td>0.0</td>\n",
              "      <td>0.0</td>\n",
              "      <td>0.0</td>\n",
              "      <td>0.000000</td>\n",
              "      <td>0.0</td>\n",
              "      <td>0.0</td>\n",
              "      <td>0.0</td>\n",
              "      <td>0.000000</td>\n",
              "      <td>0.0</td>\n",
              "      <td>0.0</td>\n",
              "      <td>0.0</td>\n",
              "      <td>0.0</td>\n",
              "      <td>0.0</td>\n",
              "      <td>0.0</td>\n",
              "      <td>0.0</td>\n",
              "      <td>0.0</td>\n",
              "      <td>0.0</td>\n",
              "      <td>0.0</td>\n",
              "      <td>0.0</td>\n",
              "      <td>0.0</td>\n",
              "      <td>0.0</td>\n",
              "      <td>0.0</td>\n",
              "      <td>0.0</td>\n",
              "      <td>0.0</td>\n",
              "      <td>0.0</td>\n",
              "      <td>0.0</td>\n",
              "      <td>0.0</td>\n",
              "      <td>0.0</td>\n",
              "      <td>0.0</td>\n",
              "      <td>0.0</td>\n",
              "      <td>0.0</td>\n",
              "      <td>0.0</td>\n",
              "      <td>0.0</td>\n",
              "      <td>0.0</td>\n",
              "      <td>0.0</td>\n",
              "      <td>0.0</td>\n",
              "      <td>...</td>\n",
              "      <td>0.0</td>\n",
              "      <td>0.0</td>\n",
              "      <td>0.0</td>\n",
              "      <td>0.0</td>\n",
              "      <td>0.501398</td>\n",
              "      <td>0.0</td>\n",
              "      <td>0.0</td>\n",
              "      <td>0.0</td>\n",
              "      <td>0.0</td>\n",
              "      <td>0.0</td>\n",
              "      <td>0.0</td>\n",
              "      <td>0.0</td>\n",
              "      <td>0.0</td>\n",
              "      <td>0.0</td>\n",
              "      <td>0.0</td>\n",
              "      <td>0.0</td>\n",
              "      <td>0.498599</td>\n",
              "      <td>0.0</td>\n",
              "      <td>0.0</td>\n",
              "      <td>0.0</td>\n",
              "      <td>0.0</td>\n",
              "      <td>0.0</td>\n",
              "      <td>0.000000</td>\n",
              "      <td>0.0</td>\n",
              "      <td>0.0</td>\n",
              "      <td>0.0</td>\n",
              "      <td>0.0</td>\n",
              "      <td>0.0</td>\n",
              "      <td>0.0</td>\n",
              "      <td>0.0</td>\n",
              "      <td>0.0</td>\n",
              "      <td>0.0</td>\n",
              "      <td>0.0</td>\n",
              "      <td>0.0</td>\n",
              "      <td>0.0</td>\n",
              "      <td>0.0</td>\n",
              "      <td>0.0</td>\n",
              "      <td>0.0</td>\n",
              "      <td>0.0</td>\n",
              "      <td>0.0</td>\n",
              "    </tr>\n",
              "    <tr>\n",
              "      <th>4</th>\n",
              "      <td>0.000000</td>\n",
              "      <td>0.00000</td>\n",
              "      <td>0.0</td>\n",
              "      <td>0.0</td>\n",
              "      <td>0.0</td>\n",
              "      <td>0.0</td>\n",
              "      <td>0.0</td>\n",
              "      <td>0.000000</td>\n",
              "      <td>0.0</td>\n",
              "      <td>0.0</td>\n",
              "      <td>0.0</td>\n",
              "      <td>0.000000</td>\n",
              "      <td>0.0</td>\n",
              "      <td>0.0</td>\n",
              "      <td>0.0</td>\n",
              "      <td>0.0</td>\n",
              "      <td>0.0</td>\n",
              "      <td>0.0</td>\n",
              "      <td>0.0</td>\n",
              "      <td>0.0</td>\n",
              "      <td>0.0</td>\n",
              "      <td>0.0</td>\n",
              "      <td>0.0</td>\n",
              "      <td>0.0</td>\n",
              "      <td>0.0</td>\n",
              "      <td>0.0</td>\n",
              "      <td>0.0</td>\n",
              "      <td>0.0</td>\n",
              "      <td>0.0</td>\n",
              "      <td>0.0</td>\n",
              "      <td>0.0</td>\n",
              "      <td>0.0</td>\n",
              "      <td>0.0</td>\n",
              "      <td>0.0</td>\n",
              "      <td>0.0</td>\n",
              "      <td>0.0</td>\n",
              "      <td>0.0</td>\n",
              "      <td>0.0</td>\n",
              "      <td>0.0</td>\n",
              "      <td>0.0</td>\n",
              "      <td>...</td>\n",
              "      <td>0.0</td>\n",
              "      <td>0.0</td>\n",
              "      <td>0.0</td>\n",
              "      <td>0.0</td>\n",
              "      <td>0.000000</td>\n",
              "      <td>0.0</td>\n",
              "      <td>0.0</td>\n",
              "      <td>0.0</td>\n",
              "      <td>0.0</td>\n",
              "      <td>0.0</td>\n",
              "      <td>0.0</td>\n",
              "      <td>0.0</td>\n",
              "      <td>0.0</td>\n",
              "      <td>0.0</td>\n",
              "      <td>0.0</td>\n",
              "      <td>0.0</td>\n",
              "      <td>0.000000</td>\n",
              "      <td>0.0</td>\n",
              "      <td>0.0</td>\n",
              "      <td>0.0</td>\n",
              "      <td>0.0</td>\n",
              "      <td>0.0</td>\n",
              "      <td>0.000000</td>\n",
              "      <td>0.0</td>\n",
              "      <td>0.0</td>\n",
              "      <td>0.0</td>\n",
              "      <td>0.0</td>\n",
              "      <td>0.0</td>\n",
              "      <td>0.0</td>\n",
              "      <td>0.0</td>\n",
              "      <td>0.0</td>\n",
              "      <td>0.0</td>\n",
              "      <td>0.0</td>\n",
              "      <td>0.0</td>\n",
              "      <td>0.0</td>\n",
              "      <td>0.0</td>\n",
              "      <td>0.0</td>\n",
              "      <td>0.0</td>\n",
              "      <td>0.0</td>\n",
              "      <td>0.0</td>\n",
              "    </tr>\n",
              "  </tbody>\n",
              "</table>\n",
              "<p>5 rows × 367 columns</p>\n",
              "</div>"
            ],
            "text/plain": [
              "        0        1    2    3    4    5    ...  361  362  363  364  365  366\n",
              "0  0.214291  0.00000  0.0  0.0  0.0  0.0  ...  0.0  0.0  0.0  0.0  0.0  0.0\n",
              "1  0.000000  0.00000  0.0  0.0  0.0  0.0  ...  0.0  0.0  0.0  0.0  0.0  0.0\n",
              "2  0.000000  0.00000  0.0  0.0  0.0  0.0  ...  0.0  0.0  0.0  0.0  0.0  0.0\n",
              "3  0.000000  0.54983  0.0  0.0  0.0  0.0  ...  0.0  0.0  0.0  0.0  0.0  0.0\n",
              "4  0.000000  0.00000  0.0  0.0  0.0  0.0  ...  0.0  0.0  0.0  0.0  0.0  0.0\n",
              "\n",
              "[5 rows x 367 columns]"
            ]
          },
          "metadata": {
            "tags": []
          },
          "execution_count": 33
        }
      ]
    },
    {
      "cell_type": "code",
      "metadata": {
        "colab_type": "code",
        "id": "x-tzbB1rDBov",
        "colab": {}
      },
      "source": [
        "# data"
      ],
      "execution_count": 0,
      "outputs": []
    },
    {
      "cell_type": "code",
      "metadata": {
        "colab_type": "code",
        "id": "xQLEo5bgzEIu",
        "outputId": "d1f44073-31e5-4e48-c0da-8a40ba4e5857",
        "colab": {
          "base_uri": "https://localhost:8080/",
          "height": 669
        }
      },
      "source": [
        "le = preprocessing.LabelEncoder() \n",
        "df_v2['Group']= le.fit_transform(df_v2['Group']) # LabelEncode 'Groups'\n",
        "df_v2.head(20) "
      ],
      "execution_count": 0,
      "outputs": [
        {
          "output_type": "execute_result",
          "data": {
            "text/html": [
              "<div>\n",
              "<style scoped>\n",
              "    .dataframe tbody tr th:only-of-type {\n",
              "        vertical-align: middle;\n",
              "    }\n",
              "\n",
              "    .dataframe tbody tr th {\n",
              "        vertical-align: top;\n",
              "    }\n",
              "\n",
              "    .dataframe thead th {\n",
              "        text-align: right;\n",
              "    }\n",
              "</style>\n",
              "<table border=\"1\" class=\"dataframe\">\n",
              "  <thead>\n",
              "    <tr style=\"text-align: right;\">\n",
              "      <th></th>\n",
              "      <th>Group</th>\n",
              "      <th>Summary</th>\n",
              "    </tr>\n",
              "  </thead>\n",
              "  <tbody>\n",
              "    <tr>\n",
              "      <th>0</th>\n",
              "      <td>0</td>\n",
              "      <td>login user checked user name ad reset advised ...</td>\n",
              "    </tr>\n",
              "    <tr>\n",
              "      <th>1</th>\n",
              "      <td>0</td>\n",
              "      <td>received team outlook calendar somebody advise...</td>\n",
              "    </tr>\n",
              "    <tr>\n",
              "      <th>2</th>\n",
              "      <td>0</td>\n",
              "      <td>cant log received cannot log</td>\n",
              "    </tr>\n",
              "    <tr>\n",
              "      <th>3</th>\n",
              "      <td>0</td>\n",
              "      <td>unable access tool unable access tool page</td>\n",
              "    </tr>\n",
              "    <tr>\n",
              "      <th>4</th>\n",
              "      <td>0</td>\n",
              "      <td>error error</td>\n",
              "    </tr>\n",
              "    <tr>\n",
              "      <th>5</th>\n",
              "      <td>0</td>\n",
              "      <td>unable log engineering tool unable log enginee...</td>\n",
              "    </tr>\n",
              "    <tr>\n",
              "      <th>6</th>\n",
              "      <td>1</td>\n",
              "      <td>event value threshold event value threshold</td>\n",
              "    </tr>\n",
              "    <tr>\n",
              "      <th>7</th>\n",
              "      <td>0</td>\n",
              "      <td>employment status new non employee employment ...</td>\n",
              "    </tr>\n",
              "    <tr>\n",
              "      <th>8</th>\n",
              "      <td>0</td>\n",
              "      <td>unable disable add unable disable add outlook</td>\n",
              "    </tr>\n",
              "    <tr>\n",
              "      <th>9</th>\n",
              "      <td>0</td>\n",
              "      <td>ticket update ticket update</td>\n",
              "    </tr>\n",
              "    <tr>\n",
              "      <th>10</th>\n",
              "      <td>0</td>\n",
              "      <td>engineering tool connected unable submit engin...</td>\n",
              "    </tr>\n",
              "    <tr>\n",
              "      <th>11</th>\n",
              "      <td>0</td>\n",
              "      <td>tool site loading page tool site loading page ...</td>\n",
              "    </tr>\n",
              "    <tr>\n",
              "      <th>12</th>\n",
              "      <td>0</td>\n",
              "      <td>unable login tool unable login tool</td>\n",
              "    </tr>\n",
              "    <tr>\n",
              "      <th>13</th>\n",
              "      <td>0</td>\n",
              "      <td>user reset user reset password</td>\n",
              "    </tr>\n",
              "    <tr>\n",
              "      <th>14</th>\n",
              "      <td>0</td>\n",
              "      <td>unable open unable open</td>\n",
              "    </tr>\n",
              "    <tr>\n",
              "      <th>15</th>\n",
              "      <td>0</td>\n",
              "      <td>ticket update ticket update</td>\n",
              "    </tr>\n",
              "    <tr>\n",
              "      <th>16</th>\n",
              "      <td>0</td>\n",
              "      <td>unable login company received unable login com...</td>\n",
              "    </tr>\n",
              "    <tr>\n",
              "      <th>17</th>\n",
              "      <td>23</td>\n",
              "      <td>screen come screen come back</td>\n",
              "    </tr>\n",
              "    <tr>\n",
              "      <th>18</th>\n",
              "      <td>0</td>\n",
              "      <td>account account locked</td>\n",
              "    </tr>\n",
              "    <tr>\n",
              "      <th>19</th>\n",
              "      <td>0</td>\n",
              "      <td>unable sign unable sign</td>\n",
              "    </tr>\n",
              "  </tbody>\n",
              "</table>\n",
              "</div>"
            ],
            "text/plain": [
              "    Group                                            Summary\n",
              "0       0  login user checked user name ad reset advised ...\n",
              "1       0  received team outlook calendar somebody advise...\n",
              "2       0                       cant log received cannot log\n",
              "3       0         unable access tool unable access tool page\n",
              "4       0                                        error error\n",
              "5       0  unable log engineering tool unable log enginee...\n",
              "6       1        event value threshold event value threshold\n",
              "7       0  employment status new non employee employment ...\n",
              "8       0      unable disable add unable disable add outlook\n",
              "9       0                        ticket update ticket update\n",
              "10      0  engineering tool connected unable submit engin...\n",
              "11      0  tool site loading page tool site loading page ...\n",
              "12      0                unable login tool unable login tool\n",
              "13      0                     user reset user reset password\n",
              "14      0                            unable open unable open\n",
              "15      0                        ticket update ticket update\n",
              "16      0  unable login company received unable login com...\n",
              "17     23                       screen come screen come back\n",
              "18      0                             account account locked\n",
              "19      0                            unable sign unable sign"
            ]
          },
          "metadata": {
            "tags": []
          },
          "execution_count": 35
        }
      ]
    },
    {
      "cell_type": "markdown",
      "metadata": {
        "id": "tBWVPuNjQK2R",
        "colab_type": "text"
      },
      "source": [
        "## Sampling Minority Class using RandomOverSampler\n"
      ]
    },
    {
      "cell_type": "code",
      "metadata": {
        "id": "CYCaJcDPQXEr",
        "colab_type": "code",
        "outputId": "ef7a3e90-52e4-4cdd-c877-c1219cb61d0b",
        "colab": {
          "base_uri": "https://localhost:8080/",
          "height": 34
        }
      },
      "source": [
        "# Getting the dataset ready (X and y)\n",
        "\n",
        "X = tfidf_db\n",
        "y = df_v2['Group']\n",
        "X.shape"
      ],
      "execution_count": 0,
      "outputs": [
        {
          "output_type": "execute_result",
          "data": {
            "text/plain": [
              "(8500, 367)"
            ]
          },
          "metadata": {
            "tags": []
          },
          "execution_count": 36
        }
      ]
    },
    {
      "cell_type": "code",
      "metadata": {
        "id": "EibGnHhO-BRd",
        "colab_type": "code",
        "outputId": "b433794e-75e7-48ad-83f9-a7f8cf5c35d8",
        "colab": {
          "base_uri": "https://localhost:8080/",
          "height": 51
        }
      },
      "source": [
        "X_maj = X[(y == 0)]\n",
        "y_maj = y[(y==0)]\n",
        "\n",
        "print(\"X shape = %f\",X_maj.shape)\n",
        "print(\"Y shape = %f\",y_maj.shape)"
      ],
      "execution_count": 0,
      "outputs": [
        {
          "output_type": "stream",
          "text": [
            "X shape = %f (3976, 367)\n",
            "Y shape = %f (3976,)\n"
          ],
          "name": "stdout"
        }
      ]
    },
    {
      "cell_type": "code",
      "metadata": {
        "id": "msDs4b7A-pCB",
        "colab_type": "code",
        "outputId": "67945040-59b7-459e-f18f-505cd42b0f3a",
        "colab": {
          "base_uri": "https://localhost:8080/",
          "height": 51
        }
      },
      "source": [
        "# Picking records from the Major class randomly\n",
        "X_maj = X_maj.sample(frac = 0.25) \n",
        "y_maj = y_maj[0:994]\n",
        "print(\"X shape = %f\",X_maj.shape)\n",
        "print(\"Y shape = %f\",y_maj.shape)"
      ],
      "execution_count": 0,
      "outputs": [
        {
          "output_type": "stream",
          "text": [
            "X shape = %f (994, 367)\n",
            "Y shape = %f (994,)\n"
          ],
          "name": "stdout"
        }
      ]
    },
    {
      "cell_type": "code",
      "metadata": {
        "id": "p8Fo2bMHAoh7",
        "colab_type": "code",
        "outputId": "ab1f8bda-50d8-4324-bf65-02324194ba74",
        "colab": {
          "base_uri": "https://localhost:8080/",
          "height": 34
        }
      },
      "source": [
        "#Drop X values for y==0 in X and then concatenate X_maj to the dataframe\n",
        "X_bal = X[y!=0]\n",
        "y_bal = y[y!=0]\n",
        "X_bal.shape\n",
        "y_bal.shape"
      ],
      "execution_count": 0,
      "outputs": [
        {
          "output_type": "execute_result",
          "data": {
            "text/plain": [
              "(4524,)"
            ]
          },
          "metadata": {
            "tags": []
          },
          "execution_count": 39
        }
      ]
    },
    {
      "cell_type": "code",
      "metadata": {
        "id": "k_bf2jxTAolq",
        "colab_type": "code",
        "outputId": "f58ef9de-a3c0-4694-986a-af68463c6445",
        "colab": {
          "base_uri": "https://localhost:8080/",
          "height": 51
        }
      },
      "source": [
        "sets_x = [X_bal,X_maj]\n",
        "X = pd.concat(sets_x)\n",
        "\n",
        "sets_y = [y_bal,y_maj]\n",
        "y = pd.concat(sets_y)\n",
        "print(\"X shape = %f\",X.shape)\n",
        "print(\"Y shape = %f\",y.shape)"
      ],
      "execution_count": 0,
      "outputs": [
        {
          "output_type": "stream",
          "text": [
            "X shape = %f (5518, 367)\n",
            "Y shape = %f (5518,)\n"
          ],
          "name": "stdout"
        }
      ]
    },
    {
      "cell_type": "code",
      "metadata": {
        "id": "t8fRl6aA64q0",
        "colab_type": "code",
        "outputId": "1e581d63-1426-4fa7-d720-03b740bc3774",
        "colab": {
          "base_uri": "https://localhost:8080/",
          "height": 581
        }
      },
      "source": [
        "# Checking the distribution of groups\n",
        "# import matplotlib.pyplot as plt\n",
        "# plt.hist(y_ros)\n",
        "\n",
        "plt.figure(figsize=(15,8))\n",
        "sns.countplot(y)\n",
        "plt.xticks(rotation=90, ha='right')\n",
        "plt.tight_layout()"
      ],
      "execution_count": 0,
      "outputs": [
        {
          "output_type": "display_data",
          "data": {
            "image/png": "[encoded data removed]",
            "text/plain": [
              "<Figure size 1080x576 with 1 Axes>"
            ]
          },
          "metadata": {
            "tags": []
          }
        }
      ]
    },
    {
      "cell_type": "code",
      "metadata": {
        "id": "9O0DrmaVYenY",
        "colab_type": "code",
        "outputId": "c84ea0d9-ba35-409d-d934-a028bd5a25d3",
        "colab": {
          "base_uri": "https://localhost:8080/",
          "height": 51
        }
      },
      "source": [
        "from imblearn.over_sampling import RandomOverSampler\n",
        "\n",
        "ros = RandomOverSampler()\n",
        "X_ros, y_ros = ros.fit_sample(X, y)\n",
        "\n",
        "print(\"X shape = %f\",X_ros.shape)\n",
        "print(\"Y shape = %f\",y_ros.shape)\n"
      ],
      "execution_count": 0,
      "outputs": [
        {
          "output_type": "stream",
          "text": [
            "X shape = %f (73556, 367)\n",
            "Y shape = %f (73556,)\n"
          ],
          "name": "stdout"
        }
      ]
    },
    {
      "cell_type": "code",
      "metadata": {
        "id": "vALwjAu7hLjN",
        "colab_type": "code",
        "outputId": "d4e936db-794b-40ab-e7fd-786e77fea25c",
        "colab": {
          "base_uri": "https://localhost:8080/",
          "height": 581
        }
      },
      "source": [
        "# Checking the distribution of groups\n",
        "# import matplotlib.pyplot as plt\n",
        "# plt.hist(y_ros)\n",
        "\n",
        "plt.figure(figsize=(15,8))\n",
        "sns.countplot(y_ros)\n",
        "plt.xticks(rotation=90, ha='right')\n",
        "plt.tight_layout()"
      ],
      "execution_count": 0,
      "outputs": [
        {
          "output_type": "display_data",
          "data": {
            "image/png": "[encoded data removed]",
            "text/plain": [
              "<Figure size 1080x576 with 1 Axes>"
            ]
          },
          "metadata": {
            "tags": []
          }
        }
      ]
    },
    {
      "cell_type": "markdown",
      "metadata": {
        "id": "HzMvwNaPujTm",
        "colab_type": "text"
      },
      "source": [
        "# Implementing K-Fold cross validator for the X and Y to avoid overfitting the test set\n"
      ]
    },
    {
      "cell_type": "code",
      "metadata": {
        "id": "4MylJnbvrTPh",
        "colab_type": "code",
        "outputId": "8797e0ca-653e-486e-ba33-da030eff4311",
        "colab": {
          "base_uri": "https://localhost:8080/",
          "height": 153
        }
      },
      "source": [
        "from sklearn.model_selection import StratifiedKFold\n",
        "\n",
        "skf = StratifiedKFold(n_splits=5)\n",
        "split_itr = skf.get_n_splits(X, y)\n",
        "\n",
        "print(skf)\n",
        "print(split_itr)\n",
        "StratifiedKFold(n_splits=5, random_state=None, shuffle=False)\n",
        "for train_index, test_index in skf.split(X_ros, y_ros):\n",
        "     print(\"TRAIN:\", train_index, \"TEST:\", test_index)\n",
        "     X_train, X_test = X_ros[train_index], X_ros[test_index]\n",
        "     y_train, y_test = y_ros[train_index], y_ros[test_index]\n",
        "X_train.shape"
      ],
      "execution_count": 0,
      "outputs": [
        {
          "output_type": "stream",
          "text": [
            "StratifiedKFold(n_splits=5, random_state=None, shuffle=False)\n",
            "5\n",
            "TRAIN: [ 1028  1030  1037 ... 73553 73554 73555] TEST: [    0     1     2 ... 71683 71684 71685]\n",
            "TRAIN: [    0     1     2 ... 73553 73554 73555] TEST: [ 1028  1030  1037 ... 72957 72958 72959]\n",
            "TRAIN: [    0     1     2 ... 73553 73554 73555] TEST: [ 2543  2544  2545 ... 73155 73156 73157]\n",
            "TRAIN: [    0     1     2 ... 73553 73554 73555] TEST: [ 4023  4025  4026 ... 73354 73355 73356]\n",
            "TRAIN: [    0     1     2 ... 73354 73355 73356] TEST: [ 5319  5320  5321 ... 73553 73554 73555]\n"
          ],
          "name": "stdout"
        },
        {
          "output_type": "execute_result",
          "data": {
            "text/plain": [
              "(58845, 367)"
            ]
          },
          "metadata": {
            "tags": []
          },
          "execution_count": 44
        }
      ]
    },
    {
      "cell_type": "code",
      "metadata": {
        "id": "RjqyfLHLRGNk",
        "colab_type": "code",
        "outputId": "7daa88a7-a18e-4eb2-93fd-7464e5971542",
        "colab": {
          "base_uri": "https://localhost:8080/",
          "height": 34
        }
      },
      "source": [
        "X_train.shape"
      ],
      "execution_count": 0,
      "outputs": [
        {
          "output_type": "execute_result",
          "data": {
            "text/plain": [
              "(58845, 367)"
            ]
          },
          "metadata": {
            "tags": []
          },
          "execution_count": 45
        }
      ]
    },
    {
      "cell_type": "markdown",
      "metadata": {
        "id": "9Gczg52_vL4_",
        "colab_type": "text"
      },
      "source": [
        "### DEEP LEARNING STARTS"
      ]
    },
    {
      "cell_type": "code",
      "metadata": {
        "id": "V3pvNhI33ofJ",
        "colab_type": "code",
        "colab": {}
      },
      "source": [
        "from tensorflow.keras.layers import  Dropout, Dense\n",
        "from tensorflow.keras.models import Sequential"
      ],
      "execution_count": 0,
      "outputs": []
    },
    {
      "cell_type": "code",
      "metadata": {
        "id": "FszMr-mCvKrQ",
        "colab_type": "code",
        "colab": {}
      },
      "source": [
        "# Build a DNN Model for Text classification\n",
        "\n",
        "def Model_DNN(shape, nClasses, dropout=0.5):\n",
        "    model = Sequential()\n",
        "    node = maxlen #512 # number of nodes\n",
        "    nLayers = 4 # number of  hidden layer\n",
        "\n",
        "    model.add(Dense(node,input_dim=shape,activation='relu'))\n",
        "    model.add(Dropout(dropout))\n",
        "    for i in range(0,nLayers):\n",
        "        model.add(Dense(node,input_dim=node,activation='relu'))\n",
        "        model.add(Dropout(dropout))\n",
        "    model.add(Dense(nClasses, activation='softmax'))\n",
        "    model.compile(loss='sparse_categorical_crossentropy',\n",
        "                  optimizer='adam',\n",
        "                  metrics=['accuracy'])\n",
        "    model.summary()  \n",
        "    return model\n"
      ],
      "execution_count": 0,
      "outputs": []
    },
    {
      "cell_type": "code",
      "metadata": {
        "id": "nnrnqT9h27xo",
        "colab_type": "code",
        "outputId": "49c6d650-831b-4cd1-fd2b-1ff212e5d2ff",
        "colab": {
          "base_uri": "https://localhost:8080/",
          "height": 1000
        }
      },
      "source": [
        "model_DNN = Model_DNN(X_train.shape[1], 74 )\n",
        "\n",
        "model_DNN.fit(X_train, y_train,\n",
        "                              validation_data=(X_test,y_test),\n",
        "                              epochs=20,\n",
        "                              batch_size=100,\n",
        "                              verbose=2)\n"
      ],
      "execution_count": 0,
      "outputs": [
        {
          "output_type": "stream",
          "text": [
            "Model: \"sequential\"\n",
            "_________________________________________________________________\n",
            "Layer (type)                 Output Shape              Param #   \n",
            "=================================================================\n",
            "dense (Dense)                (None, 367)               135056    \n",
            "_________________________________________________________________\n",
            "dropout (Dropout)            (None, 367)               0         \n",
            "_________________________________________________________________\n",
            "dense_1 (Dense)              (None, 367)               135056    \n",
            "_________________________________________________________________\n",
            "dropout_1 (Dropout)          (None, 367)               0         \n",
            "_________________________________________________________________\n",
            "dense_2 (Dense)              (None, 367)               135056    \n",
            "_________________________________________________________________\n",
            "dropout_2 (Dropout)          (None, 367)               0         \n",
            "_________________________________________________________________\n",
            "dense_3 (Dense)              (None, 367)               135056    \n",
            "_________________________________________________________________\n",
            "dropout_3 (Dropout)          (None, 367)               0         \n",
            "_________________________________________________________________\n",
            "dense_4 (Dense)              (None, 367)               135056    \n",
            "_________________________________________________________________\n",
            "dropout_4 (Dropout)          (None, 367)               0         \n",
            "_________________________________________________________________\n",
            "dense_5 (Dense)              (None, 74)                27232     \n",
            "=================================================================\n",
            "Total params: 702,512\n",
            "Trainable params: 702,512\n",
            "Non-trainable params: 0\n",
            "_________________________________________________________________\n",
            "Epoch 1/20\n",
            "589/589 - 2s - loss: 2.7997 - accuracy: 0.3006 - val_loss: 1.3012 - val_accuracy: 0.6529\n",
            "Epoch 2/20\n",
            "589/589 - 2s - loss: 1.3863 - accuracy: 0.6021 - val_loss: 0.8862 - val_accuracy: 0.7433\n",
            "Epoch 3/20\n",
            "589/589 - 2s - loss: 1.0770 - accuracy: 0.6798 - val_loss: 0.7286 - val_accuracy: 0.7856\n",
            "Epoch 4/20\n",
            "589/589 - 2s - loss: 0.9311 - accuracy: 0.7197 - val_loss: 0.6532 - val_accuracy: 0.8031\n",
            "Epoch 5/20\n",
            "589/589 - 2s - loss: 0.8476 - accuracy: 0.7433 - val_loss: 0.5952 - val_accuracy: 0.8238\n",
            "Epoch 6/20\n",
            "589/589 - 2s - loss: 0.7847 - accuracy: 0.7616 - val_loss: 0.5710 - val_accuracy: 0.8265\n",
            "Epoch 7/20\n",
            "589/589 - 2s - loss: 0.7372 - accuracy: 0.7745 - val_loss: 0.5442 - val_accuracy: 0.8358\n",
            "Epoch 8/20\n",
            "589/589 - 2s - loss: 0.7056 - accuracy: 0.7837 - val_loss: 0.5220 - val_accuracy: 0.8406\n",
            "Epoch 9/20\n",
            "589/589 - 2s - loss: 0.6823 - accuracy: 0.7912 - val_loss: 0.5051 - val_accuracy: 0.8445\n",
            "Epoch 10/20\n",
            "589/589 - 2s - loss: 0.6617 - accuracy: 0.7961 - val_loss: 0.5028 - val_accuracy: 0.8447\n",
            "Epoch 11/20\n",
            "589/589 - 2s - loss: 0.6435 - accuracy: 0.8007 - val_loss: 0.4907 - val_accuracy: 0.8479\n",
            "Epoch 12/20\n",
            "589/589 - 2s - loss: 0.6280 - accuracy: 0.8057 - val_loss: 0.4779 - val_accuracy: 0.8505\n",
            "Epoch 13/20\n",
            "589/589 - 2s - loss: 0.6156 - accuracy: 0.8102 - val_loss: 0.4741 - val_accuracy: 0.8505\n",
            "Epoch 14/20\n",
            "589/589 - 2s - loss: 0.6063 - accuracy: 0.8126 - val_loss: 0.4710 - val_accuracy: 0.8507\n",
            "Epoch 15/20\n",
            "589/589 - 2s - loss: 0.5941 - accuracy: 0.8162 - val_loss: 0.4636 - val_accuracy: 0.8525\n",
            "Epoch 16/20\n",
            "589/589 - 2s - loss: 0.5856 - accuracy: 0.8186 - val_loss: 0.4520 - val_accuracy: 0.8554\n",
            "Epoch 17/20\n",
            "589/589 - 2s - loss: 0.5771 - accuracy: 0.8197 - val_loss: 0.4528 - val_accuracy: 0.8532\n",
            "Epoch 18/20\n",
            "589/589 - 2s - loss: 0.5652 - accuracy: 0.8239 - val_loss: 0.4508 - val_accuracy: 0.8543\n",
            "Epoch 19/20\n",
            "589/589 - 2s - loss: 0.5635 - accuracy: 0.8247 - val_loss: 0.4476 - val_accuracy: 0.8542\n",
            "Epoch 20/20\n",
            "589/589 - 2s - loss: 0.5561 - accuracy: 0.8255 - val_loss: 0.4446 - val_accuracy: 0.8562\n"
          ],
          "name": "stdout"
        },
        {
          "output_type": "execute_result",
          "data": {
            "text/plain": [
              "<tensorflow.python.keras.callbacks.History at 0x7f45c00b6668>"
            ]
          },
          "metadata": {
            "tags": []
          },
          "execution_count": 57
        }
      ]
    },
    {
      "cell_type": "code",
      "metadata": {
        "id": "jDR0L-HVEVWF",
        "colab_type": "code",
        "outputId": "f6ef19d7-83f7-4b82-a760-b953b423ae0b",
        "colab": {
          "base_uri": "https://localhost:8080/",
          "height": 51
        }
      },
      "source": [
        "# Final evaluation of the model\n",
        "\n",
        "scores_DNN_train = model_DNN.evaluate(X_train, y_train, verbose=0)\n",
        "scores_DNN_test = model_DNN.evaluate(X_test, y_test, verbose=0)\n",
        "print(\"Train Acc: %.2f%\",  (scores_DNN_train[1]*100))\n",
        "print(\"Test Acc: %.2f%\",  (scores_DNN_test[1]*100))\n",
        "\n",
        "# scores_DNN_train"
      ],
      "execution_count": 0,
      "outputs": [
        {
          "output_type": "stream",
          "text": [
            "Train Acc: %.2f% 86.16874814033508\n",
            "Test Acc: %.2f% 85.61620712280273\n"
          ],
          "name": "stdout"
        }
      ]
    },
    {
      "cell_type": "markdown",
      "metadata": {
        "id": "NzTlccMVuz4P",
        "colab_type": "text"
      },
      "source": [
        "# To include Stratified k-FOLD enable the following cell of code"
      ]
    },
    {
      "cell_type": "code",
      "metadata": {
        "id": "sn6LNYWazy0Z",
        "colab_type": "code",
        "colab": {}
      },
      "source": [
        "# import numpy as np\n",
        "# kfold = StratifiedKFold(n_splits=10, shuffle=True, random_state=43)\n",
        "# cvscores = []\n",
        "# for train_index, test_index in kfold.split(X_ros, y_ros):\n",
        "#     # create model\n",
        "#     node = maxlen #512 # number of nodes\n",
        "#     nLayers = 4 # number of  hidden layer\n",
        "    \n",
        "#     model = Sequential()\n",
        "#     model.add(Dense(node,input_dim=367,activation='relu'))\n",
        "#     model.add(Dropout(0.5))\n",
        "#     for i in range(0,nLayers):\n",
        "#         model.add(Dense(node,input_dim=node,activation='relu'))\n",
        "#         model.add(Dropout(0.5))\n",
        "#     model.add(Dense(74, activation='softmax'))\n",
        "#     model.compile(loss='sparse_categorical_crossentropy', optimizer='adam', metrics=['accuracy'])\n",
        "#     model.fit(X_train,y_train,epochs=20,batch_size=100, verbose=0)\n",
        "#     scores = model.evaluate(X_test,y_test, verbose=0)\n",
        "#     print(\"%s: %.2f%%\" % (model.metrics_names[1], scores[1]*100))\n",
        "#     cvscores.append(scores[1]*100)\n",
        "# print(\"%.2f%% (+/- %.2f%%)\" % (np.mean(cvscores), np.std(cvscores)))"
      ],
      "execution_count": 0,
      "outputs": []
    },
    {
      "cell_type": "code",
      "metadata": {
        "id": "r7njPpwdLYIj",
        "colab_type": "code",
        "outputId": "cf720bcc-01e2-449b-eee1-26a749ae50ab",
        "colab": {
          "base_uri": "https://localhost:8080/",
          "height": 68
        }
      },
      "source": [
        "pip install h5py\n"
      ],
      "execution_count": 0,
      "outputs": [
        {
          "output_type": "stream",
          "text": [
            "Requirement already satisfied: h5py in /usr/local/lib/python3.6/dist-packages (2.10.0)\n",
            "Requirement already satisfied: numpy>=1.7 in /usr/local/lib/python3.6/dist-packages (from h5py) (1.18.2)\n",
            "Requirement already satisfied: six in /usr/local/lib/python3.6/dist-packages (from h5py) (1.12.0)\n"
          ],
          "name": "stdout"
        }
      ]
    },
    {
      "cell_type": "markdown",
      "metadata": {
        "id": "TYfGnpEgvTMh",
        "colab_type": "text"
      },
      "source": [
        "# Save weights to re-use for retraining, May not be required if using k-fold"
      ]
    },
    {
      "cell_type": "code",
      "metadata": {
        "id": "b3BzXNM7GH6E",
        "colab_type": "code",
        "outputId": "41f15ded-da33-45ae-b33d-4ee47b466f7b",
        "colab": {
          "base_uri": "https://localhost:8080/",
          "height": 34
        }
      },
      "source": [
        "# # Saving weights to use later:\n",
        "# from tensorflow.keras.models import model_from_json\n",
        "\n",
        "# # serialize model to JSON\n",
        "# model_json = model_DNN.to_json()\n",
        "# with open(\"model_DNN.json\", \"w\") as json_file:\n",
        "#     json_file.write(model_json)\n",
        "# # serialize weights to HDF5\n",
        "# model_DNN.save_weights(\"model.h5\")\n",
        "# print(\"Saved model to disk\")"
      ],
      "execution_count": 0,
      "outputs": [
        {
          "output_type": "stream",
          "text": [
            "Saved model to disk\n"
          ],
          "name": "stdout"
        }
      ]
    },
    {
      "cell_type": "code",
      "metadata": {
        "id": "GN-cF4SeGH9V",
        "colab_type": "code",
        "outputId": "f3501729-7a8a-4de4-9668-fc952d1756c4",
        "colab": {
          "base_uri": "https://localhost:8080/",
          "height": 51
        }
      },
      "source": [
        "# # load json and create model\n",
        "# json_file = open('model_DNN.json', 'r')\n",
        "# loaded_model_json = json_file.read()\n",
        "# json_file.close()\n",
        "# loaded_model = model_from_json(loaded_model_json)\n",
        "# # load weights into new model\n",
        "# loaded_model.load_weights(\"model.h5\")\n",
        "# print(\"Loaded model from disk\")\n",
        "\n",
        "# # evaluate loaded model on test data\n",
        "# loaded_model.compile(loss='sparse_categorical_crossentropy', optimizer='adam', metrics=['accuracy'])\n",
        "# score_test = loaded_model.evaluate(X_test, y_test, verbose=0)\n",
        "# print(\"Accuracy: %.2f%%\" % (score_test[1]*100))\n"
      ],
      "execution_count": 0,
      "outputs": [
        {
          "output_type": "stream",
          "text": [
            "Loaded model from disk\n",
            "Accuracy: 85.62%\n"
          ],
          "name": "stdout"
        }
      ]
    },
    {
      "cell_type": "code",
      "metadata": {
        "id": "yYoY6jfWQXlI",
        "colab_type": "code",
        "colab": {}
      },
      "source": [
        "# # Retrain model with saved weights\n",
        "# json_file_retrain = open('model_DNN.json', 'r')\n",
        "# loaded_model_json_retrain = json_file_retrain.read()\n",
        "# json_file_retrain.close()\n",
        "# loaded_model_retrain = model_from_json(loaded_model_json_retrain)\n",
        "# # load weights into new model\n",
        "# loaded_model_retrain.load_weights(\"model.h5\")\n",
        "# print(\"Loaded model from disk\")\n",
        "\n",
        "# # evaluate loaded model on test data\n",
        "# loaded_model_retrain.compile(loss='sparse_categorical_crossentropy', optimizer='adam', metrics=['accuracy'])\n",
        "\n",
        "\n",
        "# loaded_model_retrain.fit(X_train_set2, y_train_set2, \n",
        "#                               validation_split=0.3,\n",
        "#                               epochs=100,\n",
        "#                               batch_size=38,\n",
        "#                               verbose=2)\n",
        "\n",
        "\n",
        "# score_test_re = loaded_model_retrain.evaluate(X_test, y_test, verbose=0)\n",
        "# print(\"Test Accuracy: %.2f%\" % (score_test_re[1]*100))"
      ],
      "execution_count": 0,
      "outputs": []
    },
    {
      "cell_type": "code",
      "metadata": {
        "id": "1wH9_1nMgkPv",
        "colab_type": "code",
        "colab": {}
      },
      "source": [
        "\n",
        "score_train_re = loaded_model_retrain.evaluate(X_test, y_test, verbose=0)\n",
        "print(\"Final Test Accuracy: %.2f%%\" % (score_train_re[1]*100))"
      ],
      "execution_count": 0,
      "outputs": []
    },
    {
      "cell_type": "code",
      "metadata": {
        "id": "TPURCjgPF8JT",
        "colab_type": "code",
        "colab": {}
      },
      "source": [
        ""
      ],
      "execution_count": 0,
      "outputs": []
    }
  ]
}